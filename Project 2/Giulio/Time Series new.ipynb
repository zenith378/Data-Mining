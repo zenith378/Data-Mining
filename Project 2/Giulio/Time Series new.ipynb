{
 "cells": [
  {
   "cell_type": "code",
   "execution_count": 456,
   "id": "03e27f32",
   "metadata": {},
   "outputs": [],
   "source": [
    "import pandas as pd\n",
    "import numpy as np\n",
    "import matplotlib.pyplot as plt\n",
    "import seaborn as sns\n",
    "import os\n",
    "import pickle\n",
    "from itertools import combinations\n",
    "from sklearn.metrics import classification_report, confusion_matrix, \\\n",
    "    accuracy_score\n",
    "from sklearn.model_selection import GridSearchCV\n",
    "from tslearn.neighbors import KNeighborsTimeSeriesClassifier as KNN\n",
    "from tslearn.metrics import dtw"
   ]
  },
  {
   "cell_type": "code",
   "execution_count": 2,
   "id": "fb56ee3f",
   "metadata": {},
   "outputs": [],
   "source": [
    "import matplotlib_inline.backend_inline\n",
    "matplotlib_inline.backend_inline.set_matplotlib_formats('png', 'pdf')\n",
    "plt.rcParams.update({'font.size': 12,\n",
    "                     'xtick.labelsize' : 12,\n",
    "                     'ytick.labelsize' : 12,\n",
    "                     'axes.grid': False})"
   ]
  },
  {
   "cell_type": "code",
   "execution_count": 3,
   "id": "974406c5",
   "metadata": {},
   "outputs": [],
   "source": [
    "def plot_confusion_mtx(cm: 'confusion matrix', labels = None, \n",
    "                       figsize = (3,3), binary = False, ax=None):\n",
    "    if ax is None:\n",
    "        fig = plt.figure(figsize=figsize)\n",
    "        ax = fig.add_subplot()\n",
    "    sns.heatmap(cm, annot = True, fmt = '0', annot_kws = {\"fontsize\": 16}, \n",
    "                cmap = \"Blues\", cbar = False, ax = ax)\n",
    "    ax.set_xlabel('Predicted Class', fontsize = 14)\n",
    "    ax.set_ylabel('Actual Class', fontsize = 14)\n",
    "    if labels is None:\n",
    "        labels = range(1, cm.shape[1] + 1)     \n",
    "    ax.set_xticks(ax.get_xticks(), labels)\n",
    "    ax.set_yticks(ax.get_yticks(), labels)\n",
    "    if binary:\n",
    "        ax.set_xticks([0.5,1.5], [r'+', r'$-$'], fontsize = 18)\n",
    "        ax.set_yticks([0.5,1.5], [r'+', r'$-$'], fontsize = 18)\n",
    "        ax.xaxis.tick_top()\n",
    "        ax.xaxis.set_label_position('top')\n",
    "    return ax"
   ]
  },
  {
   "cell_type": "markdown",
   "id": "082e94b0",
   "metadata": {},
   "source": [
    "---"
   ]
  },
  {
   "cell_type": "markdown",
   "id": "645dec0e",
   "metadata": {},
   "source": [
    "# Load Data"
   ]
  },
  {
   "cell_type": "code",
   "execution_count": 17,
   "id": "af4b91e1",
   "metadata": {},
   "outputs": [
    {
     "name": "stdout",
     "output_type": "stream",
     "text": [
      "body_acc_x_train.txt\n",
      "body_acc_y_train.txt\n",
      "body_acc_z_train.txt\n",
      "body_gyro_x_train.txt\n",
      "body_gyro_y_train.txt\n",
      "body_gyro_z_train.txt\n",
      "total_acc_x_train.txt\n",
      "total_acc_y_train.txt\n",
      "total_acc_z_train.txt\n"
     ]
    }
   ],
   "source": [
    "# import all the train set files and create the 3d X_train\n",
    "\n",
    "dir_path = './UCI HAR Dataset/UCI HAR Dataset/train/Inertial Signals'\n",
    "X_train_lst = []\n",
    "file_names = []\n",
    "for file in os.scandir(dir_path):\n",
    "    print(file.name)\n",
    "    file_names.append(file.name[:-4])\n",
    "    X = pd.read_fwf(file.path, header=None).values[:, :, np.newaxis]\n",
    "    X_train_lst.append(X)\n",
    "X_train = np.concatenate(X_train_lst, axis=2)\n",
    "y_train = pd.read_fwf(\".\\y_train.txt\", header = None)[0]"
   ]
  },
  {
   "cell_type": "code",
   "execution_count": 5,
   "id": "3d9b9625",
   "metadata": {},
   "outputs": [
    {
     "name": "stdout",
     "output_type": "stream",
     "text": [
      "(7352, 128, 9)\n",
      "(7352,)\n"
     ]
    }
   ],
   "source": [
    "print(X_train.shape, y_train.shape, sep='\\n')"
   ]
  },
  {
   "cell_type": "code",
   "execution_count": 6,
   "id": "d3281f16",
   "metadata": {},
   "outputs": [
    {
     "name": "stdout",
     "output_type": "stream",
     "text": [
      "body_acc_x_test.txt\n",
      "body_acc_y_test.txt\n",
      "body_acc_z_test.txt\n",
      "body_gyro_x_test.txt\n",
      "body_gyro_y_test.txt\n",
      "body_gyro_z_test.txt\n",
      "total_acc_x_test.txt\n",
      "total_acc_y_test.txt\n",
      "total_acc_z_test.txt\n"
     ]
    }
   ],
   "source": [
    "# import all the test sets files and create the 3d X_test\n",
    "\n",
    "dir_path = './UCI HAR Dataset/UCI HAR Dataset/test/Inertial Signals'\n",
    "X_test_lst = []\n",
    "for file in os.scandir(dir_path):\n",
    "    print(file.name)\n",
    "    X = pd.read_fwf(file.path, header=None).values[:, :, np.newaxis]\n",
    "    X_test_lst.append(X)\n",
    "X_test = np.concatenate(X_test_lst, axis=2)\n",
    "y_test = pd.read_fwf(\".\\y_test.txt\", header = None)[0]"
   ]
  },
  {
   "cell_type": "code",
   "execution_count": 7,
   "id": "a3bccd94",
   "metadata": {},
   "outputs": [
    {
     "name": "stdout",
     "output_type": "stream",
     "text": [
      "(2947, 128, 9)\n",
      "(2947,)\n"
     ]
    }
   ],
   "source": [
    "print(X_test.shape, y_test.shape, sep='\\n')"
   ]
  },
  {
   "cell_type": "code",
   "execution_count": 8,
   "id": "069f18fa",
   "metadata": {},
   "outputs": [],
   "source": [
    "with open('activity_labels.txt') as f:\n",
    "    lines = f.read().splitlines()\n",
    "\n",
    "activities = {}\n",
    "for line in lines:\n",
    "    label, activity = line.split()\n",
    "    activities[int(label)] = activity"
   ]
  },
  {
   "cell_type": "code",
   "execution_count": 9,
   "id": "72f77ac4",
   "metadata": {},
   "outputs": [],
   "source": [
    "y_train_mapped = y_train.map(activities)\n",
    "y_test_mapped = y_test.map(activities)"
   ]
  },
  {
   "cell_type": "markdown",
   "id": "06ae3310",
   "metadata": {},
   "source": [
    "---"
   ]
  },
  {
   "cell_type": "markdown",
   "id": "6ebb5726",
   "metadata": {},
   "source": [
    "# Datasets selection "
   ]
  },
  {
   "cell_type": "code",
   "execution_count": 16,
   "id": "0797baed",
   "metadata": {},
   "outputs": [
    {
     "data": {
      "text/plain": [
       "(7352, 128, 9)"
      ]
     },
     "execution_count": 16,
     "metadata": {},
     "output_type": "execute_result"
    }
   ],
   "source": [
    "X_train.shape"
   ]
  },
  {
   "cell_type": "code",
   "execution_count": 10,
   "id": "7b39d625",
   "metadata": {},
   "outputs": [],
   "source": [
    "# using all 9 files\n",
    "\n",
    "knn = KNN(n_neighbors=1, metric = 'euclidean', n_jobs = -1)\n",
    "knn.fit(X_train, y_train)\n",
    "y_pred = knn.predict(X_test)"
   ]
  },
  {
   "cell_type": "code",
   "execution_count": 11,
   "id": "403fb0fb",
   "metadata": {},
   "outputs": [
    {
     "name": "stdout",
     "output_type": "stream",
     "text": [
      "              precision    recall  f1-score   support\n",
      "\n",
      "           1       0.96      0.71      0.82       496\n",
      "           2       0.97      0.69      0.81       471\n",
      "           3       0.99      0.35      0.52       420\n",
      "           4       0.65      0.79      0.72       491\n",
      "           5       0.44      0.79      0.57       532\n",
      "           6       1.00      1.00      1.00       537\n",
      "\n",
      "    accuracy                           0.74      2947\n",
      "   macro avg       0.83      0.72      0.74      2947\n",
      "weighted avg       0.83      0.74      0.75      2947\n",
      "\n"
     ]
    }
   ],
   "source": [
    "print(classification_report(y_test, y_pred))"
   ]
  },
  {
   "cell_type": "code",
   "execution_count": 12,
   "id": "a8734a28",
   "metadata": {},
   "outputs": [],
   "source": [
    "# using 6 files\n",
    "\n",
    "knn = KNN(n_neighbors=1, metric = 'euclidean', n_jobs = -1)\n",
    "knn.fit(X_train[:,:,:6], y_train)\n",
    "y_pred = knn.predict(X_test[:,:,:6])"
   ]
  },
  {
   "cell_type": "code",
   "execution_count": 13,
   "id": "d1448879",
   "metadata": {},
   "outputs": [
    {
     "name": "stdout",
     "output_type": "stream",
     "text": [
      "              precision    recall  f1-score   support\n",
      "\n",
      "           1       0.97      0.69      0.81       496\n",
      "           2       0.96      0.68      0.79       471\n",
      "           3       0.98      0.28      0.43       420\n",
      "           4       0.51      0.76      0.61       491\n",
      "           5       0.49      0.64      0.55       532\n",
      "           6       0.52      0.69      0.59       537\n",
      "\n",
      "    accuracy                           0.63      2947\n",
      "   macro avg       0.74      0.62      0.63      2947\n",
      "weighted avg       0.72      0.63      0.63      2947\n",
      "\n"
     ]
    }
   ],
   "source": [
    "print(classification_report(y_test, y_pred))"
   ]
  },
  {
   "cell_type": "code",
   "execution_count": 14,
   "id": "d6348bf6",
   "metadata": {},
   "outputs": [],
   "source": [
    "# using 3 files\n",
    "\n",
    "knn = KNN(n_neighbors=1, metric = 'euclidean', n_jobs = -1)\n",
    "knn.fit(X_train[:,:,:3], y_train)\n",
    "y_pred = knn.predict(X_test[:,:,:3])"
   ]
  },
  {
   "cell_type": "code",
   "execution_count": 15,
   "id": "964e9df1",
   "metadata": {},
   "outputs": [
    {
     "name": "stdout",
     "output_type": "stream",
     "text": [
      "              precision    recall  f1-score   support\n",
      "\n",
      "           1       0.86      0.91      0.89       496\n",
      "           2       0.93      0.84      0.88       471\n",
      "           3       1.00      0.91      0.95       420\n",
      "           4       0.44      0.53      0.48       491\n",
      "           5       0.53      0.52      0.53       532\n",
      "           6       0.70      0.65      0.68       537\n",
      "\n",
      "    accuracy                           0.72      2947\n",
      "   macro avg       0.74      0.73      0.73      2947\n",
      "weighted avg       0.73      0.72      0.72      2947\n",
      "\n"
     ]
    }
   ],
   "source": [
    "print(classification_report(y_test, y_pred))"
   ]
  },
  {
   "cell_type": "code",
   "execution_count": 229,
   "id": "78f58a56",
   "metadata": {
    "scrolled": false
   },
   "outputs": [
    {
     "name": "stdout",
     "output_type": "stream",
     "text": [
      "body_acc_x_train\n",
      "              precision    recall  f1-score   support\n",
      "\n",
      "           1       0.77      0.93      0.84       496\n",
      "           2       0.69      0.73      0.71       471\n",
      "           3       0.91      0.61      0.73       420\n",
      "           4       0.35      0.39      0.37       491\n",
      "           5       0.43      0.46      0.44       532\n",
      "           6       0.60      0.50      0.54       537\n",
      "\n",
      "    accuracy                           0.60      2947\n",
      "   macro avg       0.62      0.60      0.61      2947\n",
      "weighted avg       0.61      0.60      0.60      2947\n",
      "\n",
      "body_acc_y_train\n",
      "              precision    recall  f1-score   support\n",
      "\n",
      "           1       0.69      0.72      0.70       496\n",
      "           2       0.71      0.75      0.73       471\n",
      "           3       0.82      0.35      0.49       420\n",
      "           4       0.34      0.42      0.38       491\n",
      "           5       0.32      0.31      0.31       532\n",
      "           6       0.38      0.46      0.42       537\n",
      "\n",
      "    accuracy                           0.50      2947\n",
      "   macro avg       0.54      0.50      0.50      2947\n",
      "weighted avg       0.53      0.50      0.50      2947\n",
      "\n",
      "body_acc_z_train\n",
      "              precision    recall  f1-score   support\n",
      "\n",
      "           1       0.57      0.76      0.65       496\n",
      "           2       0.74      0.65      0.69       471\n",
      "           3       0.77      0.26      0.39       420\n",
      "           4       0.28      0.32      0.30       491\n",
      "           5       0.33      0.34      0.34       532\n",
      "           6       0.37      0.43      0.40       537\n",
      "\n",
      "    accuracy                           0.46      2947\n",
      "   macro avg       0.51      0.46      0.46      2947\n",
      "weighted avg       0.50      0.46      0.46      2947\n",
      "\n",
      "body_gyro_x_train\n",
      "              precision    recall  f1-score   support\n",
      "\n",
      "           1       0.89      0.70      0.78       496\n",
      "           2       0.67      0.59      0.63       471\n",
      "           3       0.86      0.48      0.62       420\n",
      "           4       0.48      0.60      0.53       491\n",
      "           5       0.48      0.50      0.49       532\n",
      "           6       0.40      0.55      0.46       537\n",
      "\n",
      "    accuracy                           0.57      2947\n",
      "   macro avg       0.63      0.57      0.59      2947\n",
      "weighted avg       0.62      0.57      0.58      2947\n",
      "\n",
      "body_gyro_y_train\n",
      "              precision    recall  f1-score   support\n",
      "\n",
      "           1       0.74      0.69      0.72       496\n",
      "           2       0.78      0.55      0.65       471\n",
      "           3       0.58      0.21      0.31       420\n",
      "           4       0.27      0.36      0.31       491\n",
      "           5       0.28      0.35      0.31       532\n",
      "           6       0.36      0.45      0.40       537\n",
      "\n",
      "    accuracy                           0.44      2947\n",
      "   macro avg       0.50      0.44      0.45      2947\n",
      "weighted avg       0.49      0.44      0.45      2947\n",
      "\n",
      "body_gyro_z_train\n",
      "              precision    recall  f1-score   support\n",
      "\n",
      "           1       0.71      0.70      0.70       496\n",
      "           2       0.80      0.80      0.80       471\n",
      "           3       0.81      0.24      0.37       420\n",
      "           4       0.37      0.48      0.42       491\n",
      "           5       0.34      0.37      0.35       532\n",
      "           6       0.50      0.59      0.54       537\n",
      "\n",
      "    accuracy                           0.54      2947\n",
      "   macro avg       0.59      0.53      0.53      2947\n",
      "weighted avg       0.58      0.54      0.53      2947\n",
      "\n",
      "total_acc_x_train\n",
      "              precision    recall  f1-score   support\n",
      "\n",
      "           1       0.78      0.98      0.87       496\n",
      "           2       0.75      0.73      0.74       471\n",
      "           3       0.94      0.65      0.77       420\n",
      "           4       0.53      0.53      0.53       491\n",
      "           5       0.57      0.57      0.57       532\n",
      "           6       1.00      1.00      1.00       537\n",
      "\n",
      "    accuracy                           0.75      2947\n",
      "   macro avg       0.76      0.74      0.75      2947\n",
      "weighted avg       0.76      0.75      0.75      2947\n",
      "\n",
      "total_acc_y_train\n",
      "              precision    recall  f1-score   support\n",
      "\n",
      "           1       0.68      0.56      0.62       496\n",
      "           2       0.70      0.75      0.73       471\n",
      "           3       0.72      0.28      0.40       420\n",
      "           4       0.57      0.69      0.63       491\n",
      "           5       0.55      0.66      0.60       532\n",
      "           6       0.76      0.90      0.83       537\n",
      "\n",
      "    accuracy                           0.65      2947\n",
      "   macro avg       0.66      0.64      0.63      2947\n",
      "weighted avg       0.66      0.65      0.64      2947\n",
      "\n",
      "total_acc_z_train\n",
      "              precision    recall  f1-score   support\n",
      "\n",
      "           1       0.56      0.61      0.58       496\n",
      "           2       0.68      0.58      0.63       471\n",
      "           3       0.78      0.25      0.38       420\n",
      "           4       0.35      0.49      0.41       491\n",
      "           5       0.44      0.62      0.52       532\n",
      "           6       0.78      0.64      0.70       537\n",
      "\n",
      "    accuracy                           0.54      2947\n",
      "   macro avg       0.60      0.53      0.54      2947\n",
      "weighted avg       0.59      0.54      0.54      2947\n",
      "\n"
     ]
    }
   ],
   "source": [
    "# using 1 file at time\n",
    "\n",
    "acc_lst_128 = []\n",
    "for i in range(9):\n",
    "    knn = KNN(n_neighbors=1, metric = 'euclidean', n_jobs = -1)\n",
    "    knn.fit(X_train[:,:,i], y_train)\n",
    "    y_pred = knn.predict(X_test[:,:,i])\n",
    "    print(file_names[i])\n",
    "    print(classification_report(y_test, y_pred))\n",
    "    accuracy = accuracy_score(y_test, y_pred)\n",
    "    acc_lst_128.append(accuracy)"
   ]
  },
  {
   "cell_type": "markdown",
   "id": "0b1411f1",
   "metadata": {},
   "source": [
    "Datasets with total acceleration are the ones that have a better performance"
   ]
  },
  {
   "cell_type": "code",
   "execution_count": 45,
   "id": "321a1d92",
   "metadata": {},
   "outputs": [
    {
     "name": "stdout",
     "output_type": "stream",
     "text": [
      "              precision    recall  f1-score   support\n",
      "\n",
      "           1       0.88      0.72      0.79       496\n",
      "           2       0.89      0.76      0.82       471\n",
      "           3       1.00      0.75      0.85       420\n",
      "           4       0.63      0.76      0.69       491\n",
      "           5       0.58      0.75      0.65       532\n",
      "           6       1.00      1.00      1.00       537\n",
      "\n",
      "    accuracy                           0.79      2947\n",
      "   macro avg       0.83      0.79      0.80      2947\n",
      "weighted avg       0.82      0.79      0.80      2947\n",
      "\n"
     ]
    }
   ],
   "source": [
    "# using only total_acc files\n",
    "\n",
    "knn = KNN(n_neighbors=1, metric = 'euclidean', n_jobs = -1)\n",
    "knn.fit(X_train[:,:,6:9], y_train)\n",
    "y_pred = knn.predict(X_test[:,:,6:9])\n",
    "\n",
    "print(classification_report(y_test, y_pred))"
   ]
  },
  {
   "cell_type": "markdown",
   "id": "5dc717c6",
   "metadata": {},
   "source": [
    "---"
   ]
  },
  {
   "cell_type": "markdown",
   "id": "b6db88ca",
   "metadata": {},
   "source": [
    "Now we do the same but using 64 timestamps"
   ]
  },
  {
   "cell_type": "code",
   "execution_count": 96,
   "id": "4b10dffb",
   "metadata": {},
   "outputs": [],
   "source": [
    "# create the 3d X_train with 64 timestamps\n",
    "\n",
    "X_train_lst_64 = []\n",
    "# we append the second last label (i.e 2) to the new last record\n",
    "y_train_64 = pd.concat([y_train, pd.Series(2)], ignore_index = True)\n",
    "for X in X_train_lst:\n",
    "    last_row = X[-1:,64:]\n",
    "    first64 = X[:,:64]\n",
    "    X_64 = np.concatenate([first64, last_row])\n",
    "    X_train_lst_64.append(X_64)\n",
    "X_train_64 = np.concatenate(X_train_lst_64, axis=2)"
   ]
  },
  {
   "cell_type": "code",
   "execution_count": 97,
   "id": "2fa2d89c",
   "metadata": {},
   "outputs": [
    {
     "data": {
      "text/plain": [
       "(7353, 64, 9)"
      ]
     },
     "execution_count": 97,
     "metadata": {},
     "output_type": "execute_result"
    }
   ],
   "source": [
    "X_train_64.shape"
   ]
  },
  {
   "cell_type": "code",
   "execution_count": 101,
   "id": "a4864a89",
   "metadata": {},
   "outputs": [],
   "source": [
    "# create the 3d X_test with 64 timestamps\n",
    "\n",
    "X_test_lst_64 = []\n",
    "# we append the second last label (i.e 2) to the new last record\n",
    "y_test_64 = pd.concat([y_test, pd.Series(2)], ignore_index = True)\n",
    "for X in X_test_lst:\n",
    "    last_row = X[-1:,64:]\n",
    "    first64 = X[:,:64]\n",
    "    X_64 = np.concatenate([first64, last_row])\n",
    "    X_test_lst_64.append(X_64)\n",
    "X_test_64 = np.concatenate(X_test_lst_64, axis=2)"
   ]
  },
  {
   "cell_type": "code",
   "execution_count": 102,
   "id": "4248e1cb",
   "metadata": {},
   "outputs": [
    {
     "data": {
      "text/plain": [
       "(2948, 64, 9)"
      ]
     },
     "execution_count": 102,
     "metadata": {},
     "output_type": "execute_result"
    }
   ],
   "source": [
    "X_test_64.shape"
   ]
  },
  {
   "cell_type": "code",
   "execution_count": 103,
   "id": "e894a9a9",
   "metadata": {},
   "outputs": [],
   "source": [
    "# using all 9 files\n",
    "\n",
    "knn = KNN(n_neighbors=1, metric = 'euclidean', n_jobs = -1)\n",
    "knn.fit(X_train_64, y_train_64)\n",
    "y_pred = knn.predict(X_test_64)"
   ]
  },
  {
   "cell_type": "code",
   "execution_count": 104,
   "id": "4c63a621",
   "metadata": {},
   "outputs": [
    {
     "name": "stdout",
     "output_type": "stream",
     "text": [
      "              precision    recall  f1-score   support\n",
      "\n",
      "           1       0.93      0.80      0.86       496\n",
      "           2       0.96      0.81      0.88       472\n",
      "           3       0.99      0.54      0.69       420\n",
      "           4       0.70      0.80      0.75       491\n",
      "           5       0.52      0.78      0.62       532\n",
      "           6       1.00      1.00      1.00       537\n",
      "\n",
      "    accuracy                           0.80      2948\n",
      "   macro avg       0.85      0.79      0.80      2948\n",
      "weighted avg       0.84      0.80      0.80      2948\n",
      "\n"
     ]
    }
   ],
   "source": [
    "print(classification_report(y_test_64, y_pred))"
   ]
  },
  {
   "cell_type": "code",
   "execution_count": 105,
   "id": "2afc8313",
   "metadata": {},
   "outputs": [],
   "source": [
    "# using first 6 files\n",
    "\n",
    "knn = KNN(n_neighbors=1, metric = 'euclidean', n_jobs = -1)\n",
    "knn.fit(X_train_64[:,:,:6], y_train_64)\n",
    "y_pred = knn.predict(X_test_64[:,:,:6])"
   ]
  },
  {
   "cell_type": "code",
   "execution_count": 106,
   "id": "b2c259ab",
   "metadata": {},
   "outputs": [
    {
     "name": "stdout",
     "output_type": "stream",
     "text": [
      "              precision    recall  f1-score   support\n",
      "\n",
      "           1       0.93      0.76      0.84       496\n",
      "           2       0.91      0.78      0.84       472\n",
      "           3       0.99      0.41      0.58       420\n",
      "           4       0.55      0.71      0.62       491\n",
      "           5       0.49      0.64      0.56       532\n",
      "           6       0.58      0.69      0.63       537\n",
      "\n",
      "    accuracy                           0.67      2948\n",
      "   macro avg       0.74      0.67      0.68      2948\n",
      "weighted avg       0.73      0.67      0.68      2948\n",
      "\n"
     ]
    }
   ],
   "source": [
    "print(classification_report(y_test_64, y_pred))"
   ]
  },
  {
   "cell_type": "code",
   "execution_count": 107,
   "id": "e0eec8e5",
   "metadata": {},
   "outputs": [],
   "source": [
    "# using first 3 files\n",
    "\n",
    "knn = KNN(n_neighbors=1, metric = 'euclidean', n_jobs = -1)\n",
    "knn.fit(X_train_64[:,:,:3], y_train_64)\n",
    "y_pred = knn.predict(X_test_64[:,:,:3])"
   ]
  },
  {
   "cell_type": "code",
   "execution_count": 108,
   "id": "252ed305",
   "metadata": {},
   "outputs": [
    {
     "name": "stdout",
     "output_type": "stream",
     "text": [
      "              precision    recall  f1-score   support\n",
      "\n",
      "           1       0.91      0.97      0.94       496\n",
      "           2       0.94      0.89      0.91       472\n",
      "           3       1.00      0.94      0.97       420\n",
      "           4       0.44      0.50      0.47       491\n",
      "           5       0.53      0.52      0.52       532\n",
      "           6       0.69      0.65      0.67       537\n",
      "\n",
      "    accuracy                           0.73      2948\n",
      "   macro avg       0.75      0.74      0.75      2948\n",
      "weighted avg       0.74      0.73      0.74      2948\n",
      "\n"
     ]
    }
   ],
   "source": [
    "print(classification_report(y_test_64, y_pred))"
   ]
  },
  {
   "cell_type": "code",
   "execution_count": 230,
   "id": "e4b0d835",
   "metadata": {
    "scrolled": false
   },
   "outputs": [
    {
     "name": "stdout",
     "output_type": "stream",
     "text": [
      "body_acc_x_train\n",
      "              precision    recall  f1-score   support\n",
      "\n",
      "           1       0.77      0.94      0.84       496\n",
      "           2       0.71      0.72      0.72       472\n",
      "           3       0.93      0.66      0.78       420\n",
      "           4       0.38      0.44      0.41       491\n",
      "           5       0.41      0.40      0.40       532\n",
      "           6       0.54      0.49      0.51       537\n",
      "\n",
      "    accuracy                           0.60      2948\n",
      "   macro avg       0.62      0.61      0.61      2948\n",
      "weighted avg       0.61      0.60      0.60      2948\n",
      "\n",
      "body_acc_y_train\n",
      "              precision    recall  f1-score   support\n",
      "\n",
      "           1       0.68      0.70      0.69       496\n",
      "           2       0.69      0.72      0.71       472\n",
      "           3       0.75      0.45      0.56       420\n",
      "           4       0.32      0.40      0.36       491\n",
      "           5       0.39      0.36      0.38       532\n",
      "           6       0.39      0.43      0.41       537\n",
      "\n",
      "    accuracy                           0.51      2948\n",
      "   macro avg       0.54      0.51      0.52      2948\n",
      "weighted avg       0.53      0.51      0.51      2948\n",
      "\n",
      "body_acc_z_train\n",
      "              precision    recall  f1-score   support\n",
      "\n",
      "           1       0.61      0.71      0.65       496\n",
      "           2       0.68      0.69      0.69       472\n",
      "           3       0.76      0.41      0.53       420\n",
      "           4       0.28      0.30      0.29       491\n",
      "           5       0.35      0.37      0.36       532\n",
      "           6       0.36      0.40      0.38       537\n",
      "\n",
      "    accuracy                           0.48      2948\n",
      "   macro avg       0.51      0.48      0.48      2948\n",
      "weighted avg       0.50      0.48      0.48      2948\n",
      "\n",
      "body_gyro_x_train\n",
      "              precision    recall  f1-score   support\n",
      "\n",
      "           1       0.80      0.66      0.72       496\n",
      "           2       0.53      0.53      0.53       472\n",
      "           3       0.71      0.38      0.49       420\n",
      "           4       0.46      0.52      0.49       491\n",
      "           5       0.44      0.50      0.47       532\n",
      "           6       0.38      0.48      0.42       537\n",
      "\n",
      "    accuracy                           0.51      2948\n",
      "   macro avg       0.55      0.51      0.52      2948\n",
      "weighted avg       0.55      0.51      0.52      2948\n",
      "\n",
      "body_gyro_y_train\n",
      "              precision    recall  f1-score   support\n",
      "\n",
      "           1       0.69      0.71      0.70       496\n",
      "           2       0.69      0.59      0.63       472\n",
      "           3       0.58      0.27      0.37       420\n",
      "           4       0.27      0.33      0.30       491\n",
      "           5       0.29      0.35      0.32       532\n",
      "           6       0.37      0.41      0.39       537\n",
      "\n",
      "    accuracy                           0.45      2948\n",
      "   macro avg       0.48      0.44      0.45      2948\n",
      "weighted avg       0.47      0.45      0.45      2948\n",
      "\n",
      "body_gyro_z_train\n",
      "              precision    recall  f1-score   support\n",
      "\n",
      "           1       0.68      0.67      0.67       496\n",
      "           2       0.68      0.77      0.72       472\n",
      "           3       0.72      0.34      0.46       420\n",
      "           4       0.37      0.43      0.40       491\n",
      "           5       0.37      0.41      0.39       532\n",
      "           6       0.51      0.54      0.52       537\n",
      "\n",
      "    accuracy                           0.53      2948\n",
      "   macro avg       0.55      0.53      0.53      2948\n",
      "weighted avg       0.55      0.53      0.53      2948\n",
      "\n",
      "total_acc_x_train\n",
      "              precision    recall  f1-score   support\n",
      "\n",
      "           1       0.77      0.98      0.87       496\n",
      "           2       0.76      0.72      0.74       472\n",
      "           3       0.94      0.68      0.79       420\n",
      "           4       0.55      0.54      0.54       491\n",
      "           5       0.58      0.59      0.58       532\n",
      "           6       1.00      1.00      1.00       537\n",
      "\n",
      "    accuracy                           0.76      2948\n",
      "   macro avg       0.77      0.75      0.75      2948\n",
      "weighted avg       0.76      0.76      0.75      2948\n",
      "\n",
      "total_acc_y_train\n",
      "              precision    recall  f1-score   support\n",
      "\n",
      "           1       0.68      0.62      0.65       496\n",
      "           2       0.70      0.77      0.73       472\n",
      "           3       0.69      0.40      0.50       420\n",
      "           4       0.59      0.68      0.63       491\n",
      "           5       0.67      0.66      0.67       532\n",
      "           6       0.76      0.90      0.83       537\n",
      "\n",
      "    accuracy                           0.68      2948\n",
      "   macro avg       0.68      0.67      0.67      2948\n",
      "weighted avg       0.68      0.68      0.68      2948\n",
      "\n",
      "total_acc_z_train\n",
      "              precision    recall  f1-score   support\n",
      "\n",
      "           1       0.59      0.62      0.60       496\n",
      "           2       0.70      0.64      0.67       472\n",
      "           3       0.79      0.37      0.51       420\n",
      "           4       0.35      0.48      0.40       491\n",
      "           5       0.48      0.61      0.54       532\n",
      "           6       0.77      0.63      0.69       537\n",
      "\n",
      "    accuracy                           0.56      2948\n",
      "   macro avg       0.61      0.56      0.57      2948\n",
      "weighted avg       0.61      0.56      0.57      2948\n",
      "\n"
     ]
    }
   ],
   "source": [
    "# using 1 file at time\n",
    "acc_lst_64 = []\n",
    "for i in range(9):\n",
    "    knn = KNN(n_neighbors=1, metric = 'euclidean', n_jobs = -1)\n",
    "    knn.fit(X_train_64[:,:,i], y_train_64)\n",
    "    y_pred = knn.predict(X_test_64[:,:,i])\n",
    "    print(file_names[i])\n",
    "    print(classification_report(y_test_64, y_pred))\n",
    "    accuracy = accuracy_score(y_test_64, y_pred)\n",
    "    acc_lst_64.append(accuracy)"
   ]
  },
  {
   "cell_type": "code",
   "execution_count": 110,
   "id": "22ba3cea",
   "metadata": {},
   "outputs": [
    {
     "name": "stdout",
     "output_type": "stream",
     "text": [
      "              precision    recall  f1-score   support\n",
      "\n",
      "           1       0.88      0.86      0.87       496\n",
      "           2       0.93      0.82      0.87       472\n",
      "           3       0.99      0.89      0.93       420\n",
      "           4       0.69      0.76      0.72       491\n",
      "           5       0.68      0.75      0.72       532\n",
      "           6       1.00      1.00      1.00       537\n",
      "\n",
      "    accuracy                           0.85      2948\n",
      "   macro avg       0.86      0.85      0.85      2948\n",
      "weighted avg       0.86      0.85      0.85      2948\n",
      "\n"
     ]
    }
   ],
   "source": [
    "# using only total_acc files\n",
    "\n",
    "knn = KNN(n_neighbors=1, metric = 'euclidean', n_jobs = -1)\n",
    "knn.fit(X_train_64[:,:,6:9], y_train_64)\n",
    "y_pred = knn.predict(X_test_64[:,:,6:9])\n",
    "\n",
    "print(classification_report(y_test_64, y_pred))"
   ]
  },
  {
   "cell_type": "markdown",
   "id": "f618311e",
   "metadata": {},
   "source": [
    "With 64 timestamps we get much better results. Moreover, the total_acc files are still those performing better."
   ]
  },
  {
   "cell_type": "markdown",
   "id": "5a2c7dd3",
   "metadata": {},
   "source": [
    "---"
   ]
  },
  {
   "cell_type": "markdown",
   "id": "9480d827",
   "metadata": {},
   "source": [
    "Let's plot a summary graph"
   ]
  },
  {
   "cell_type": "code",
   "execution_count": 373,
   "id": "41bfca62",
   "metadata": {},
   "outputs": [
    {
     "data": {
      "text/html": [
       "<div>\n",
       "<style scoped>\n",
       "    .dataframe tbody tr th:only-of-type {\n",
       "        vertical-align: middle;\n",
       "    }\n",
       "\n",
       "    .dataframe tbody tr th {\n",
       "        vertical-align: top;\n",
       "    }\n",
       "\n",
       "    .dataframe thead th {\n",
       "        text-align: right;\n",
       "    }\n",
       "</style>\n",
       "<table border=\"1\" class=\"dataframe\">\n",
       "  <thead>\n",
       "    <tr style=\"text-align: right;\">\n",
       "      <th></th>\n",
       "      <th>dataset</th>\n",
       "      <th>128 timestamps</th>\n",
       "      <th>64 timestamps</th>\n",
       "    </tr>\n",
       "  </thead>\n",
       "  <tbody>\n",
       "    <tr>\n",
       "      <th>0</th>\n",
       "      <td>body_acc_x</td>\n",
       "      <td>0.598235</td>\n",
       "      <td>0.601425</td>\n",
       "    </tr>\n",
       "    <tr>\n",
       "      <th>1</th>\n",
       "      <td>body_acc_y</td>\n",
       "      <td>0.498812</td>\n",
       "      <td>0.508480</td>\n",
       "    </tr>\n",
       "    <tr>\n",
       "      <th>2</th>\n",
       "      <td>body_acc_z</td>\n",
       "      <td>0.462165</td>\n",
       "      <td>0.476934</td>\n",
       "    </tr>\n",
       "    <tr>\n",
       "      <th>3</th>\n",
       "      <td>body_gyro_x</td>\n",
       "      <td>0.570750</td>\n",
       "      <td>0.513569</td>\n",
       "    </tr>\n",
       "    <tr>\n",
       "      <th>4</th>\n",
       "      <td>body_gyro_y</td>\n",
       "      <td>0.441805</td>\n",
       "      <td>0.446065</td>\n",
       "    </tr>\n",
       "    <tr>\n",
       "      <th>5</th>\n",
       "      <td>body_gyro_z</td>\n",
       "      <td>0.535120</td>\n",
       "      <td>0.527476</td>\n",
       "    </tr>\n",
       "    <tr>\n",
       "      <th>6</th>\n",
       "      <td>total_acc_x</td>\n",
       "      <td>0.748897</td>\n",
       "      <td>0.756106</td>\n",
       "    </tr>\n",
       "    <tr>\n",
       "      <th>7</th>\n",
       "      <td>total_acc_y</td>\n",
       "      <td>0.654564</td>\n",
       "      <td>0.682836</td>\n",
       "    </tr>\n",
       "    <tr>\n",
       "      <th>8</th>\n",
       "      <td>total_acc_z</td>\n",
       "      <td>0.541568</td>\n",
       "      <td>0.564790</td>\n",
       "    </tr>\n",
       "  </tbody>\n",
       "</table>\n",
       "</div>"
      ],
      "text/plain": [
       "       dataset  128 timestamps  64 timestamps\n",
       "0   body_acc_x        0.598235       0.601425\n",
       "1   body_acc_y        0.498812       0.508480\n",
       "2   body_acc_z        0.462165       0.476934\n",
       "3  body_gyro_x        0.570750       0.513569\n",
       "4  body_gyro_y        0.441805       0.446065\n",
       "5  body_gyro_z        0.535120       0.527476\n",
       "6  total_acc_x        0.748897       0.756106\n",
       "7  total_acc_y        0.654564       0.682836\n",
       "8  total_acc_z        0.541568       0.564790"
      ]
     },
     "execution_count": 373,
     "metadata": {},
     "output_type": "execute_result"
    }
   ],
   "source": [
    "df_scores = pd.DataFrame({'dataset': [name[:-6] for name in file_names],\n",
    "                          '128 timestamps': acc_lst_128, \n",
    "                          '64 timestamps': acc_lst_64})\n",
    "df_scores"
   ]
  },
  {
   "cell_type": "code",
   "execution_count": 374,
   "id": "a206fa96",
   "metadata": {},
   "outputs": [
    {
     "data": {
      "application/pdf": "[encoded data removed]",
      "image/png": "[encoded data removed]",
      "text/plain": [
       "<Figure size 1080x432 with 1 Axes>"
      ]
     },
     "metadata": {
      "needs_background": "light"
     },
     "output_type": "display_data"
    }
   ],
   "source": [
    "fig, ax = plt.subplots(figsize = (15,6))\n",
    "df_scores.plot.bar(ax = ax, rot = 45, fontsize = 16)\n",
    "ax.set_xticks(range(9), df_scores['dataset'])\n",
    "ax.set_ylabel('Accuracy (%)', fontsize = 16)\n",
    "ax.legend(loc='upper center', ncol=2)\n",
    "plt.show()"
   ]
  },
  {
   "cell_type": "markdown",
   "id": "6b4a8e45",
   "metadata": {},
   "source": [
    "---"
   ]
  },
  {
   "cell_type": "markdown",
   "id": "88bd230c",
   "metadata": {},
   "source": [
    "We know it is better to use files with 64 timestamps, however now the question is: which combination of files give better results? Is using all or just the total_acc files the best we can get? To answer these questions, we check the performance with every possible combination of files. Namely, there are $\\sum_{i=1}^{9} {9\\choose i} = 2^9 - 1=511$ possible combinations."
   ]
  },
  {
   "cell_type": "code",
   "execution_count": 124,
   "id": "f7875039",
   "metadata": {},
   "outputs": [
    {
     "data": {
      "text/plain": [
       "(2948, 64, 2)"
      ]
     },
     "execution_count": 124,
     "metadata": {},
     "output_type": "execute_result"
    }
   ],
   "source": [
    "X_test_64[:,:,(0,1)].shape"
   ]
  },
  {
   "cell_type": "code",
   "execution_count": 236,
   "id": "ddeac81a",
   "metadata": {},
   "outputs": [],
   "source": [
    "max_acc = 0\n",
    "best_files = None\n",
    "acc_lst = []\n",
    "datasets = []\n",
    "for i in range(1,10):\n",
    "    for tpl in combinations(range(9), i):\n",
    "        knn = KNN(n_neighbors=1, metric = 'euclidean', n_jobs = -1)\n",
    "        knn.fit(X_train_64[:,:,tpl], y_train_64)\n",
    "        y_pred = knn.predict(X_test_64[:,:,tpl])\n",
    "        accuracy = accuracy_score(y_test_64, y_pred)\n",
    "        acc_lst.append(accuracy)\n",
    "        datasets.append(tpl)\n",
    "        if accuracy > max_acc:\n",
    "            max_acc = accuracy\n",
    "            best_files = tpl"
   ]
  },
  {
   "cell_type": "code",
   "execution_count": 237,
   "id": "e11572af",
   "metadata": {},
   "outputs": [
    {
     "data": {
      "text/plain": [
       "0.8873812754409769"
      ]
     },
     "execution_count": 237,
     "metadata": {},
     "output_type": "execute_result"
    }
   ],
   "source": [
    "max_acc"
   ]
  },
  {
   "cell_type": "code",
   "execution_count": 238,
   "id": "3bab871b",
   "metadata": {},
   "outputs": [
    {
     "data": {
      "text/plain": [
       "(0, 1, 2, 5, 6, 7)"
      ]
     },
     "execution_count": 238,
     "metadata": {},
     "output_type": "execute_result"
    }
   ],
   "source": [
    "best_files"
   ]
  },
  {
   "cell_type": "code",
   "execution_count": 239,
   "id": "f37a43e0",
   "metadata": {},
   "outputs": [
    {
     "name": "stdout",
     "output_type": "stream",
     "text": [
      "body_acc_x_train\n",
      "body_acc_y_train\n",
      "body_acc_z_train\n",
      "body_gyro_z_train\n",
      "total_acc_x_train\n",
      "total_acc_y_train\n"
     ]
    }
   ],
   "source": [
    "for idx in best_files:\n",
    "    print(file_names[idx])"
   ]
  },
  {
   "cell_type": "code",
   "execution_count": 322,
   "id": "d1b15433",
   "metadata": {},
   "outputs": [
    {
     "data": {
      "application/pdf": "[encoded data removed]",
      "image/png": "[encoded data removed]",
      "text/plain": [
       "<Figure size 720x288 with 1 Axes>"
      ]
     },
     "metadata": {
      "needs_background": "light"
     },
     "output_type": "display_data"
    }
   ],
   "source": [
    "plt.figure(figsize=(10,4))\n",
    "plt.plot(acc_lst)\n",
    "plt.ylabel('Accuracy (%)')\n",
    "plt.xlabel('Dataset combinations')\n",
    "plt.show()"
   ]
  },
  {
   "cell_type": "code",
   "execution_count": 348,
   "id": "700af669",
   "metadata": {},
   "outputs": [
    {
     "data": {
      "text/plain": [
       "array(['(0, 1, 2, 6, 7, 8)', '(0, 1, 6, 7)', '(0, 5, 6, 7)',\n",
       "       '(1, 2, 6, 7)', '(2, 6, 7)', '(0, 2, 6, 7)', '(0, 1, 2, 6, 7)',\n",
       "       '(0, 1, 5, 6, 7)', '(0, 2, 5, 6, 7)', '(0, 1, 2, 5, 6, 7)'],\n",
       "      dtype=object)"
      ]
     },
     "execution_count": 348,
     "metadata": {},
     "output_type": "execute_result"
    }
   ],
   "source": [
    "df_acc.loc[best_acc_idx[-10:], 'dataset'].astype(str).values"
   ]
  },
  {
   "cell_type": "code",
   "execution_count": 369,
   "id": "038ea381",
   "metadata": {},
   "outputs": [
    {
     "data": {
      "application/pdf": "[encoded data removed]",
      "image/png": "[encoded data removed]",
      "text/plain": [
       "<Figure size 432x288 with 1 Axes>"
      ]
     },
     "metadata": {
      "needs_background": "light"
     },
     "output_type": "display_data"
    }
   ],
   "source": [
    "fig, ax = plt.subplots(figsize = (6,4))\n",
    "df_acc = pd.DataFrame(dict(dataset=datasets, accuracy=acc_lst))\n",
    "best_acc_idx = df_acc['accuracy'].sort_values().index \n",
    "df_acc.loc[best_acc_idx[-10:], :].plot.barh(ax = ax, legend = False)\n",
    "ax.set_xlabel('Accuracy (%)', fontsize = 14)\n",
    "ax.set_yticks(range(10),df_acc.loc[best_acc_idx[-10:], 'dataset'])\n",
    "ax.set_ylabel('Tuple of files used', fontsize = 14)\n",
    "ax.set_xlim(left=0.8, right=0.89)\n",
    "plt.show()"
   ]
  },
  {
   "cell_type": "code",
   "execution_count": 267,
   "id": "1fbe6aea",
   "metadata": {},
   "outputs": [
    {
     "data": {
      "text/html": [
       "<div>\n",
       "<style scoped>\n",
       "    .dataframe tbody tr th:only-of-type {\n",
       "        vertical-align: middle;\n",
       "    }\n",
       "\n",
       "    .dataframe tbody tr th {\n",
       "        vertical-align: top;\n",
       "    }\n",
       "\n",
       "    .dataframe thead th {\n",
       "        text-align: right;\n",
       "    }\n",
       "</style>\n",
       "<table border=\"1\" class=\"dataframe\">\n",
       "  <thead>\n",
       "    <tr style=\"text-align: right;\">\n",
       "      <th></th>\n",
       "      <th>dataset</th>\n",
       "      <th>accuracy</th>\n",
       "    </tr>\n",
       "  </thead>\n",
       "  <tbody>\n",
       "    <tr>\n",
       "      <th>400</th>\n",
       "      <td>(0, 1, 2, 6, 7, 8)</td>\n",
       "      <td>0.863976</td>\n",
       "    </tr>\n",
       "    <tr>\n",
       "      <th>147</th>\n",
       "      <td>(0, 1, 6, 7)</td>\n",
       "      <td>0.866689</td>\n",
       "    </tr>\n",
       "    <tr>\n",
       "      <th>181</th>\n",
       "      <td>(0, 5, 6, 7)</td>\n",
       "      <td>0.867368</td>\n",
       "    </tr>\n",
       "    <tr>\n",
       "      <th>197</th>\n",
       "      <td>(1, 2, 6, 7)</td>\n",
       "      <td>0.868385</td>\n",
       "    </tr>\n",
       "    <tr>\n",
       "      <th>106</th>\n",
       "      <td>(2, 6, 7)</td>\n",
       "      <td>0.874152</td>\n",
       "    </tr>\n",
       "    <tr>\n",
       "      <th>162</th>\n",
       "      <td>(0, 2, 6, 7)</td>\n",
       "      <td>0.875509</td>\n",
       "    </tr>\n",
       "    <tr>\n",
       "      <th>267</th>\n",
       "      <td>(0, 1, 2, 6, 7)</td>\n",
       "      <td>0.876187</td>\n",
       "    </tr>\n",
       "    <tr>\n",
       "      <th>286</th>\n",
       "      <td>(0, 1, 5, 6, 7)</td>\n",
       "      <td>0.878562</td>\n",
       "    </tr>\n",
       "    <tr>\n",
       "      <th>306</th>\n",
       "      <td>(0, 2, 5, 6, 7)</td>\n",
       "      <td>0.879919</td>\n",
       "    </tr>\n",
       "    <tr>\n",
       "      <th>397</th>\n",
       "      <td>(0, 1, 2, 5, 6, 7)</td>\n",
       "      <td>0.887381</td>\n",
       "    </tr>\n",
       "  </tbody>\n",
       "</table>\n",
       "</div>"
      ],
      "text/plain": [
       "                dataset  accuracy\n",
       "400  (0, 1, 2, 6, 7, 8)  0.863976\n",
       "147        (0, 1, 6, 7)  0.866689\n",
       "181        (0, 5, 6, 7)  0.867368\n",
       "197        (1, 2, 6, 7)  0.868385\n",
       "106           (2, 6, 7)  0.874152\n",
       "162        (0, 2, 6, 7)  0.875509\n",
       "267     (0, 1, 2, 6, 7)  0.876187\n",
       "286     (0, 1, 5, 6, 7)  0.878562\n",
       "306     (0, 2, 5, 6, 7)  0.879919\n",
       "397  (0, 1, 2, 5, 6, 7)  0.887381"
      ]
     },
     "execution_count": 267,
     "metadata": {},
     "output_type": "execute_result"
    }
   ],
   "source": [
    "df_acc.loc[best_acc_idx[-10:], :]"
   ]
  },
  {
   "cell_type": "code",
   "execution_count": 379,
   "id": "c84e4001",
   "metadata": {},
   "outputs": [],
   "source": [
    "count_dict = dict.fromkeys(range(9), 0)\n",
    "best_10 = df_acc.loc[best_acc_idx[-10:], 'dataset'].to_list()\n",
    "for tpl in best_10:\n",
    "    for file in tpl:\n",
    "        count_dict[file] += 1"
   ]
  },
  {
   "cell_type": "code",
   "execution_count": 381,
   "id": "96d32ad3",
   "metadata": {},
   "outputs": [
    {
     "data": {
      "text/plain": [
       "{0: 8, 1: 6, 2: 7, 3: 0, 4: 0, 5: 4, 6: 10, 7: 10, 8: 1}"
      ]
     },
     "execution_count": 381,
     "metadata": {},
     "output_type": "execute_result"
    }
   ],
   "source": [
    "count_dict"
   ]
  },
  {
   "cell_type": "code",
   "execution_count": 407,
   "id": "4723b1d2",
   "metadata": {},
   "outputs": [
    {
     "data": {
      "application/pdf": "[encoded data removed]",
      "image/png": "[encoded data removed]",
      "text/plain": [
       "<Figure size 432x288 with 1 Axes>"
      ]
     },
     "metadata": {
      "needs_background": "light"
     },
     "output_type": "display_data"
    }
   ],
   "source": [
    "pd.DataFrame(dict(zip(df_scores['dataset'], count_dict.values())), \n",
    "             index= range(1)).T.plot.bar(legend=False, rot=45)\n",
    "plt.ylabel('Count')\n",
    "plt.show()"
   ]
  },
  {
   "cell_type": "markdown",
   "id": "40140359",
   "metadata": {},
   "source": [
    "The barplot above shows how many times each file is used in the best 10 combinations"
   ]
  },
  {
   "cell_type": "markdown",
   "id": "54635387",
   "metadata": {},
   "source": [
    "---"
   ]
  },
  {
   "cell_type": "code",
   "execution_count": 370,
   "id": "ad79652b",
   "metadata": {
    "scrolled": true
   },
   "outputs": [
    {
     "name": "stdout",
     "output_type": "stream",
     "text": [
      "              precision    recall  f1-score   support\n",
      "\n",
      "           1       0.97      0.87      0.92       496\n",
      "           2       0.98      0.94      0.96       472\n",
      "           3       1.00      0.92      0.96       420\n",
      "           4       0.74      0.79      0.77       491\n",
      "           5       0.71      0.81      0.76       532\n",
      "           6       1.00      1.00      1.00       537\n",
      "\n",
      "    accuracy                           0.89      2948\n",
      "   macro avg       0.90      0.89      0.89      2948\n",
      "weighted avg       0.90      0.89      0.89      2948\n",
      "\n"
     ]
    }
   ],
   "source": [
    "knn = KNN(n_neighbors=1, metric = 'euclidean', n_jobs = -1)\n",
    "knn.fit(X_train_64[:,:,best_files], y_train_64)\n",
    "y_pred = knn.predict(X_test_64[:,:,best_files])\n",
    "\n",
    "print(classification_report(y_test_64, y_pred))"
   ]
  },
  {
   "cell_type": "markdown",
   "id": "d053ce55",
   "metadata": {},
   "source": [
    "Since the class `LAYING` has 100% of accuracy we remove it from the dataset like we did in the first part of the project"
   ]
  },
  {
   "cell_type": "code",
   "execution_count": 445,
   "id": "cd634318",
   "metadata": {},
   "outputs": [
    {
     "data": {
      "text/plain": [
       "5946"
      ]
     },
     "execution_count": 445,
     "metadata": {},
     "output_type": "execute_result"
    }
   ],
   "source": [
    "mask = y_train_64 != 6\n",
    "mask.sum()"
   ]
  },
  {
   "cell_type": "code",
   "execution_count": 446,
   "id": "f1166048",
   "metadata": {},
   "outputs": [
    {
     "data": {
      "text/plain": [
       "((5946, 64, 6), (5946,))"
      ]
     },
     "execution_count": 446,
     "metadata": {},
     "output_type": "execute_result"
    }
   ],
   "source": [
    "X_train = X_train_64[mask][:,:,best_files]\n",
    "y_train = y_train_64[mask]\n",
    "X_train.shape, y_train.shape"
   ]
  },
  {
   "cell_type": "code",
   "execution_count": 447,
   "id": "0e0035c4",
   "metadata": {},
   "outputs": [
    {
     "data": {
      "text/plain": [
       "2411"
      ]
     },
     "execution_count": 447,
     "metadata": {},
     "output_type": "execute_result"
    }
   ],
   "source": [
    "mask = y_test_64 != 6\n",
    "mask.sum()"
   ]
  },
  {
   "cell_type": "code",
   "execution_count": 448,
   "id": "28dd3cdb",
   "metadata": {},
   "outputs": [
    {
     "data": {
      "text/plain": [
       "((2411, 64, 6), (2411,))"
      ]
     },
     "execution_count": 448,
     "metadata": {},
     "output_type": "execute_result"
    }
   ],
   "source": [
    "X_test = X_test_64[mask][:,:,best_files]\n",
    "y_test = y_test_64[mask]\n",
    "X_test.shape, y_test.shape"
   ]
  },
  {
   "cell_type": "markdown",
   "id": "58039351",
   "metadata": {},
   "source": [
    "# Classification"
   ]
  },
  {
   "cell_type": "markdown",
   "id": "3e36f3e2",
   "metadata": {},
   "source": [
    "## KNN"
   ]
  },
  {
   "cell_type": "code",
   "execution_count": 469,
   "id": "55eddb94",
   "metadata": {},
   "outputs": [],
   "source": [
    "params = {'n_neighbors': [1,3,5,7,9], 'weights': ['uniform', 'distance']}\n",
    "gridsearch = GridSearchCV(KNN(metric = 'euclidean'), params, cv=5, \n",
    "                          scoring='accuracy', n_jobs=-1)"
   ]
  },
  {
   "cell_type": "code",
   "execution_count": 470,
   "id": "c13e159a",
   "metadata": {},
   "outputs": [
    {
     "data": {
      "text/plain": [
       "GridSearchCV(cv=5, estimator=KNeighborsTimeSeriesClassifier(metric='euclidean'),\n",
       "             n_jobs=-1,\n",
       "             param_grid={'n_neighbors': [1, 3, 5, 7, 9],\n",
       "                         'weights': ['uniform', 'distance']},\n",
       "             scoring='accuracy')"
      ]
     },
     "execution_count": 470,
     "metadata": {},
     "output_type": "execute_result"
    }
   ],
   "source": [
    "gridsearch.fit(X_train, y_train)"
   ]
  },
  {
   "cell_type": "code",
   "execution_count": 471,
   "id": "3f0e59e9",
   "metadata": {},
   "outputs": [
    {
     "data": {
      "text/plain": [
       "{'n_neighbors': 1, 'weights': 'uniform'}"
      ]
     },
     "execution_count": 471,
     "metadata": {},
     "output_type": "execute_result"
    }
   ],
   "source": [
    "gridsearch.best_params_"
   ]
  },
  {
   "cell_type": "code",
   "execution_count": 449,
   "id": "39cbc435",
   "metadata": {},
   "outputs": [
    {
     "name": "stdout",
     "output_type": "stream",
     "text": [
      "              precision    recall  f1-score   support\n",
      "\n",
      "           1       0.97      0.87      0.92       496\n",
      "           2       0.98      0.94      0.96       472\n",
      "           3       1.00      0.92      0.96       420\n",
      "           4       0.74      0.79      0.77       491\n",
      "           5       0.71      0.81      0.76       532\n",
      "\n",
      "    accuracy                           0.86      2411\n",
      "   macro avg       0.88      0.87      0.87      2411\n",
      "weighted avg       0.87      0.86      0.87      2411\n",
      "\n"
     ]
    }
   ],
   "source": [
    "knn = KNN(n_neighbors=1, metric = 'euclidean', n_jobs = -1)\n",
    "knn.fit(X_train, y_train)\n",
    "y_pred = knn.predict(X_test)\n",
    "\n",
    "print(classification_report(y_test, y_pred))"
   ]
  },
  {
   "cell_type": "code",
   "execution_count": 450,
   "id": "90f151dc",
   "metadata": {},
   "outputs": [
    {
     "data": {
      "text/plain": [
       "<AxesSubplot:xlabel='Predicted Class', ylabel='Actual Class'>"
      ]
     },
     "execution_count": 450,
     "metadata": {},
     "output_type": "execute_result"
    },
    {
     "data": {
      "application/pdf": "[encoded data removed]",
      "image/png": "[encoded data removed]",
      "text/plain": [
       "<Figure size 360x360 with 1 Axes>"
      ]
     },
     "metadata": {
      "needs_background": "light"
     },
     "output_type": "display_data"
    }
   ],
   "source": [
    "plot_confusion_mtx(confusion_matrix(y_test, y_pred), figsize=(5,5))"
   ]
  },
  {
   "cell_type": "code",
   "execution_count": 451,
   "id": "228735a5",
   "metadata": {},
   "outputs": [
    {
     "name": "stdout",
     "output_type": "stream",
     "text": [
      "              precision    recall  f1-score   support\n",
      "\n",
      "           1       0.95      0.91      0.93       496\n",
      "           2       0.98      0.94      0.96       472\n",
      "           3       1.00      0.92      0.96       420\n",
      "           4       0.72      0.76      0.74       491\n",
      "           5       0.72      0.79      0.75       532\n",
      "\n",
      "    accuracy                           0.86      2411\n",
      "   macro avg       0.87      0.86      0.87      2411\n",
      "weighted avg       0.87      0.86      0.86      2411\n",
      "\n"
     ]
    }
   ],
   "source": [
    "knn = KNN(n_neighbors=1, metric = 'cityblock', n_jobs = -1)\n",
    "knn.fit(X_train, y_train)\n",
    "y_pred = knn.predict(X_test)\n",
    "\n",
    "print(classification_report(y_test, y_pred))"
   ]
  },
  {
   "cell_type": "code",
   "execution_count": 452,
   "id": "bd6d8b35",
   "metadata": {},
   "outputs": [
    {
     "data": {
      "text/plain": [
       "<AxesSubplot:xlabel='Predicted Class', ylabel='Actual Class'>"
      ]
     },
     "execution_count": 452,
     "metadata": {},
     "output_type": "execute_result"
    },
    {
     "data": {
      "application/pdf": "[encoded data removed]",
      "image/png": "[encoded data removed]",
      "text/plain": [
       "<Figure size 360x360 with 1 Axes>"
      ]
     },
     "metadata": {
      "needs_background": "light"
     },
     "output_type": "display_data"
    }
   ],
   "source": [
    "plot_confusion_mtx(confusion_matrix(y_test, y_pred), figsize=(5,5))"
   ]
  },
  {
   "cell_type": "code",
   "execution_count": 453,
   "id": "93023858",
   "metadata": {},
   "outputs": [
    {
     "name": "stdout",
     "output_type": "stream",
     "text": [
      "              precision    recall  f1-score   support\n",
      "\n",
      "           1       0.97      1.00      0.98       496\n",
      "           2       1.00      0.98      0.99       472\n",
      "           3       1.00      0.98      0.99       420\n",
      "           4       0.77      0.74      0.76       491\n",
      "           5       0.77      0.79      0.78       532\n",
      "\n",
      "    accuracy                           0.89      2411\n",
      "   macro avg       0.90      0.90      0.90      2411\n",
      "weighted avg       0.89      0.89      0.89      2411\n",
      "\n"
     ]
    }
   ],
   "source": [
    "knn = KNN(n_neighbors=1, metric = 'dtw', n_jobs = -1)\n",
    "knn.fit(X_train, y_train)\n",
    "y_pred = knn.predict(X_test)\n",
    "\n",
    "print(classification_report(y_test, y_pred))"
   ]
  },
  {
   "cell_type": "code",
   "execution_count": 454,
   "id": "e1d15390",
   "metadata": {},
   "outputs": [
    {
     "data": {
      "text/plain": [
       "<AxesSubplot:xlabel='Predicted Class', ylabel='Actual Class'>"
      ]
     },
     "execution_count": 454,
     "metadata": {},
     "output_type": "execute_result"
    },
    {
     "data": {
      "application/pdf": "[encoded data removed]",
      "image/png": "[encoded data removed]",
      "text/plain": [
       "<Figure size 360x360 with 1 Axes>"
      ]
     },
     "metadata": {
      "needs_background": "light"
     },
     "output_type": "display_data"
    }
   ],
   "source": [
    "plot_confusion_mtx(confusion_matrix(y_test, y_pred), figsize=(5,5))"
   ]
  },
  {
   "cell_type": "code",
   "execution_count": 459,
   "id": "5319b513",
   "metadata": {},
   "outputs": [
    {
     "name": "stdout",
     "output_type": "stream",
     "text": [
      "              precision    recall  f1-score   support\n",
      "\n",
      "           1       0.98      1.00      0.99       496\n",
      "           2       1.00      0.99      0.99       472\n",
      "           3       1.00      0.98      0.99       420\n",
      "           4       0.77      0.75      0.76       491\n",
      "           5       0.77      0.80      0.78       532\n",
      "\n",
      "    accuracy                           0.90      2411\n",
      "   macro avg       0.90      0.90      0.90      2411\n",
      "weighted avg       0.90      0.90      0.90      2411\n",
      "\n"
     ]
    }
   ],
   "source": [
    "knn = KNN(n_neighbors=1, metric='dtw', n_jobs=-1,\n",
    "          metric_params={'global_constraint': \"sakoe_chiba\", \n",
    "                         'sakoe_chiba_radius': 10}) \n",
    "knn.fit(X_train, y_train)\n",
    "y_pred = knn.predict(X_test)\n",
    "\n",
    "print(classification_report(y_test, y_pred))"
   ]
  },
  {
   "cell_type": "code",
   "execution_count": 460,
   "id": "ae933966",
   "metadata": {},
   "outputs": [
    {
     "data": {
      "text/plain": [
       "<AxesSubplot:xlabel='Predicted Class', ylabel='Actual Class'>"
      ]
     },
     "execution_count": 460,
     "metadata": {},
     "output_type": "execute_result"
    },
    {
     "data": {
      "application/pdf": "[encoded data removed]",
      "image/png": "[encoded data removed]",
      "text/plain": [
       "<Figure size 360x360 with 1 Axes>"
      ]
     },
     "metadata": {
      "needs_background": "light"
     },
     "output_type": "display_data"
    }
   ],
   "source": [
    "plot_confusion_mtx(confusion_matrix(y_test, y_pred), figsize=(5,5))"
   ]
  },
  {
   "cell_type": "code",
   "execution_count": 461,
   "id": "7c5a514a",
   "metadata": {},
   "outputs": [
    {
     "name": "stdout",
     "output_type": "stream",
     "text": [
      "              precision    recall  f1-score   support\n",
      "\n",
      "           1       0.97      0.99      0.98       496\n",
      "           2       1.00      0.97      0.98       472\n",
      "           3       1.00      0.98      0.99       420\n",
      "           4       0.77      0.75      0.76       491\n",
      "           5       0.77      0.80      0.78       532\n",
      "\n",
      "    accuracy                           0.89      2411\n",
      "   macro avg       0.90      0.90      0.90      2411\n",
      "weighted avg       0.89      0.89      0.89      2411\n",
      "\n"
     ]
    }
   ],
   "source": [
    "knn = KNN(n_neighbors=1, metric='dtw', n_jobs=-1,\n",
    "          metric_params={'global_constraint': \"itakura\", \n",
    "                         'itakura_max_slope': 2.}) \n",
    "knn.fit(X_train, y_train)\n",
    "y_pred = knn.predict(X_test)\n",
    "\n",
    "print(classification_report(y_test, y_pred))"
   ]
  },
  {
   "cell_type": "code",
   "execution_count": 462,
   "id": "81ebd725",
   "metadata": {},
   "outputs": [
    {
     "data": {
      "text/plain": [
       "<AxesSubplot:xlabel='Predicted Class', ylabel='Actual Class'>"
      ]
     },
     "execution_count": 462,
     "metadata": {},
     "output_type": "execute_result"
    },
    {
     "data": {
      "application/pdf": "[encoded data removed]",
      "image/png": "[encoded data removed]",
      "text/plain": [
       "<Figure size 360x360 with 1 Axes>"
      ]
     },
     "metadata": {
      "needs_background": "light"
     },
     "output_type": "display_data"
    }
   ],
   "source": [
    "plot_confusion_mtx(confusion_matrix(y_test, y_pred), figsize=(5,5))"
   ]
  },
  {
   "cell_type": "code",
   "execution_count": 472,
   "id": "20f0b6a5",
   "metadata": {},
   "outputs": [
    {
     "name": "stdout",
     "output_type": "stream",
     "text": [
      "              precision    recall  f1-score   support\n",
      "\n",
      "           1       0.00      0.00      0.00       496\n",
      "           2       0.00      0.00      0.00       472\n",
      "           3       0.00      0.00      0.00       420\n",
      "           4       0.00      0.00      0.00       491\n",
      "           5       0.22      1.00      0.36       532\n",
      "\n",
      "    accuracy                           0.22      2411\n",
      "   macro avg       0.04      0.20      0.07      2411\n",
      "weighted avg       0.05      0.22      0.08      2411\n",
      "\n"
     ]
    },
    {
     "name": "stderr",
     "output_type": "stream",
     "text": [
      "C:\\Users\\simon\\anaconda3\\envs\\myenv\\lib\\site-packages\\sklearn\\metrics\\_classification.py:1318: UndefinedMetricWarning: Precision and F-score are ill-defined and being set to 0.0 in labels with no predicted samples. Use `zero_division` parameter to control this behavior.\n",
      "  _warn_prf(average, modifier, msg_start, len(result))\n",
      "C:\\Users\\simon\\anaconda3\\envs\\myenv\\lib\\site-packages\\sklearn\\metrics\\_classification.py:1318: UndefinedMetricWarning: Precision and F-score are ill-defined and being set to 0.0 in labels with no predicted samples. Use `zero_division` parameter to control this behavior.\n",
      "  _warn_prf(average, modifier, msg_start, len(result))\n",
      "C:\\Users\\simon\\anaconda3\\envs\\myenv\\lib\\site-packages\\sklearn\\metrics\\_classification.py:1318: UndefinedMetricWarning: Precision and F-score are ill-defined and being set to 0.0 in labels with no predicted samples. Use `zero_division` parameter to control this behavior.\n",
      "  _warn_prf(average, modifier, msg_start, len(result))\n"
     ]
    }
   ],
   "source": [
    "knn = KNN(n_neighbors=1, metric = 'sax', n_jobs = -1)\n",
    "knn.fit(X_train, y_train)\n",
    "y_pred = knn.predict(X_test)\n",
    "\n",
    "print(classification_report(y_test, y_pred))"
   ]
  },
  {
   "cell_type": "code",
   "execution_count": 473,
   "id": "38e5a38f",
   "metadata": {},
   "outputs": [
    {
     "data": {
      "text/plain": [
       "<AxesSubplot:xlabel='Predicted Class', ylabel='Actual Class'>"
      ]
     },
     "execution_count": 473,
     "metadata": {},
     "output_type": "execute_result"
    },
    {
     "data": {
      "application/pdf": "[encoded data removed]",
      "image/png": "[encoded data removed]",
      "text/plain": [
       "<Figure size 360x360 with 1 Axes>"
      ]
     },
     "metadata": {
      "needs_background": "light"
     },
     "output_type": "display_data"
    }
   ],
   "source": [
    "plot_confusion_mtx(confusion_matrix(y_test, y_pred), figsize=(5,5))"
   ]
  },
  {
   "cell_type": "code",
   "execution_count": 474,
   "id": "aa596cd8",
   "metadata": {},
   "outputs": [
    {
     "name": "stderr",
     "output_type": "stream",
     "text": [
      "C:\\Users\\simon\\anaconda3\\envs\\myenv\\lib\\site-packages\\sklearn\\cross_decomposition\\_pls.py:107: ConvergenceWarning: Maximum number of iterations reached\n",
      "  warnings.warn(\"Maximum number of iterations reached\", ConvergenceWarning)\n",
      "C:\\Users\\simon\\anaconda3\\envs\\myenv\\lib\\site-packages\\sklearn\\cross_decomposition\\_pls.py:107: ConvergenceWarning: Maximum number of iterations reached\n",
      "  warnings.warn(\"Maximum number of iterations reached\", ConvergenceWarning)\n",
      "C:\\Users\\simon\\anaconda3\\envs\\myenv\\lib\\site-packages\\sklearn\\cross_decomposition\\_pls.py:107: ConvergenceWarning: Maximum number of iterations reached\n",
      "  warnings.warn(\"Maximum number of iterations reached\", ConvergenceWarning)\n",
      "C:\\Users\\simon\\anaconda3\\envs\\myenv\\lib\\site-packages\\sklearn\\cross_decomposition\\_pls.py:107: ConvergenceWarning: Maximum number of iterations reached\n",
      "  warnings.warn(\"Maximum number of iterations reached\", ConvergenceWarning)\n",
      "C:\\Users\\simon\\anaconda3\\envs\\myenv\\lib\\site-packages\\sklearn\\cross_decomposition\\_pls.py:107: ConvergenceWarning: Maximum number of iterations reached\n",
      "  warnings.warn(\"Maximum number of iterations reached\", ConvergenceWarning)\n",
      "C:\\Users\\simon\\anaconda3\\envs\\myenv\\lib\\site-packages\\sklearn\\cross_decomposition\\_pls.py:107: ConvergenceWarning: Maximum number of iterations reached\n",
      "  warnings.warn(\"Maximum number of iterations reached\", ConvergenceWarning)\n",
      "C:\\Users\\simon\\anaconda3\\envs\\myenv\\lib\\site-packages\\sklearn\\cross_decomposition\\_pls.py:107: ConvergenceWarning: Maximum number of iterations reached\n",
      "  warnings.warn(\"Maximum number of iterations reached\", ConvergenceWarning)\n",
      "C:\\Users\\simon\\anaconda3\\envs\\myenv\\lib\\site-packages\\sklearn\\cross_decomposition\\_pls.py:107: ConvergenceWarning: Maximum number of iterations reached\n",
      "  warnings.warn(\"Maximum number of iterations reached\", ConvergenceWarning)\n",
      "C:\\Users\\simon\\anaconda3\\envs\\myenv\\lib\\site-packages\\sklearn\\cross_decomposition\\_pls.py:107: ConvergenceWarning: Maximum number of iterations reached\n",
      "  warnings.warn(\"Maximum number of iterations reached\", ConvergenceWarning)\n",
      "C:\\Users\\simon\\anaconda3\\envs\\myenv\\lib\\site-packages\\sklearn\\cross_decomposition\\_pls.py:107: ConvergenceWarning: Maximum number of iterations reached\n",
      "  warnings.warn(\"Maximum number of iterations reached\", ConvergenceWarning)\n",
      "C:\\Users\\simon\\anaconda3\\envs\\myenv\\lib\\site-packages\\sklearn\\cross_decomposition\\_pls.py:107: ConvergenceWarning: Maximum number of iterations reached\n",
      "  warnings.warn(\"Maximum number of iterations reached\", ConvergenceWarning)\n",
      "C:\\Users\\simon\\anaconda3\\envs\\myenv\\lib\\site-packages\\sklearn\\cross_decomposition\\_pls.py:107: ConvergenceWarning: Maximum number of iterations reached\n",
      "  warnings.warn(\"Maximum number of iterations reached\", ConvergenceWarning)\n",
      "C:\\Users\\simon\\anaconda3\\envs\\myenv\\lib\\site-packages\\sklearn\\cross_decomposition\\_pls.py:107: ConvergenceWarning: Maximum number of iterations reached\n",
      "  warnings.warn(\"Maximum number of iterations reached\", ConvergenceWarning)\n",
      "C:\\Users\\simon\\anaconda3\\envs\\myenv\\lib\\site-packages\\sklearn\\cross_decomposition\\_pls.py:107: ConvergenceWarning: Maximum number of iterations reached\n",
      "  warnings.warn(\"Maximum number of iterations reached\", ConvergenceWarning)\n",
      "C:\\Users\\simon\\anaconda3\\envs\\myenv\\lib\\site-packages\\sklearn\\cross_decomposition\\_pls.py:107: ConvergenceWarning: Maximum number of iterations reached\n",
      "  warnings.warn(\"Maximum number of iterations reached\", ConvergenceWarning)\n",
      "C:\\Users\\simon\\anaconda3\\envs\\myenv\\lib\\site-packages\\sklearn\\cross_decomposition\\_pls.py:107: ConvergenceWarning: Maximum number of iterations reached\n",
      "  warnings.warn(\"Maximum number of iterations reached\", ConvergenceWarning)\n",
      "C:\\Users\\simon\\anaconda3\\envs\\myenv\\lib\\site-packages\\sklearn\\cross_decomposition\\_pls.py:107: ConvergenceWarning: Maximum number of iterations reached\n",
      "  warnings.warn(\"Maximum number of iterations reached\", ConvergenceWarning)\n",
      "C:\\Users\\simon\\anaconda3\\envs\\myenv\\lib\\site-packages\\sklearn\\cross_decomposition\\_pls.py:107: ConvergenceWarning: Maximum number of iterations reached\n",
      "  warnings.warn(\"Maximum number of iterations reached\", ConvergenceWarning)\n",
      "C:\\Users\\simon\\anaconda3\\envs\\myenv\\lib\\site-packages\\sklearn\\cross_decomposition\\_pls.py:107: ConvergenceWarning: Maximum number of iterations reached\n",
      "  warnings.warn(\"Maximum number of iterations reached\", ConvergenceWarning)\n",
      "C:\\Users\\simon\\anaconda3\\envs\\myenv\\lib\\site-packages\\sklearn\\cross_decomposition\\_pls.py:107: ConvergenceWarning: Maximum number of iterations reached\n",
      "  warnings.warn(\"Maximum number of iterations reached\", ConvergenceWarning)\n",
      "C:\\Users\\simon\\anaconda3\\envs\\myenv\\lib\\site-packages\\sklearn\\cross_decomposition\\_pls.py:107: ConvergenceWarning: Maximum number of iterations reached\n",
      "  warnings.warn(\"Maximum number of iterations reached\", ConvergenceWarning)\n",
      "C:\\Users\\simon\\anaconda3\\envs\\myenv\\lib\\site-packages\\sklearn\\cross_decomposition\\_pls.py:107: ConvergenceWarning: Maximum number of iterations reached\n",
      "  warnings.warn(\"Maximum number of iterations reached\", ConvergenceWarning)\n",
      "C:\\Users\\simon\\anaconda3\\envs\\myenv\\lib\\site-packages\\sklearn\\cross_decomposition\\_pls.py:107: ConvergenceWarning: Maximum number of iterations reached\n",
      "  warnings.warn(\"Maximum number of iterations reached\", ConvergenceWarning)\n",
      "C:\\Users\\simon\\anaconda3\\envs\\myenv\\lib\\site-packages\\sklearn\\cross_decomposition\\_pls.py:107: ConvergenceWarning: Maximum number of iterations reached\n",
      "  warnings.warn(\"Maximum number of iterations reached\", ConvergenceWarning)\n",
      "C:\\Users\\simon\\anaconda3\\envs\\myenv\\lib\\site-packages\\sklearn\\cross_decomposition\\_pls.py:107: ConvergenceWarning: Maximum number of iterations reached\n",
      "  warnings.warn(\"Maximum number of iterations reached\", ConvergenceWarning)\n",
      "C:\\Users\\simon\\anaconda3\\envs\\myenv\\lib\\site-packages\\sklearn\\cross_decomposition\\_pls.py:107: ConvergenceWarning: Maximum number of iterations reached\n",
      "  warnings.warn(\"Maximum number of iterations reached\", ConvergenceWarning)\n",
      "C:\\Users\\simon\\anaconda3\\envs\\myenv\\lib\\site-packages\\sklearn\\cross_decomposition\\_pls.py:107: ConvergenceWarning: Maximum number of iterations reached\n",
      "  warnings.warn(\"Maximum number of iterations reached\", ConvergenceWarning)\n",
      "C:\\Users\\simon\\anaconda3\\envs\\myenv\\lib\\site-packages\\sklearn\\cross_decomposition\\_pls.py:107: ConvergenceWarning: Maximum number of iterations reached\n",
      "  warnings.warn(\"Maximum number of iterations reached\", ConvergenceWarning)\n",
      "C:\\Users\\simon\\anaconda3\\envs\\myenv\\lib\\site-packages\\sklearn\\cross_decomposition\\_pls.py:107: ConvergenceWarning: Maximum number of iterations reached\n",
      "  warnings.warn(\"Maximum number of iterations reached\", ConvergenceWarning)\n",
      "C:\\Users\\simon\\anaconda3\\envs\\myenv\\lib\\site-packages\\sklearn\\cross_decomposition\\_pls.py:107: ConvergenceWarning: Maximum number of iterations reached\n",
      "  warnings.warn(\"Maximum number of iterations reached\", ConvergenceWarning)\n",
      "C:\\Users\\simon\\anaconda3\\envs\\myenv\\lib\\site-packages\\sklearn\\cross_decomposition\\_pls.py:107: ConvergenceWarning: Maximum number of iterations reached\n",
      "  warnings.warn(\"Maximum number of iterations reached\", ConvergenceWarning)\n",
      "C:\\Users\\simon\\anaconda3\\envs\\myenv\\lib\\site-packages\\sklearn\\cross_decomposition\\_pls.py:107: ConvergenceWarning: Maximum number of iterations reached\n",
      "  warnings.warn(\"Maximum number of iterations reached\", ConvergenceWarning)\n",
      "C:\\Users\\simon\\anaconda3\\envs\\myenv\\lib\\site-packages\\sklearn\\cross_decomposition\\_pls.py:107: ConvergenceWarning: Maximum number of iterations reached\n",
      "  warnings.warn(\"Maximum number of iterations reached\", ConvergenceWarning)\n",
      "C:\\Users\\simon\\anaconda3\\envs\\myenv\\lib\\site-packages\\sklearn\\cross_decomposition\\_pls.py:107: ConvergenceWarning: Maximum number of iterations reached\n",
      "  warnings.warn(\"Maximum number of iterations reached\", ConvergenceWarning)\n",
      "C:\\Users\\simon\\anaconda3\\envs\\myenv\\lib\\site-packages\\sklearn\\cross_decomposition\\_pls.py:107: ConvergenceWarning: Maximum number of iterations reached\n",
      "  warnings.warn(\"Maximum number of iterations reached\", ConvergenceWarning)\n",
      "C:\\Users\\simon\\anaconda3\\envs\\myenv\\lib\\site-packages\\sklearn\\cross_decomposition\\_pls.py:107: ConvergenceWarning: Maximum number of iterations reached\n",
      "  warnings.warn(\"Maximum number of iterations reached\", ConvergenceWarning)\n"
     ]
    },
    {
     "name": "stderr",
     "output_type": "stream",
     "text": [
      "C:\\Users\\simon\\anaconda3\\envs\\myenv\\lib\\site-packages\\sklearn\\cross_decomposition\\_pls.py:107: ConvergenceWarning: Maximum number of iterations reached\n",
      "  warnings.warn(\"Maximum number of iterations reached\", ConvergenceWarning)\n",
      "C:\\Users\\simon\\anaconda3\\envs\\myenv\\lib\\site-packages\\sklearn\\cross_decomposition\\_pls.py:107: ConvergenceWarning: Maximum number of iterations reached\n",
      "  warnings.warn(\"Maximum number of iterations reached\", ConvergenceWarning)\n",
      "C:\\Users\\simon\\anaconda3\\envs\\myenv\\lib\\site-packages\\sklearn\\cross_decomposition\\_pls.py:107: ConvergenceWarning: Maximum number of iterations reached\n",
      "  warnings.warn(\"Maximum number of iterations reached\", ConvergenceWarning)\n",
      "C:\\Users\\simon\\anaconda3\\envs\\myenv\\lib\\site-packages\\sklearn\\cross_decomposition\\_pls.py:107: ConvergenceWarning: Maximum number of iterations reached\n",
      "  warnings.warn(\"Maximum number of iterations reached\", ConvergenceWarning)\n",
      "C:\\Users\\simon\\anaconda3\\envs\\myenv\\lib\\site-packages\\sklearn\\cross_decomposition\\_pls.py:107: ConvergenceWarning: Maximum number of iterations reached\n",
      "  warnings.warn(\"Maximum number of iterations reached\", ConvergenceWarning)\n",
      "C:\\Users\\simon\\anaconda3\\envs\\myenv\\lib\\site-packages\\sklearn\\cross_decomposition\\_pls.py:107: ConvergenceWarning: Maximum number of iterations reached\n",
      "  warnings.warn(\"Maximum number of iterations reached\", ConvergenceWarning)\n",
      "C:\\Users\\simon\\anaconda3\\envs\\myenv\\lib\\site-packages\\sklearn\\cross_decomposition\\_pls.py:107: ConvergenceWarning: Maximum number of iterations reached\n",
      "  warnings.warn(\"Maximum number of iterations reached\", ConvergenceWarning)\n",
      "C:\\Users\\simon\\anaconda3\\envs\\myenv\\lib\\site-packages\\sklearn\\cross_decomposition\\_pls.py:107: ConvergenceWarning: Maximum number of iterations reached\n",
      "  warnings.warn(\"Maximum number of iterations reached\", ConvergenceWarning)\n",
      "C:\\Users\\simon\\anaconda3\\envs\\myenv\\lib\\site-packages\\sklearn\\cross_decomposition\\_pls.py:107: ConvergenceWarning: Maximum number of iterations reached\n",
      "  warnings.warn(\"Maximum number of iterations reached\", ConvergenceWarning)\n",
      "C:\\Users\\simon\\anaconda3\\envs\\myenv\\lib\\site-packages\\sklearn\\cross_decomposition\\_pls.py:107: ConvergenceWarning: Maximum number of iterations reached\n",
      "  warnings.warn(\"Maximum number of iterations reached\", ConvergenceWarning)\n",
      "C:\\Users\\simon\\anaconda3\\envs\\myenv\\lib\\site-packages\\sklearn\\cross_decomposition\\_pls.py:107: ConvergenceWarning: Maximum number of iterations reached\n",
      "  warnings.warn(\"Maximum number of iterations reached\", ConvergenceWarning)\n",
      "C:\\Users\\simon\\anaconda3\\envs\\myenv\\lib\\site-packages\\sklearn\\cross_decomposition\\_pls.py:107: ConvergenceWarning: Maximum number of iterations reached\n",
      "  warnings.warn(\"Maximum number of iterations reached\", ConvergenceWarning)\n",
      "C:\\Users\\simon\\anaconda3\\envs\\myenv\\lib\\site-packages\\sklearn\\cross_decomposition\\_pls.py:107: ConvergenceWarning: Maximum number of iterations reached\n",
      "  warnings.warn(\"Maximum number of iterations reached\", ConvergenceWarning)\n",
      "C:\\Users\\simon\\anaconda3\\envs\\myenv\\lib\\site-packages\\sklearn\\cross_decomposition\\_pls.py:107: ConvergenceWarning: Maximum number of iterations reached\n",
      "  warnings.warn(\"Maximum number of iterations reached\", ConvergenceWarning)\n",
      "C:\\Users\\simon\\anaconda3\\envs\\myenv\\lib\\site-packages\\sklearn\\cross_decomposition\\_pls.py:107: ConvergenceWarning: Maximum number of iterations reached\n",
      "  warnings.warn(\"Maximum number of iterations reached\", ConvergenceWarning)\n",
      "C:\\Users\\simon\\anaconda3\\envs\\myenv\\lib\\site-packages\\sklearn\\cross_decomposition\\_pls.py:107: ConvergenceWarning: Maximum number of iterations reached\n",
      "  warnings.warn(\"Maximum number of iterations reached\", ConvergenceWarning)\n",
      "C:\\Users\\simon\\anaconda3\\envs\\myenv\\lib\\site-packages\\sklearn\\cross_decomposition\\_pls.py:107: ConvergenceWarning: Maximum number of iterations reached\n",
      "  warnings.warn(\"Maximum number of iterations reached\", ConvergenceWarning)\n",
      "C:\\Users\\simon\\anaconda3\\envs\\myenv\\lib\\site-packages\\sklearn\\cross_decomposition\\_pls.py:107: ConvergenceWarning: Maximum number of iterations reached\n",
      "  warnings.warn(\"Maximum number of iterations reached\", ConvergenceWarning)\n",
      "C:\\Users\\simon\\anaconda3\\envs\\myenv\\lib\\site-packages\\sklearn\\cross_decomposition\\_pls.py:107: ConvergenceWarning: Maximum number of iterations reached\n",
      "  warnings.warn(\"Maximum number of iterations reached\", ConvergenceWarning)\n",
      "C:\\Users\\simon\\anaconda3\\envs\\myenv\\lib\\site-packages\\sklearn\\cross_decomposition\\_pls.py:107: ConvergenceWarning: Maximum number of iterations reached\n",
      "  warnings.warn(\"Maximum number of iterations reached\", ConvergenceWarning)\n",
      "C:\\Users\\simon\\anaconda3\\envs\\myenv\\lib\\site-packages\\sklearn\\cross_decomposition\\_pls.py:107: ConvergenceWarning: Maximum number of iterations reached\n",
      "  warnings.warn(\"Maximum number of iterations reached\", ConvergenceWarning)\n",
      "C:\\Users\\simon\\anaconda3\\envs\\myenv\\lib\\site-packages\\sklearn\\cross_decomposition\\_pls.py:107: ConvergenceWarning: Maximum number of iterations reached\n",
      "  warnings.warn(\"Maximum number of iterations reached\", ConvergenceWarning)\n",
      "C:\\Users\\simon\\anaconda3\\envs\\myenv\\lib\\site-packages\\sklearn\\cross_decomposition\\_pls.py:107: ConvergenceWarning: Maximum number of iterations reached\n",
      "  warnings.warn(\"Maximum number of iterations reached\", ConvergenceWarning)\n",
      "C:\\Users\\simon\\anaconda3\\envs\\myenv\\lib\\site-packages\\sklearn\\cross_decomposition\\_pls.py:107: ConvergenceWarning: Maximum number of iterations reached\n",
      "  warnings.warn(\"Maximum number of iterations reached\", ConvergenceWarning)\n",
      "C:\\Users\\simon\\anaconda3\\envs\\myenv\\lib\\site-packages\\sklearn\\cross_decomposition\\_pls.py:107: ConvergenceWarning: Maximum number of iterations reached\n",
      "  warnings.warn(\"Maximum number of iterations reached\", ConvergenceWarning)\n",
      "C:\\Users\\simon\\anaconda3\\envs\\myenv\\lib\\site-packages\\sklearn\\cross_decomposition\\_pls.py:107: ConvergenceWarning: Maximum number of iterations reached\n",
      "  warnings.warn(\"Maximum number of iterations reached\", ConvergenceWarning)\n",
      "C:\\Users\\simon\\anaconda3\\envs\\myenv\\lib\\site-packages\\sklearn\\cross_decomposition\\_pls.py:107: ConvergenceWarning: Maximum number of iterations reached\n",
      "  warnings.warn(\"Maximum number of iterations reached\", ConvergenceWarning)\n",
      "C:\\Users\\simon\\anaconda3\\envs\\myenv\\lib\\site-packages\\sklearn\\cross_decomposition\\_pls.py:107: ConvergenceWarning: Maximum number of iterations reached\n",
      "  warnings.warn(\"Maximum number of iterations reached\", ConvergenceWarning)\n",
      "C:\\Users\\simon\\anaconda3\\envs\\myenv\\lib\\site-packages\\sklearn\\cross_decomposition\\_pls.py:107: ConvergenceWarning: Maximum number of iterations reached\n",
      "  warnings.warn(\"Maximum number of iterations reached\", ConvergenceWarning)\n",
      "C:\\Users\\simon\\anaconda3\\envs\\myenv\\lib\\site-packages\\sklearn\\cross_decomposition\\_pls.py:107: ConvergenceWarning: Maximum number of iterations reached\n",
      "  warnings.warn(\"Maximum number of iterations reached\", ConvergenceWarning)\n",
      "C:\\Users\\simon\\anaconda3\\envs\\myenv\\lib\\site-packages\\sklearn\\cross_decomposition\\_pls.py:107: ConvergenceWarning: Maximum number of iterations reached\n",
      "  warnings.warn(\"Maximum number of iterations reached\", ConvergenceWarning)\n",
      "C:\\Users\\simon\\anaconda3\\envs\\myenv\\lib\\site-packages\\sklearn\\cross_decomposition\\_pls.py:107: ConvergenceWarning: Maximum number of iterations reached\n",
      "  warnings.warn(\"Maximum number of iterations reached\", ConvergenceWarning)\n",
      "C:\\Users\\simon\\anaconda3\\envs\\myenv\\lib\\site-packages\\sklearn\\cross_decomposition\\_pls.py:107: ConvergenceWarning: Maximum number of iterations reached\n",
      "  warnings.warn(\"Maximum number of iterations reached\", ConvergenceWarning)\n",
      "C:\\Users\\simon\\anaconda3\\envs\\myenv\\lib\\site-packages\\sklearn\\cross_decomposition\\_pls.py:107: ConvergenceWarning: Maximum number of iterations reached\n",
      "  warnings.warn(\"Maximum number of iterations reached\", ConvergenceWarning)\n",
      "C:\\Users\\simon\\anaconda3\\envs\\myenv\\lib\\site-packages\\sklearn\\cross_decomposition\\_pls.py:107: ConvergenceWarning: Maximum number of iterations reached\n",
      "  warnings.warn(\"Maximum number of iterations reached\", ConvergenceWarning)\n",
      "C:\\Users\\simon\\anaconda3\\envs\\myenv\\lib\\site-packages\\sklearn\\cross_decomposition\\_pls.py:107: ConvergenceWarning: Maximum number of iterations reached\n",
      "  warnings.warn(\"Maximum number of iterations reached\", ConvergenceWarning)\n"
     ]
    },
    {
     "name": "stderr",
     "output_type": "stream",
     "text": [
      "C:\\Users\\simon\\anaconda3\\envs\\myenv\\lib\\site-packages\\sklearn\\cross_decomposition\\_pls.py:107: ConvergenceWarning: Maximum number of iterations reached\n",
      "  warnings.warn(\"Maximum number of iterations reached\", ConvergenceWarning)\n",
      "C:\\Users\\simon\\anaconda3\\envs\\myenv\\lib\\site-packages\\sklearn\\cross_decomposition\\_pls.py:107: ConvergenceWarning: Maximum number of iterations reached\n",
      "  warnings.warn(\"Maximum number of iterations reached\", ConvergenceWarning)\n",
      "C:\\Users\\simon\\anaconda3\\envs\\myenv\\lib\\site-packages\\sklearn\\cross_decomposition\\_pls.py:107: ConvergenceWarning: Maximum number of iterations reached\n",
      "  warnings.warn(\"Maximum number of iterations reached\", ConvergenceWarning)\n",
      "C:\\Users\\simon\\anaconda3\\envs\\myenv\\lib\\site-packages\\sklearn\\cross_decomposition\\_pls.py:107: ConvergenceWarning: Maximum number of iterations reached\n",
      "  warnings.warn(\"Maximum number of iterations reached\", ConvergenceWarning)\n",
      "C:\\Users\\simon\\anaconda3\\envs\\myenv\\lib\\site-packages\\sklearn\\cross_decomposition\\_pls.py:107: ConvergenceWarning: Maximum number of iterations reached\n",
      "  warnings.warn(\"Maximum number of iterations reached\", ConvergenceWarning)\n",
      "C:\\Users\\simon\\anaconda3\\envs\\myenv\\lib\\site-packages\\sklearn\\cross_decomposition\\_pls.py:107: ConvergenceWarning: Maximum number of iterations reached\n",
      "  warnings.warn(\"Maximum number of iterations reached\", ConvergenceWarning)\n",
      "C:\\Users\\simon\\anaconda3\\envs\\myenv\\lib\\site-packages\\sklearn\\cross_decomposition\\_pls.py:107: ConvergenceWarning: Maximum number of iterations reached\n",
      "  warnings.warn(\"Maximum number of iterations reached\", ConvergenceWarning)\n",
      "C:\\Users\\simon\\anaconda3\\envs\\myenv\\lib\\site-packages\\sklearn\\cross_decomposition\\_pls.py:107: ConvergenceWarning: Maximum number of iterations reached\n",
      "  warnings.warn(\"Maximum number of iterations reached\", ConvergenceWarning)\n",
      "C:\\Users\\simon\\anaconda3\\envs\\myenv\\lib\\site-packages\\sklearn\\cross_decomposition\\_pls.py:107: ConvergenceWarning: Maximum number of iterations reached\n",
      "  warnings.warn(\"Maximum number of iterations reached\", ConvergenceWarning)\n",
      "C:\\Users\\simon\\anaconda3\\envs\\myenv\\lib\\site-packages\\sklearn\\cross_decomposition\\_pls.py:107: ConvergenceWarning: Maximum number of iterations reached\n",
      "  warnings.warn(\"Maximum number of iterations reached\", ConvergenceWarning)\n",
      "C:\\Users\\simon\\anaconda3\\envs\\myenv\\lib\\site-packages\\sklearn\\cross_decomposition\\_pls.py:107: ConvergenceWarning: Maximum number of iterations reached\n",
      "  warnings.warn(\"Maximum number of iterations reached\", ConvergenceWarning)\n",
      "C:\\Users\\simon\\anaconda3\\envs\\myenv\\lib\\site-packages\\sklearn\\cross_decomposition\\_pls.py:107: ConvergenceWarning: Maximum number of iterations reached\n",
      "  warnings.warn(\"Maximum number of iterations reached\", ConvergenceWarning)\n",
      "C:\\Users\\simon\\anaconda3\\envs\\myenv\\lib\\site-packages\\sklearn\\cross_decomposition\\_pls.py:107: ConvergenceWarning: Maximum number of iterations reached\n",
      "  warnings.warn(\"Maximum number of iterations reached\", ConvergenceWarning)\n",
      "C:\\Users\\simon\\anaconda3\\envs\\myenv\\lib\\site-packages\\sklearn\\cross_decomposition\\_pls.py:107: ConvergenceWarning: Maximum number of iterations reached\n",
      "  warnings.warn(\"Maximum number of iterations reached\", ConvergenceWarning)\n",
      "C:\\Users\\simon\\anaconda3\\envs\\myenv\\lib\\site-packages\\sklearn\\cross_decomposition\\_pls.py:107: ConvergenceWarning: Maximum number of iterations reached\n",
      "  warnings.warn(\"Maximum number of iterations reached\", ConvergenceWarning)\n",
      "C:\\Users\\simon\\anaconda3\\envs\\myenv\\lib\\site-packages\\sklearn\\cross_decomposition\\_pls.py:107: ConvergenceWarning: Maximum number of iterations reached\n",
      "  warnings.warn(\"Maximum number of iterations reached\", ConvergenceWarning)\n",
      "C:\\Users\\simon\\anaconda3\\envs\\myenv\\lib\\site-packages\\sklearn\\cross_decomposition\\_pls.py:107: ConvergenceWarning: Maximum number of iterations reached\n",
      "  warnings.warn(\"Maximum number of iterations reached\", ConvergenceWarning)\n",
      "C:\\Users\\simon\\anaconda3\\envs\\myenv\\lib\\site-packages\\sklearn\\cross_decomposition\\_pls.py:107: ConvergenceWarning: Maximum number of iterations reached\n",
      "  warnings.warn(\"Maximum number of iterations reached\", ConvergenceWarning)\n",
      "C:\\Users\\simon\\anaconda3\\envs\\myenv\\lib\\site-packages\\sklearn\\cross_decomposition\\_pls.py:107: ConvergenceWarning: Maximum number of iterations reached\n",
      "  warnings.warn(\"Maximum number of iterations reached\", ConvergenceWarning)\n",
      "C:\\Users\\simon\\anaconda3\\envs\\myenv\\lib\\site-packages\\sklearn\\cross_decomposition\\_pls.py:107: ConvergenceWarning: Maximum number of iterations reached\n",
      "  warnings.warn(\"Maximum number of iterations reached\", ConvergenceWarning)\n",
      "C:\\Users\\simon\\anaconda3\\envs\\myenv\\lib\\site-packages\\sklearn\\cross_decomposition\\_pls.py:107: ConvergenceWarning: Maximum number of iterations reached\n",
      "  warnings.warn(\"Maximum number of iterations reached\", ConvergenceWarning)\n",
      "C:\\Users\\simon\\anaconda3\\envs\\myenv\\lib\\site-packages\\sklearn\\cross_decomposition\\_pls.py:107: ConvergenceWarning: Maximum number of iterations reached\n",
      "  warnings.warn(\"Maximum number of iterations reached\", ConvergenceWarning)\n",
      "C:\\Users\\simon\\anaconda3\\envs\\myenv\\lib\\site-packages\\sklearn\\cross_decomposition\\_pls.py:107: ConvergenceWarning: Maximum number of iterations reached\n",
      "  warnings.warn(\"Maximum number of iterations reached\", ConvergenceWarning)\n",
      "C:\\Users\\simon\\anaconda3\\envs\\myenv\\lib\\site-packages\\sklearn\\cross_decomposition\\_pls.py:107: ConvergenceWarning: Maximum number of iterations reached\n",
      "  warnings.warn(\"Maximum number of iterations reached\", ConvergenceWarning)\n",
      "C:\\Users\\simon\\anaconda3\\envs\\myenv\\lib\\site-packages\\sklearn\\cross_decomposition\\_pls.py:107: ConvergenceWarning: Maximum number of iterations reached\n",
      "  warnings.warn(\"Maximum number of iterations reached\", ConvergenceWarning)\n",
      "C:\\Users\\simon\\anaconda3\\envs\\myenv\\lib\\site-packages\\sklearn\\cross_decomposition\\_pls.py:107: ConvergenceWarning: Maximum number of iterations reached\n",
      "  warnings.warn(\"Maximum number of iterations reached\", ConvergenceWarning)\n",
      "C:\\Users\\simon\\anaconda3\\envs\\myenv\\lib\\site-packages\\sklearn\\cross_decomposition\\_pls.py:107: ConvergenceWarning: Maximum number of iterations reached\n",
      "  warnings.warn(\"Maximum number of iterations reached\", ConvergenceWarning)\n",
      "C:\\Users\\simon\\anaconda3\\envs\\myenv\\lib\\site-packages\\sklearn\\cross_decomposition\\_pls.py:107: ConvergenceWarning: Maximum number of iterations reached\n",
      "  warnings.warn(\"Maximum number of iterations reached\", ConvergenceWarning)\n",
      "C:\\Users\\simon\\anaconda3\\envs\\myenv\\lib\\site-packages\\sklearn\\cross_decomposition\\_pls.py:107: ConvergenceWarning: Maximum number of iterations reached\n",
      "  warnings.warn(\"Maximum number of iterations reached\", ConvergenceWarning)\n",
      "C:\\Users\\simon\\anaconda3\\envs\\myenv\\lib\\site-packages\\sklearn\\cross_decomposition\\_pls.py:107: ConvergenceWarning: Maximum number of iterations reached\n",
      "  warnings.warn(\"Maximum number of iterations reached\", ConvergenceWarning)\n",
      "C:\\Users\\simon\\anaconda3\\envs\\myenv\\lib\\site-packages\\sklearn\\cross_decomposition\\_pls.py:107: ConvergenceWarning: Maximum number of iterations reached\n",
      "  warnings.warn(\"Maximum number of iterations reached\", ConvergenceWarning)\n",
      "C:\\Users\\simon\\anaconda3\\envs\\myenv\\lib\\site-packages\\sklearn\\cross_decomposition\\_pls.py:107: ConvergenceWarning: Maximum number of iterations reached\n",
      "  warnings.warn(\"Maximum number of iterations reached\", ConvergenceWarning)\n",
      "C:\\Users\\simon\\anaconda3\\envs\\myenv\\lib\\site-packages\\sklearn\\cross_decomposition\\_pls.py:107: ConvergenceWarning: Maximum number of iterations reached\n",
      "  warnings.warn(\"Maximum number of iterations reached\", ConvergenceWarning)\n",
      "C:\\Users\\simon\\anaconda3\\envs\\myenv\\lib\\site-packages\\sklearn\\cross_decomposition\\_pls.py:107: ConvergenceWarning: Maximum number of iterations reached\n",
      "  warnings.warn(\"Maximum number of iterations reached\", ConvergenceWarning)\n",
      "C:\\Users\\simon\\anaconda3\\envs\\myenv\\lib\\site-packages\\sklearn\\cross_decomposition\\_pls.py:107: ConvergenceWarning: Maximum number of iterations reached\n",
      "  warnings.warn(\"Maximum number of iterations reached\", ConvergenceWarning)\n",
      "C:\\Users\\simon\\anaconda3\\envs\\myenv\\lib\\site-packages\\sklearn\\cross_decomposition\\_pls.py:107: ConvergenceWarning: Maximum number of iterations reached\n",
      "  warnings.warn(\"Maximum number of iterations reached\", ConvergenceWarning)\n"
     ]
    },
    {
     "name": "stderr",
     "output_type": "stream",
     "text": [
      "C:\\Users\\simon\\anaconda3\\envs\\myenv\\lib\\site-packages\\sklearn\\cross_decomposition\\_pls.py:107: ConvergenceWarning: Maximum number of iterations reached\n",
      "  warnings.warn(\"Maximum number of iterations reached\", ConvergenceWarning)\n",
      "C:\\Users\\simon\\anaconda3\\envs\\myenv\\lib\\site-packages\\sklearn\\cross_decomposition\\_pls.py:107: ConvergenceWarning: Maximum number of iterations reached\n",
      "  warnings.warn(\"Maximum number of iterations reached\", ConvergenceWarning)\n",
      "C:\\Users\\simon\\anaconda3\\envs\\myenv\\lib\\site-packages\\sklearn\\cross_decomposition\\_pls.py:107: ConvergenceWarning: Maximum number of iterations reached\n",
      "  warnings.warn(\"Maximum number of iterations reached\", ConvergenceWarning)\n",
      "C:\\Users\\simon\\anaconda3\\envs\\myenv\\lib\\site-packages\\sklearn\\cross_decomposition\\_pls.py:107: ConvergenceWarning: Maximum number of iterations reached\n",
      "  warnings.warn(\"Maximum number of iterations reached\", ConvergenceWarning)\n",
      "C:\\Users\\simon\\anaconda3\\envs\\myenv\\lib\\site-packages\\sklearn\\cross_decomposition\\_pls.py:107: ConvergenceWarning: Maximum number of iterations reached\n",
      "  warnings.warn(\"Maximum number of iterations reached\", ConvergenceWarning)\n",
      "C:\\Users\\simon\\anaconda3\\envs\\myenv\\lib\\site-packages\\sklearn\\cross_decomposition\\_pls.py:107: ConvergenceWarning: Maximum number of iterations reached\n",
      "  warnings.warn(\"Maximum number of iterations reached\", ConvergenceWarning)\n",
      "C:\\Users\\simon\\anaconda3\\envs\\myenv\\lib\\site-packages\\sklearn\\cross_decomposition\\_pls.py:107: ConvergenceWarning: Maximum number of iterations reached\n",
      "  warnings.warn(\"Maximum number of iterations reached\", ConvergenceWarning)\n",
      "C:\\Users\\simon\\anaconda3\\envs\\myenv\\lib\\site-packages\\sklearn\\cross_decomposition\\_pls.py:107: ConvergenceWarning: Maximum number of iterations reached\n",
      "  warnings.warn(\"Maximum number of iterations reached\", ConvergenceWarning)\n",
      "C:\\Users\\simon\\anaconda3\\envs\\myenv\\lib\\site-packages\\sklearn\\cross_decomposition\\_pls.py:107: ConvergenceWarning: Maximum number of iterations reached\n",
      "  warnings.warn(\"Maximum number of iterations reached\", ConvergenceWarning)\n",
      "C:\\Users\\simon\\anaconda3\\envs\\myenv\\lib\\site-packages\\sklearn\\cross_decomposition\\_pls.py:107: ConvergenceWarning: Maximum number of iterations reached\n",
      "  warnings.warn(\"Maximum number of iterations reached\", ConvergenceWarning)\n",
      "C:\\Users\\simon\\anaconda3\\envs\\myenv\\lib\\site-packages\\sklearn\\cross_decomposition\\_pls.py:107: ConvergenceWarning: Maximum number of iterations reached\n",
      "  warnings.warn(\"Maximum number of iterations reached\", ConvergenceWarning)\n",
      "C:\\Users\\simon\\anaconda3\\envs\\myenv\\lib\\site-packages\\sklearn\\cross_decomposition\\_pls.py:107: ConvergenceWarning: Maximum number of iterations reached\n",
      "  warnings.warn(\"Maximum number of iterations reached\", ConvergenceWarning)\n",
      "C:\\Users\\simon\\anaconda3\\envs\\myenv\\lib\\site-packages\\sklearn\\cross_decomposition\\_pls.py:107: ConvergenceWarning: Maximum number of iterations reached\n",
      "  warnings.warn(\"Maximum number of iterations reached\", ConvergenceWarning)\n",
      "C:\\Users\\simon\\anaconda3\\envs\\myenv\\lib\\site-packages\\sklearn\\cross_decomposition\\_pls.py:107: ConvergenceWarning: Maximum number of iterations reached\n",
      "  warnings.warn(\"Maximum number of iterations reached\", ConvergenceWarning)\n",
      "C:\\Users\\simon\\anaconda3\\envs\\myenv\\lib\\site-packages\\sklearn\\cross_decomposition\\_pls.py:107: ConvergenceWarning: Maximum number of iterations reached\n",
      "  warnings.warn(\"Maximum number of iterations reached\", ConvergenceWarning)\n",
      "C:\\Users\\simon\\anaconda3\\envs\\myenv\\lib\\site-packages\\sklearn\\cross_decomposition\\_pls.py:107: ConvergenceWarning: Maximum number of iterations reached\n",
      "  warnings.warn(\"Maximum number of iterations reached\", ConvergenceWarning)\n",
      "C:\\Users\\simon\\anaconda3\\envs\\myenv\\lib\\site-packages\\sklearn\\cross_decomposition\\_pls.py:107: ConvergenceWarning: Maximum number of iterations reached\n",
      "  warnings.warn(\"Maximum number of iterations reached\", ConvergenceWarning)\n",
      "C:\\Users\\simon\\anaconda3\\envs\\myenv\\lib\\site-packages\\sklearn\\cross_decomposition\\_pls.py:107: ConvergenceWarning: Maximum number of iterations reached\n",
      "  warnings.warn(\"Maximum number of iterations reached\", ConvergenceWarning)\n",
      "C:\\Users\\simon\\anaconda3\\envs\\myenv\\lib\\site-packages\\sklearn\\cross_decomposition\\_pls.py:107: ConvergenceWarning: Maximum number of iterations reached\n",
      "  warnings.warn(\"Maximum number of iterations reached\", ConvergenceWarning)\n",
      "C:\\Users\\simon\\anaconda3\\envs\\myenv\\lib\\site-packages\\sklearn\\cross_decomposition\\_pls.py:107: ConvergenceWarning: Maximum number of iterations reached\n",
      "  warnings.warn(\"Maximum number of iterations reached\", ConvergenceWarning)\n",
      "C:\\Users\\simon\\anaconda3\\envs\\myenv\\lib\\site-packages\\sklearn\\cross_decomposition\\_pls.py:107: ConvergenceWarning: Maximum number of iterations reached\n",
      "  warnings.warn(\"Maximum number of iterations reached\", ConvergenceWarning)\n",
      "C:\\Users\\simon\\anaconda3\\envs\\myenv\\lib\\site-packages\\sklearn\\cross_decomposition\\_pls.py:107: ConvergenceWarning: Maximum number of iterations reached\n",
      "  warnings.warn(\"Maximum number of iterations reached\", ConvergenceWarning)\n",
      "C:\\Users\\simon\\anaconda3\\envs\\myenv\\lib\\site-packages\\sklearn\\cross_decomposition\\_pls.py:107: ConvergenceWarning: Maximum number of iterations reached\n",
      "  warnings.warn(\"Maximum number of iterations reached\", ConvergenceWarning)\n",
      "C:\\Users\\simon\\anaconda3\\envs\\myenv\\lib\\site-packages\\sklearn\\cross_decomposition\\_pls.py:107: ConvergenceWarning: Maximum number of iterations reached\n",
      "  warnings.warn(\"Maximum number of iterations reached\", ConvergenceWarning)\n",
      "C:\\Users\\simon\\anaconda3\\envs\\myenv\\lib\\site-packages\\sklearn\\cross_decomposition\\_pls.py:107: ConvergenceWarning: Maximum number of iterations reached\n",
      "  warnings.warn(\"Maximum number of iterations reached\", ConvergenceWarning)\n",
      "C:\\Users\\simon\\anaconda3\\envs\\myenv\\lib\\site-packages\\sklearn\\cross_decomposition\\_pls.py:107: ConvergenceWarning: Maximum number of iterations reached\n",
      "  warnings.warn(\"Maximum number of iterations reached\", ConvergenceWarning)\n",
      "C:\\Users\\simon\\anaconda3\\envs\\myenv\\lib\\site-packages\\sklearn\\cross_decomposition\\_pls.py:107: ConvergenceWarning: Maximum number of iterations reached\n",
      "  warnings.warn(\"Maximum number of iterations reached\", ConvergenceWarning)\n",
      "C:\\Users\\simon\\anaconda3\\envs\\myenv\\lib\\site-packages\\sklearn\\cross_decomposition\\_pls.py:107: ConvergenceWarning: Maximum number of iterations reached\n",
      "  warnings.warn(\"Maximum number of iterations reached\", ConvergenceWarning)\n",
      "C:\\Users\\simon\\anaconda3\\envs\\myenv\\lib\\site-packages\\sklearn\\cross_decomposition\\_pls.py:107: ConvergenceWarning: Maximum number of iterations reached\n",
      "  warnings.warn(\"Maximum number of iterations reached\", ConvergenceWarning)\n",
      "C:\\Users\\simon\\anaconda3\\envs\\myenv\\lib\\site-packages\\sklearn\\cross_decomposition\\_pls.py:107: ConvergenceWarning: Maximum number of iterations reached\n",
      "  warnings.warn(\"Maximum number of iterations reached\", ConvergenceWarning)\n",
      "C:\\Users\\simon\\anaconda3\\envs\\myenv\\lib\\site-packages\\sklearn\\cross_decomposition\\_pls.py:107: ConvergenceWarning: Maximum number of iterations reached\n",
      "  warnings.warn(\"Maximum number of iterations reached\", ConvergenceWarning)\n",
      "C:\\Users\\simon\\anaconda3\\envs\\myenv\\lib\\site-packages\\sklearn\\cross_decomposition\\_pls.py:107: ConvergenceWarning: Maximum number of iterations reached\n",
      "  warnings.warn(\"Maximum number of iterations reached\", ConvergenceWarning)\n",
      "C:\\Users\\simon\\anaconda3\\envs\\myenv\\lib\\site-packages\\sklearn\\cross_decomposition\\_pls.py:107: ConvergenceWarning: Maximum number of iterations reached\n",
      "  warnings.warn(\"Maximum number of iterations reached\", ConvergenceWarning)\n",
      "C:\\Users\\simon\\anaconda3\\envs\\myenv\\lib\\site-packages\\sklearn\\cross_decomposition\\_pls.py:107: ConvergenceWarning: Maximum number of iterations reached\n",
      "  warnings.warn(\"Maximum number of iterations reached\", ConvergenceWarning)\n",
      "C:\\Users\\simon\\anaconda3\\envs\\myenv\\lib\\site-packages\\sklearn\\cross_decomposition\\_pls.py:107: ConvergenceWarning: Maximum number of iterations reached\n",
      "  warnings.warn(\"Maximum number of iterations reached\", ConvergenceWarning)\n",
      "C:\\Users\\simon\\anaconda3\\envs\\myenv\\lib\\site-packages\\sklearn\\cross_decomposition\\_pls.py:107: ConvergenceWarning: Maximum number of iterations reached\n",
      "  warnings.warn(\"Maximum number of iterations reached\", ConvergenceWarning)\n"
     ]
    },
    {
     "name": "stderr",
     "output_type": "stream",
     "text": [
      "C:\\Users\\simon\\anaconda3\\envs\\myenv\\lib\\site-packages\\sklearn\\cross_decomposition\\_pls.py:107: ConvergenceWarning: Maximum number of iterations reached\n",
      "  warnings.warn(\"Maximum number of iterations reached\", ConvergenceWarning)\n",
      "C:\\Users\\simon\\anaconda3\\envs\\myenv\\lib\\site-packages\\sklearn\\cross_decomposition\\_pls.py:107: ConvergenceWarning: Maximum number of iterations reached\n",
      "  warnings.warn(\"Maximum number of iterations reached\", ConvergenceWarning)\n",
      "C:\\Users\\simon\\anaconda3\\envs\\myenv\\lib\\site-packages\\sklearn\\cross_decomposition\\_pls.py:107: ConvergenceWarning: Maximum number of iterations reached\n",
      "  warnings.warn(\"Maximum number of iterations reached\", ConvergenceWarning)\n",
      "C:\\Users\\simon\\anaconda3\\envs\\myenv\\lib\\site-packages\\sklearn\\cross_decomposition\\_pls.py:107: ConvergenceWarning: Maximum number of iterations reached\n",
      "  warnings.warn(\"Maximum number of iterations reached\", ConvergenceWarning)\n",
      "C:\\Users\\simon\\anaconda3\\envs\\myenv\\lib\\site-packages\\sklearn\\cross_decomposition\\_pls.py:107: ConvergenceWarning: Maximum number of iterations reached\n",
      "  warnings.warn(\"Maximum number of iterations reached\", ConvergenceWarning)\n",
      "C:\\Users\\simon\\anaconda3\\envs\\myenv\\lib\\site-packages\\sklearn\\cross_decomposition\\_pls.py:107: ConvergenceWarning: Maximum number of iterations reached\n",
      "  warnings.warn(\"Maximum number of iterations reached\", ConvergenceWarning)\n",
      "C:\\Users\\simon\\anaconda3\\envs\\myenv\\lib\\site-packages\\sklearn\\cross_decomposition\\_pls.py:107: ConvergenceWarning: Maximum number of iterations reached\n",
      "  warnings.warn(\"Maximum number of iterations reached\", ConvergenceWarning)\n",
      "C:\\Users\\simon\\anaconda3\\envs\\myenv\\lib\\site-packages\\sklearn\\cross_decomposition\\_pls.py:107: ConvergenceWarning: Maximum number of iterations reached\n",
      "  warnings.warn(\"Maximum number of iterations reached\", ConvergenceWarning)\n",
      "C:\\Users\\simon\\anaconda3\\envs\\myenv\\lib\\site-packages\\sklearn\\cross_decomposition\\_pls.py:107: ConvergenceWarning: Maximum number of iterations reached\n",
      "  warnings.warn(\"Maximum number of iterations reached\", ConvergenceWarning)\n",
      "C:\\Users\\simon\\anaconda3\\envs\\myenv\\lib\\site-packages\\sklearn\\cross_decomposition\\_pls.py:107: ConvergenceWarning: Maximum number of iterations reached\n",
      "  warnings.warn(\"Maximum number of iterations reached\", ConvergenceWarning)\n",
      "C:\\Users\\simon\\anaconda3\\envs\\myenv\\lib\\site-packages\\sklearn\\cross_decomposition\\_pls.py:107: ConvergenceWarning: Maximum number of iterations reached\n",
      "  warnings.warn(\"Maximum number of iterations reached\", ConvergenceWarning)\n",
      "C:\\Users\\simon\\anaconda3\\envs\\myenv\\lib\\site-packages\\sklearn\\cross_decomposition\\_pls.py:107: ConvergenceWarning: Maximum number of iterations reached\n",
      "  warnings.warn(\"Maximum number of iterations reached\", ConvergenceWarning)\n",
      "C:\\Users\\simon\\anaconda3\\envs\\myenv\\lib\\site-packages\\sklearn\\cross_decomposition\\_pls.py:107: ConvergenceWarning: Maximum number of iterations reached\n",
      "  warnings.warn(\"Maximum number of iterations reached\", ConvergenceWarning)\n",
      "C:\\Users\\simon\\anaconda3\\envs\\myenv\\lib\\site-packages\\sklearn\\cross_decomposition\\_pls.py:107: ConvergenceWarning: Maximum number of iterations reached\n",
      "  warnings.warn(\"Maximum number of iterations reached\", ConvergenceWarning)\n",
      "C:\\Users\\simon\\anaconda3\\envs\\myenv\\lib\\site-packages\\sklearn\\cross_decomposition\\_pls.py:107: ConvergenceWarning: Maximum number of iterations reached\n",
      "  warnings.warn(\"Maximum number of iterations reached\", ConvergenceWarning)\n",
      "C:\\Users\\simon\\anaconda3\\envs\\myenv\\lib\\site-packages\\sklearn\\cross_decomposition\\_pls.py:107: ConvergenceWarning: Maximum number of iterations reached\n",
      "  warnings.warn(\"Maximum number of iterations reached\", ConvergenceWarning)\n",
      "C:\\Users\\simon\\anaconda3\\envs\\myenv\\lib\\site-packages\\sklearn\\cross_decomposition\\_pls.py:107: ConvergenceWarning: Maximum number of iterations reached\n",
      "  warnings.warn(\"Maximum number of iterations reached\", ConvergenceWarning)\n",
      "C:\\Users\\simon\\anaconda3\\envs\\myenv\\lib\\site-packages\\sklearn\\cross_decomposition\\_pls.py:107: ConvergenceWarning: Maximum number of iterations reached\n",
      "  warnings.warn(\"Maximum number of iterations reached\", ConvergenceWarning)\n",
      "C:\\Users\\simon\\anaconda3\\envs\\myenv\\lib\\site-packages\\sklearn\\cross_decomposition\\_pls.py:107: ConvergenceWarning: Maximum number of iterations reached\n",
      "  warnings.warn(\"Maximum number of iterations reached\", ConvergenceWarning)\n",
      "C:\\Users\\simon\\anaconda3\\envs\\myenv\\lib\\site-packages\\sklearn\\cross_decomposition\\_pls.py:107: ConvergenceWarning: Maximum number of iterations reached\n",
      "  warnings.warn(\"Maximum number of iterations reached\", ConvergenceWarning)\n",
      "C:\\Users\\simon\\anaconda3\\envs\\myenv\\lib\\site-packages\\sklearn\\cross_decomposition\\_pls.py:107: ConvergenceWarning: Maximum number of iterations reached\n",
      "  warnings.warn(\"Maximum number of iterations reached\", ConvergenceWarning)\n",
      "C:\\Users\\simon\\anaconda3\\envs\\myenv\\lib\\site-packages\\sklearn\\cross_decomposition\\_pls.py:107: ConvergenceWarning: Maximum number of iterations reached\n",
      "  warnings.warn(\"Maximum number of iterations reached\", ConvergenceWarning)\n",
      "C:\\Users\\simon\\anaconda3\\envs\\myenv\\lib\\site-packages\\sklearn\\cross_decomposition\\_pls.py:107: ConvergenceWarning: Maximum number of iterations reached\n",
      "  warnings.warn(\"Maximum number of iterations reached\", ConvergenceWarning)\n",
      "C:\\Users\\simon\\anaconda3\\envs\\myenv\\lib\\site-packages\\sklearn\\cross_decomposition\\_pls.py:107: ConvergenceWarning: Maximum number of iterations reached\n",
      "  warnings.warn(\"Maximum number of iterations reached\", ConvergenceWarning)\n",
      "C:\\Users\\simon\\anaconda3\\envs\\myenv\\lib\\site-packages\\sklearn\\cross_decomposition\\_pls.py:107: ConvergenceWarning: Maximum number of iterations reached\n",
      "  warnings.warn(\"Maximum number of iterations reached\", ConvergenceWarning)\n",
      "C:\\Users\\simon\\anaconda3\\envs\\myenv\\lib\\site-packages\\sklearn\\cross_decomposition\\_pls.py:107: ConvergenceWarning: Maximum number of iterations reached\n",
      "  warnings.warn(\"Maximum number of iterations reached\", ConvergenceWarning)\n",
      "C:\\Users\\simon\\anaconda3\\envs\\myenv\\lib\\site-packages\\sklearn\\cross_decomposition\\_pls.py:107: ConvergenceWarning: Maximum number of iterations reached\n",
      "  warnings.warn(\"Maximum number of iterations reached\", ConvergenceWarning)\n",
      "C:\\Users\\simon\\anaconda3\\envs\\myenv\\lib\\site-packages\\sklearn\\cross_decomposition\\_pls.py:107: ConvergenceWarning: Maximum number of iterations reached\n",
      "  warnings.warn(\"Maximum number of iterations reached\", ConvergenceWarning)\n",
      "C:\\Users\\simon\\anaconda3\\envs\\myenv\\lib\\site-packages\\sklearn\\cross_decomposition\\_pls.py:107: ConvergenceWarning: Maximum number of iterations reached\n",
      "  warnings.warn(\"Maximum number of iterations reached\", ConvergenceWarning)\n",
      "C:\\Users\\simon\\anaconda3\\envs\\myenv\\lib\\site-packages\\sklearn\\cross_decomposition\\_pls.py:107: ConvergenceWarning: Maximum number of iterations reached\n",
      "  warnings.warn(\"Maximum number of iterations reached\", ConvergenceWarning)\n",
      "C:\\Users\\simon\\anaconda3\\envs\\myenv\\lib\\site-packages\\sklearn\\cross_decomposition\\_pls.py:107: ConvergenceWarning: Maximum number of iterations reached\n",
      "  warnings.warn(\"Maximum number of iterations reached\", ConvergenceWarning)\n",
      "C:\\Users\\simon\\anaconda3\\envs\\myenv\\lib\\site-packages\\sklearn\\cross_decomposition\\_pls.py:107: ConvergenceWarning: Maximum number of iterations reached\n",
      "  warnings.warn(\"Maximum number of iterations reached\", ConvergenceWarning)\n",
      "C:\\Users\\simon\\anaconda3\\envs\\myenv\\lib\\site-packages\\sklearn\\cross_decomposition\\_pls.py:107: ConvergenceWarning: Maximum number of iterations reached\n",
      "  warnings.warn(\"Maximum number of iterations reached\", ConvergenceWarning)\n",
      "C:\\Users\\simon\\anaconda3\\envs\\myenv\\lib\\site-packages\\sklearn\\cross_decomposition\\_pls.py:107: ConvergenceWarning: Maximum number of iterations reached\n",
      "  warnings.warn(\"Maximum number of iterations reached\", ConvergenceWarning)\n",
      "C:\\Users\\simon\\anaconda3\\envs\\myenv\\lib\\site-packages\\sklearn\\cross_decomposition\\_pls.py:107: ConvergenceWarning: Maximum number of iterations reached\n",
      "  warnings.warn(\"Maximum number of iterations reached\", ConvergenceWarning)\n",
      "C:\\Users\\simon\\anaconda3\\envs\\myenv\\lib\\site-packages\\sklearn\\cross_decomposition\\_pls.py:107: ConvergenceWarning: Maximum number of iterations reached\n",
      "  warnings.warn(\"Maximum number of iterations reached\", ConvergenceWarning)\n"
     ]
    },
    {
     "name": "stderr",
     "output_type": "stream",
     "text": [
      "C:\\Users\\simon\\anaconda3\\envs\\myenv\\lib\\site-packages\\sklearn\\cross_decomposition\\_pls.py:107: ConvergenceWarning: Maximum number of iterations reached\n",
      "  warnings.warn(\"Maximum number of iterations reached\", ConvergenceWarning)\n",
      "C:\\Users\\simon\\anaconda3\\envs\\myenv\\lib\\site-packages\\sklearn\\cross_decomposition\\_pls.py:107: ConvergenceWarning: Maximum number of iterations reached\n",
      "  warnings.warn(\"Maximum number of iterations reached\", ConvergenceWarning)\n",
      "C:\\Users\\simon\\anaconda3\\envs\\myenv\\lib\\site-packages\\sklearn\\cross_decomposition\\_pls.py:107: ConvergenceWarning: Maximum number of iterations reached\n",
      "  warnings.warn(\"Maximum number of iterations reached\", ConvergenceWarning)\n",
      "C:\\Users\\simon\\anaconda3\\envs\\myenv\\lib\\site-packages\\sklearn\\cross_decomposition\\_pls.py:107: ConvergenceWarning: Maximum number of iterations reached\n",
      "  warnings.warn(\"Maximum number of iterations reached\", ConvergenceWarning)\n",
      "C:\\Users\\simon\\anaconda3\\envs\\myenv\\lib\\site-packages\\sklearn\\cross_decomposition\\_pls.py:107: ConvergenceWarning: Maximum number of iterations reached\n",
      "  warnings.warn(\"Maximum number of iterations reached\", ConvergenceWarning)\n",
      "C:\\Users\\simon\\anaconda3\\envs\\myenv\\lib\\site-packages\\sklearn\\cross_decomposition\\_pls.py:107: ConvergenceWarning: Maximum number of iterations reached\n",
      "  warnings.warn(\"Maximum number of iterations reached\", ConvergenceWarning)\n",
      "C:\\Users\\simon\\anaconda3\\envs\\myenv\\lib\\site-packages\\sklearn\\cross_decomposition\\_pls.py:107: ConvergenceWarning: Maximum number of iterations reached\n",
      "  warnings.warn(\"Maximum number of iterations reached\", ConvergenceWarning)\n",
      "C:\\Users\\simon\\anaconda3\\envs\\myenv\\lib\\site-packages\\sklearn\\cross_decomposition\\_pls.py:107: ConvergenceWarning: Maximum number of iterations reached\n",
      "  warnings.warn(\"Maximum number of iterations reached\", ConvergenceWarning)\n",
      "C:\\Users\\simon\\anaconda3\\envs\\myenv\\lib\\site-packages\\sklearn\\cross_decomposition\\_pls.py:107: ConvergenceWarning: Maximum number of iterations reached\n",
      "  warnings.warn(\"Maximum number of iterations reached\", ConvergenceWarning)\n",
      "C:\\Users\\simon\\anaconda3\\envs\\myenv\\lib\\site-packages\\sklearn\\cross_decomposition\\_pls.py:107: ConvergenceWarning: Maximum number of iterations reached\n",
      "  warnings.warn(\"Maximum number of iterations reached\", ConvergenceWarning)\n",
      "C:\\Users\\simon\\anaconda3\\envs\\myenv\\lib\\site-packages\\sklearn\\cross_decomposition\\_pls.py:107: ConvergenceWarning: Maximum number of iterations reached\n",
      "  warnings.warn(\"Maximum number of iterations reached\", ConvergenceWarning)\n",
      "C:\\Users\\simon\\anaconda3\\envs\\myenv\\lib\\site-packages\\sklearn\\cross_decomposition\\_pls.py:107: ConvergenceWarning: Maximum number of iterations reached\n",
      "  warnings.warn(\"Maximum number of iterations reached\", ConvergenceWarning)\n",
      "C:\\Users\\simon\\anaconda3\\envs\\myenv\\lib\\site-packages\\sklearn\\cross_decomposition\\_pls.py:107: ConvergenceWarning: Maximum number of iterations reached\n",
      "  warnings.warn(\"Maximum number of iterations reached\", ConvergenceWarning)\n",
      "C:\\Users\\simon\\anaconda3\\envs\\myenv\\lib\\site-packages\\sklearn\\cross_decomposition\\_pls.py:107: ConvergenceWarning: Maximum number of iterations reached\n",
      "  warnings.warn(\"Maximum number of iterations reached\", ConvergenceWarning)\n",
      "C:\\Users\\simon\\anaconda3\\envs\\myenv\\lib\\site-packages\\sklearn\\cross_decomposition\\_pls.py:107: ConvergenceWarning: Maximum number of iterations reached\n",
      "  warnings.warn(\"Maximum number of iterations reached\", ConvergenceWarning)\n",
      "C:\\Users\\simon\\anaconda3\\envs\\myenv\\lib\\site-packages\\sklearn\\cross_decomposition\\_pls.py:107: ConvergenceWarning: Maximum number of iterations reached\n",
      "  warnings.warn(\"Maximum number of iterations reached\", ConvergenceWarning)\n",
      "C:\\Users\\simon\\anaconda3\\envs\\myenv\\lib\\site-packages\\sklearn\\cross_decomposition\\_pls.py:107: ConvergenceWarning: Maximum number of iterations reached\n",
      "  warnings.warn(\"Maximum number of iterations reached\", ConvergenceWarning)\n",
      "C:\\Users\\simon\\anaconda3\\envs\\myenv\\lib\\site-packages\\sklearn\\cross_decomposition\\_pls.py:107: ConvergenceWarning: Maximum number of iterations reached\n",
      "  warnings.warn(\"Maximum number of iterations reached\", ConvergenceWarning)\n",
      "C:\\Users\\simon\\anaconda3\\envs\\myenv\\lib\\site-packages\\sklearn\\cross_decomposition\\_pls.py:107: ConvergenceWarning: Maximum number of iterations reached\n",
      "  warnings.warn(\"Maximum number of iterations reached\", ConvergenceWarning)\n",
      "C:\\Users\\simon\\anaconda3\\envs\\myenv\\lib\\site-packages\\sklearn\\cross_decomposition\\_pls.py:107: ConvergenceWarning: Maximum number of iterations reached\n",
      "  warnings.warn(\"Maximum number of iterations reached\", ConvergenceWarning)\n",
      "C:\\Users\\simon\\anaconda3\\envs\\myenv\\lib\\site-packages\\sklearn\\cross_decomposition\\_pls.py:107: ConvergenceWarning: Maximum number of iterations reached\n",
      "  warnings.warn(\"Maximum number of iterations reached\", ConvergenceWarning)\n",
      "C:\\Users\\simon\\anaconda3\\envs\\myenv\\lib\\site-packages\\sklearn\\cross_decomposition\\_pls.py:107: ConvergenceWarning: Maximum number of iterations reached\n",
      "  warnings.warn(\"Maximum number of iterations reached\", ConvergenceWarning)\n",
      "C:\\Users\\simon\\anaconda3\\envs\\myenv\\lib\\site-packages\\sklearn\\cross_decomposition\\_pls.py:107: ConvergenceWarning: Maximum number of iterations reached\n",
      "  warnings.warn(\"Maximum number of iterations reached\", ConvergenceWarning)\n",
      "C:\\Users\\simon\\anaconda3\\envs\\myenv\\lib\\site-packages\\sklearn\\cross_decomposition\\_pls.py:107: ConvergenceWarning: Maximum number of iterations reached\n",
      "  warnings.warn(\"Maximum number of iterations reached\", ConvergenceWarning)\n",
      "C:\\Users\\simon\\anaconda3\\envs\\myenv\\lib\\site-packages\\sklearn\\cross_decomposition\\_pls.py:107: ConvergenceWarning: Maximum number of iterations reached\n",
      "  warnings.warn(\"Maximum number of iterations reached\", ConvergenceWarning)\n",
      "C:\\Users\\simon\\anaconda3\\envs\\myenv\\lib\\site-packages\\sklearn\\cross_decomposition\\_pls.py:107: ConvergenceWarning: Maximum number of iterations reached\n",
      "  warnings.warn(\"Maximum number of iterations reached\", ConvergenceWarning)\n",
      "C:\\Users\\simon\\anaconda3\\envs\\myenv\\lib\\site-packages\\sklearn\\cross_decomposition\\_pls.py:107: ConvergenceWarning: Maximum number of iterations reached\n",
      "  warnings.warn(\"Maximum number of iterations reached\", ConvergenceWarning)\n",
      "C:\\Users\\simon\\anaconda3\\envs\\myenv\\lib\\site-packages\\sklearn\\cross_decomposition\\_pls.py:107: ConvergenceWarning: Maximum number of iterations reached\n",
      "  warnings.warn(\"Maximum number of iterations reached\", ConvergenceWarning)\n",
      "C:\\Users\\simon\\anaconda3\\envs\\myenv\\lib\\site-packages\\sklearn\\cross_decomposition\\_pls.py:107: ConvergenceWarning: Maximum number of iterations reached\n",
      "  warnings.warn(\"Maximum number of iterations reached\", ConvergenceWarning)\n",
      "C:\\Users\\simon\\anaconda3\\envs\\myenv\\lib\\site-packages\\sklearn\\cross_decomposition\\_pls.py:107: ConvergenceWarning: Maximum number of iterations reached\n",
      "  warnings.warn(\"Maximum number of iterations reached\", ConvergenceWarning)\n",
      "C:\\Users\\simon\\anaconda3\\envs\\myenv\\lib\\site-packages\\sklearn\\cross_decomposition\\_pls.py:107: ConvergenceWarning: Maximum number of iterations reached\n",
      "  warnings.warn(\"Maximum number of iterations reached\", ConvergenceWarning)\n",
      "C:\\Users\\simon\\anaconda3\\envs\\myenv\\lib\\site-packages\\sklearn\\cross_decomposition\\_pls.py:107: ConvergenceWarning: Maximum number of iterations reached\n",
      "  warnings.warn(\"Maximum number of iterations reached\", ConvergenceWarning)\n",
      "C:\\Users\\simon\\anaconda3\\envs\\myenv\\lib\\site-packages\\sklearn\\cross_decomposition\\_pls.py:107: ConvergenceWarning: Maximum number of iterations reached\n",
      "  warnings.warn(\"Maximum number of iterations reached\", ConvergenceWarning)\n",
      "C:\\Users\\simon\\anaconda3\\envs\\myenv\\lib\\site-packages\\sklearn\\cross_decomposition\\_pls.py:107: ConvergenceWarning: Maximum number of iterations reached\n",
      "  warnings.warn(\"Maximum number of iterations reached\", ConvergenceWarning)\n",
      "C:\\Users\\simon\\anaconda3\\envs\\myenv\\lib\\site-packages\\sklearn\\cross_decomposition\\_pls.py:107: ConvergenceWarning: Maximum number of iterations reached\n",
      "  warnings.warn(\"Maximum number of iterations reached\", ConvergenceWarning)\n",
      "C:\\Users\\simon\\anaconda3\\envs\\myenv\\lib\\site-packages\\sklearn\\cross_decomposition\\_pls.py:107: ConvergenceWarning: Maximum number of iterations reached\n",
      "  warnings.warn(\"Maximum number of iterations reached\", ConvergenceWarning)\n"
     ]
    },
    {
     "name": "stderr",
     "output_type": "stream",
     "text": [
      "C:\\Users\\simon\\anaconda3\\envs\\myenv\\lib\\site-packages\\sklearn\\cross_decomposition\\_pls.py:107: ConvergenceWarning: Maximum number of iterations reached\n",
      "  warnings.warn(\"Maximum number of iterations reached\", ConvergenceWarning)\n",
      "C:\\Users\\simon\\anaconda3\\envs\\myenv\\lib\\site-packages\\sklearn\\cross_decomposition\\_pls.py:107: ConvergenceWarning: Maximum number of iterations reached\n",
      "  warnings.warn(\"Maximum number of iterations reached\", ConvergenceWarning)\n",
      "C:\\Users\\simon\\anaconda3\\envs\\myenv\\lib\\site-packages\\sklearn\\cross_decomposition\\_pls.py:107: ConvergenceWarning: Maximum number of iterations reached\n",
      "  warnings.warn(\"Maximum number of iterations reached\", ConvergenceWarning)\n",
      "C:\\Users\\simon\\anaconda3\\envs\\myenv\\lib\\site-packages\\sklearn\\cross_decomposition\\_pls.py:107: ConvergenceWarning: Maximum number of iterations reached\n",
      "  warnings.warn(\"Maximum number of iterations reached\", ConvergenceWarning)\n",
      "C:\\Users\\simon\\anaconda3\\envs\\myenv\\lib\\site-packages\\sklearn\\cross_decomposition\\_pls.py:107: ConvergenceWarning: Maximum number of iterations reached\n",
      "  warnings.warn(\"Maximum number of iterations reached\", ConvergenceWarning)\n",
      "C:\\Users\\simon\\anaconda3\\envs\\myenv\\lib\\site-packages\\sklearn\\cross_decomposition\\_pls.py:107: ConvergenceWarning: Maximum number of iterations reached\n",
      "  warnings.warn(\"Maximum number of iterations reached\", ConvergenceWarning)\n",
      "C:\\Users\\simon\\anaconda3\\envs\\myenv\\lib\\site-packages\\sklearn\\cross_decomposition\\_pls.py:107: ConvergenceWarning: Maximum number of iterations reached\n",
      "  warnings.warn(\"Maximum number of iterations reached\", ConvergenceWarning)\n",
      "C:\\Users\\simon\\anaconda3\\envs\\myenv\\lib\\site-packages\\sklearn\\cross_decomposition\\_pls.py:107: ConvergenceWarning: Maximum number of iterations reached\n",
      "  warnings.warn(\"Maximum number of iterations reached\", ConvergenceWarning)\n",
      "C:\\Users\\simon\\anaconda3\\envs\\myenv\\lib\\site-packages\\sklearn\\cross_decomposition\\_pls.py:107: ConvergenceWarning: Maximum number of iterations reached\n",
      "  warnings.warn(\"Maximum number of iterations reached\", ConvergenceWarning)\n",
      "C:\\Users\\simon\\anaconda3\\envs\\myenv\\lib\\site-packages\\sklearn\\cross_decomposition\\_pls.py:107: ConvergenceWarning: Maximum number of iterations reached\n",
      "  warnings.warn(\"Maximum number of iterations reached\", ConvergenceWarning)\n",
      "C:\\Users\\simon\\anaconda3\\envs\\myenv\\lib\\site-packages\\sklearn\\cross_decomposition\\_pls.py:107: ConvergenceWarning: Maximum number of iterations reached\n",
      "  warnings.warn(\"Maximum number of iterations reached\", ConvergenceWarning)\n",
      "C:\\Users\\simon\\anaconda3\\envs\\myenv\\lib\\site-packages\\sklearn\\cross_decomposition\\_pls.py:107: ConvergenceWarning: Maximum number of iterations reached\n",
      "  warnings.warn(\"Maximum number of iterations reached\", ConvergenceWarning)\n",
      "C:\\Users\\simon\\anaconda3\\envs\\myenv\\lib\\site-packages\\sklearn\\cross_decomposition\\_pls.py:107: ConvergenceWarning: Maximum number of iterations reached\n",
      "  warnings.warn(\"Maximum number of iterations reached\", ConvergenceWarning)\n",
      "C:\\Users\\simon\\anaconda3\\envs\\myenv\\lib\\site-packages\\sklearn\\cross_decomposition\\_pls.py:107: ConvergenceWarning: Maximum number of iterations reached\n",
      "  warnings.warn(\"Maximum number of iterations reached\", ConvergenceWarning)\n",
      "C:\\Users\\simon\\anaconda3\\envs\\myenv\\lib\\site-packages\\sklearn\\cross_decomposition\\_pls.py:107: ConvergenceWarning: Maximum number of iterations reached\n",
      "  warnings.warn(\"Maximum number of iterations reached\", ConvergenceWarning)\n",
      "C:\\Users\\simon\\anaconda3\\envs\\myenv\\lib\\site-packages\\sklearn\\cross_decomposition\\_pls.py:107: ConvergenceWarning: Maximum number of iterations reached\n",
      "  warnings.warn(\"Maximum number of iterations reached\", ConvergenceWarning)\n",
      "C:\\Users\\simon\\anaconda3\\envs\\myenv\\lib\\site-packages\\sklearn\\cross_decomposition\\_pls.py:107: ConvergenceWarning: Maximum number of iterations reached\n",
      "  warnings.warn(\"Maximum number of iterations reached\", ConvergenceWarning)\n",
      "C:\\Users\\simon\\anaconda3\\envs\\myenv\\lib\\site-packages\\sklearn\\cross_decomposition\\_pls.py:107: ConvergenceWarning: Maximum number of iterations reached\n",
      "  warnings.warn(\"Maximum number of iterations reached\", ConvergenceWarning)\n",
      "C:\\Users\\simon\\anaconda3\\envs\\myenv\\lib\\site-packages\\sklearn\\cross_decomposition\\_pls.py:107: ConvergenceWarning: Maximum number of iterations reached\n",
      "  warnings.warn(\"Maximum number of iterations reached\", ConvergenceWarning)\n",
      "C:\\Users\\simon\\anaconda3\\envs\\myenv\\lib\\site-packages\\sklearn\\cross_decomposition\\_pls.py:107: ConvergenceWarning: Maximum number of iterations reached\n",
      "  warnings.warn(\"Maximum number of iterations reached\", ConvergenceWarning)\n",
      "C:\\Users\\simon\\anaconda3\\envs\\myenv\\lib\\site-packages\\sklearn\\cross_decomposition\\_pls.py:107: ConvergenceWarning: Maximum number of iterations reached\n",
      "  warnings.warn(\"Maximum number of iterations reached\", ConvergenceWarning)\n",
      "C:\\Users\\simon\\anaconda3\\envs\\myenv\\lib\\site-packages\\sklearn\\cross_decomposition\\_pls.py:107: ConvergenceWarning: Maximum number of iterations reached\n",
      "  warnings.warn(\"Maximum number of iterations reached\", ConvergenceWarning)\n",
      "C:\\Users\\simon\\anaconda3\\envs\\myenv\\lib\\site-packages\\sklearn\\cross_decomposition\\_pls.py:107: ConvergenceWarning: Maximum number of iterations reached\n",
      "  warnings.warn(\"Maximum number of iterations reached\", ConvergenceWarning)\n",
      "C:\\Users\\simon\\anaconda3\\envs\\myenv\\lib\\site-packages\\sklearn\\cross_decomposition\\_pls.py:107: ConvergenceWarning: Maximum number of iterations reached\n",
      "  warnings.warn(\"Maximum number of iterations reached\", ConvergenceWarning)\n",
      "C:\\Users\\simon\\anaconda3\\envs\\myenv\\lib\\site-packages\\sklearn\\cross_decomposition\\_pls.py:107: ConvergenceWarning: Maximum number of iterations reached\n",
      "  warnings.warn(\"Maximum number of iterations reached\", ConvergenceWarning)\n",
      "C:\\Users\\simon\\anaconda3\\envs\\myenv\\lib\\site-packages\\sklearn\\cross_decomposition\\_pls.py:107: ConvergenceWarning: Maximum number of iterations reached\n",
      "  warnings.warn(\"Maximum number of iterations reached\", ConvergenceWarning)\n",
      "C:\\Users\\simon\\anaconda3\\envs\\myenv\\lib\\site-packages\\sklearn\\cross_decomposition\\_pls.py:107: ConvergenceWarning: Maximum number of iterations reached\n",
      "  warnings.warn(\"Maximum number of iterations reached\", ConvergenceWarning)\n",
      "C:\\Users\\simon\\anaconda3\\envs\\myenv\\lib\\site-packages\\sklearn\\cross_decomposition\\_pls.py:107: ConvergenceWarning: Maximum number of iterations reached\n",
      "  warnings.warn(\"Maximum number of iterations reached\", ConvergenceWarning)\n",
      "C:\\Users\\simon\\anaconda3\\envs\\myenv\\lib\\site-packages\\sklearn\\cross_decomposition\\_pls.py:107: ConvergenceWarning: Maximum number of iterations reached\n",
      "  warnings.warn(\"Maximum number of iterations reached\", ConvergenceWarning)\n",
      "C:\\Users\\simon\\anaconda3\\envs\\myenv\\lib\\site-packages\\sklearn\\cross_decomposition\\_pls.py:107: ConvergenceWarning: Maximum number of iterations reached\n",
      "  warnings.warn(\"Maximum number of iterations reached\", ConvergenceWarning)\n",
      "C:\\Users\\simon\\anaconda3\\envs\\myenv\\lib\\site-packages\\sklearn\\cross_decomposition\\_pls.py:107: ConvergenceWarning: Maximum number of iterations reached\n",
      "  warnings.warn(\"Maximum number of iterations reached\", ConvergenceWarning)\n",
      "C:\\Users\\simon\\anaconda3\\envs\\myenv\\lib\\site-packages\\sklearn\\cross_decomposition\\_pls.py:107: ConvergenceWarning: Maximum number of iterations reached\n",
      "  warnings.warn(\"Maximum number of iterations reached\", ConvergenceWarning)\n",
      "C:\\Users\\simon\\anaconda3\\envs\\myenv\\lib\\site-packages\\sklearn\\cross_decomposition\\_pls.py:107: ConvergenceWarning: Maximum number of iterations reached\n",
      "  warnings.warn(\"Maximum number of iterations reached\", ConvergenceWarning)\n",
      "C:\\Users\\simon\\anaconda3\\envs\\myenv\\lib\\site-packages\\sklearn\\cross_decomposition\\_pls.py:107: ConvergenceWarning: Maximum number of iterations reached\n",
      "  warnings.warn(\"Maximum number of iterations reached\", ConvergenceWarning)\n",
      "C:\\Users\\simon\\anaconda3\\envs\\myenv\\lib\\site-packages\\sklearn\\cross_decomposition\\_pls.py:107: ConvergenceWarning: Maximum number of iterations reached\n",
      "  warnings.warn(\"Maximum number of iterations reached\", ConvergenceWarning)\n",
      "C:\\Users\\simon\\anaconda3\\envs\\myenv\\lib\\site-packages\\sklearn\\cross_decomposition\\_pls.py:107: ConvergenceWarning: Maximum number of iterations reached\n",
      "  warnings.warn(\"Maximum number of iterations reached\", ConvergenceWarning)\n",
      "C:\\Users\\simon\\anaconda3\\envs\\myenv\\lib\\site-packages\\sklearn\\cross_decomposition\\_pls.py:107: ConvergenceWarning: Maximum number of iterations reached\n",
      "  warnings.warn(\"Maximum number of iterations reached\", ConvergenceWarning)\n"
     ]
    },
    {
     "name": "stderr",
     "output_type": "stream",
     "text": [
      "C:\\Users\\simon\\anaconda3\\envs\\myenv\\lib\\site-packages\\sklearn\\cross_decomposition\\_pls.py:107: ConvergenceWarning: Maximum number of iterations reached\n",
      "  warnings.warn(\"Maximum number of iterations reached\", ConvergenceWarning)\n",
      "C:\\Users\\simon\\anaconda3\\envs\\myenv\\lib\\site-packages\\sklearn\\cross_decomposition\\_pls.py:107: ConvergenceWarning: Maximum number of iterations reached\n",
      "  warnings.warn(\"Maximum number of iterations reached\", ConvergenceWarning)\n",
      "C:\\Users\\simon\\anaconda3\\envs\\myenv\\lib\\site-packages\\sklearn\\cross_decomposition\\_pls.py:107: ConvergenceWarning: Maximum number of iterations reached\n",
      "  warnings.warn(\"Maximum number of iterations reached\", ConvergenceWarning)\n",
      "C:\\Users\\simon\\anaconda3\\envs\\myenv\\lib\\site-packages\\sklearn\\cross_decomposition\\_pls.py:107: ConvergenceWarning: Maximum number of iterations reached\n",
      "  warnings.warn(\"Maximum number of iterations reached\", ConvergenceWarning)\n",
      "C:\\Users\\simon\\anaconda3\\envs\\myenv\\lib\\site-packages\\sklearn\\cross_decomposition\\_pls.py:107: ConvergenceWarning: Maximum number of iterations reached\n",
      "  warnings.warn(\"Maximum number of iterations reached\", ConvergenceWarning)\n",
      "C:\\Users\\simon\\anaconda3\\envs\\myenv\\lib\\site-packages\\sklearn\\cross_decomposition\\_pls.py:107: ConvergenceWarning: Maximum number of iterations reached\n",
      "  warnings.warn(\"Maximum number of iterations reached\", ConvergenceWarning)\n",
      "C:\\Users\\simon\\anaconda3\\envs\\myenv\\lib\\site-packages\\sklearn\\cross_decomposition\\_pls.py:107: ConvergenceWarning: Maximum number of iterations reached\n",
      "  warnings.warn(\"Maximum number of iterations reached\", ConvergenceWarning)\n",
      "C:\\Users\\simon\\anaconda3\\envs\\myenv\\lib\\site-packages\\sklearn\\cross_decomposition\\_pls.py:107: ConvergenceWarning: Maximum number of iterations reached\n",
      "  warnings.warn(\"Maximum number of iterations reached\", ConvergenceWarning)\n",
      "C:\\Users\\simon\\anaconda3\\envs\\myenv\\lib\\site-packages\\sklearn\\cross_decomposition\\_pls.py:107: ConvergenceWarning: Maximum number of iterations reached\n",
      "  warnings.warn(\"Maximum number of iterations reached\", ConvergenceWarning)\n",
      "C:\\Users\\simon\\anaconda3\\envs\\myenv\\lib\\site-packages\\sklearn\\cross_decomposition\\_pls.py:107: ConvergenceWarning: Maximum number of iterations reached\n",
      "  warnings.warn(\"Maximum number of iterations reached\", ConvergenceWarning)\n",
      "C:\\Users\\simon\\anaconda3\\envs\\myenv\\lib\\site-packages\\sklearn\\cross_decomposition\\_pls.py:107: ConvergenceWarning: Maximum number of iterations reached\n",
      "  warnings.warn(\"Maximum number of iterations reached\", ConvergenceWarning)\n",
      "C:\\Users\\simon\\anaconda3\\envs\\myenv\\lib\\site-packages\\sklearn\\cross_decomposition\\_pls.py:107: ConvergenceWarning: Maximum number of iterations reached\n",
      "  warnings.warn(\"Maximum number of iterations reached\", ConvergenceWarning)\n",
      "C:\\Users\\simon\\anaconda3\\envs\\myenv\\lib\\site-packages\\sklearn\\cross_decomposition\\_pls.py:107: ConvergenceWarning: Maximum number of iterations reached\n",
      "  warnings.warn(\"Maximum number of iterations reached\", ConvergenceWarning)\n",
      "C:\\Users\\simon\\anaconda3\\envs\\myenv\\lib\\site-packages\\sklearn\\cross_decomposition\\_pls.py:107: ConvergenceWarning: Maximum number of iterations reached\n",
      "  warnings.warn(\"Maximum number of iterations reached\", ConvergenceWarning)\n",
      "C:\\Users\\simon\\anaconda3\\envs\\myenv\\lib\\site-packages\\sklearn\\cross_decomposition\\_pls.py:107: ConvergenceWarning: Maximum number of iterations reached\n",
      "  warnings.warn(\"Maximum number of iterations reached\", ConvergenceWarning)\n",
      "C:\\Users\\simon\\anaconda3\\envs\\myenv\\lib\\site-packages\\sklearn\\cross_decomposition\\_pls.py:107: ConvergenceWarning: Maximum number of iterations reached\n",
      "  warnings.warn(\"Maximum number of iterations reached\", ConvergenceWarning)\n",
      "C:\\Users\\simon\\anaconda3\\envs\\myenv\\lib\\site-packages\\sklearn\\cross_decomposition\\_pls.py:107: ConvergenceWarning: Maximum number of iterations reached\n",
      "  warnings.warn(\"Maximum number of iterations reached\", ConvergenceWarning)\n",
      "C:\\Users\\simon\\anaconda3\\envs\\myenv\\lib\\site-packages\\sklearn\\cross_decomposition\\_pls.py:107: ConvergenceWarning: Maximum number of iterations reached\n",
      "  warnings.warn(\"Maximum number of iterations reached\", ConvergenceWarning)\n",
      "C:\\Users\\simon\\anaconda3\\envs\\myenv\\lib\\site-packages\\sklearn\\cross_decomposition\\_pls.py:107: ConvergenceWarning: Maximum number of iterations reached\n",
      "  warnings.warn(\"Maximum number of iterations reached\", ConvergenceWarning)\n",
      "C:\\Users\\simon\\anaconda3\\envs\\myenv\\lib\\site-packages\\sklearn\\cross_decomposition\\_pls.py:107: ConvergenceWarning: Maximum number of iterations reached\n",
      "  warnings.warn(\"Maximum number of iterations reached\", ConvergenceWarning)\n",
      "C:\\Users\\simon\\anaconda3\\envs\\myenv\\lib\\site-packages\\sklearn\\cross_decomposition\\_pls.py:107: ConvergenceWarning: Maximum number of iterations reached\n",
      "  warnings.warn(\"Maximum number of iterations reached\", ConvergenceWarning)\n",
      "C:\\Users\\simon\\anaconda3\\envs\\myenv\\lib\\site-packages\\sklearn\\cross_decomposition\\_pls.py:107: ConvergenceWarning: Maximum number of iterations reached\n",
      "  warnings.warn(\"Maximum number of iterations reached\", ConvergenceWarning)\n",
      "C:\\Users\\simon\\anaconda3\\envs\\myenv\\lib\\site-packages\\sklearn\\cross_decomposition\\_pls.py:107: ConvergenceWarning: Maximum number of iterations reached\n",
      "  warnings.warn(\"Maximum number of iterations reached\", ConvergenceWarning)\n",
      "C:\\Users\\simon\\anaconda3\\envs\\myenv\\lib\\site-packages\\sklearn\\cross_decomposition\\_pls.py:107: ConvergenceWarning: Maximum number of iterations reached\n",
      "  warnings.warn(\"Maximum number of iterations reached\", ConvergenceWarning)\n",
      "C:\\Users\\simon\\anaconda3\\envs\\myenv\\lib\\site-packages\\sklearn\\cross_decomposition\\_pls.py:107: ConvergenceWarning: Maximum number of iterations reached\n",
      "  warnings.warn(\"Maximum number of iterations reached\", ConvergenceWarning)\n",
      "C:\\Users\\simon\\anaconda3\\envs\\myenv\\lib\\site-packages\\sklearn\\cross_decomposition\\_pls.py:107: ConvergenceWarning: Maximum number of iterations reached\n",
      "  warnings.warn(\"Maximum number of iterations reached\", ConvergenceWarning)\n",
      "C:\\Users\\simon\\anaconda3\\envs\\myenv\\lib\\site-packages\\sklearn\\cross_decomposition\\_pls.py:107: ConvergenceWarning: Maximum number of iterations reached\n",
      "  warnings.warn(\"Maximum number of iterations reached\", ConvergenceWarning)\n",
      "C:\\Users\\simon\\anaconda3\\envs\\myenv\\lib\\site-packages\\sklearn\\cross_decomposition\\_pls.py:107: ConvergenceWarning: Maximum number of iterations reached\n",
      "  warnings.warn(\"Maximum number of iterations reached\", ConvergenceWarning)\n",
      "C:\\Users\\simon\\anaconda3\\envs\\myenv\\lib\\site-packages\\sklearn\\cross_decomposition\\_pls.py:107: ConvergenceWarning: Maximum number of iterations reached\n",
      "  warnings.warn(\"Maximum number of iterations reached\", ConvergenceWarning)\n",
      "C:\\Users\\simon\\anaconda3\\envs\\myenv\\lib\\site-packages\\sklearn\\cross_decomposition\\_pls.py:107: ConvergenceWarning: Maximum number of iterations reached\n",
      "  warnings.warn(\"Maximum number of iterations reached\", ConvergenceWarning)\n",
      "C:\\Users\\simon\\anaconda3\\envs\\myenv\\lib\\site-packages\\sklearn\\cross_decomposition\\_pls.py:107: ConvergenceWarning: Maximum number of iterations reached\n",
      "  warnings.warn(\"Maximum number of iterations reached\", ConvergenceWarning)\n",
      "C:\\Users\\simon\\anaconda3\\envs\\myenv\\lib\\site-packages\\sklearn\\cross_decomposition\\_pls.py:107: ConvergenceWarning: Maximum number of iterations reached\n",
      "  warnings.warn(\"Maximum number of iterations reached\", ConvergenceWarning)\n",
      "C:\\Users\\simon\\anaconda3\\envs\\myenv\\lib\\site-packages\\sklearn\\cross_decomposition\\_pls.py:107: ConvergenceWarning: Maximum number of iterations reached\n",
      "  warnings.warn(\"Maximum number of iterations reached\", ConvergenceWarning)\n",
      "C:\\Users\\simon\\anaconda3\\envs\\myenv\\lib\\site-packages\\sklearn\\cross_decomposition\\_pls.py:107: ConvergenceWarning: Maximum number of iterations reached\n",
      "  warnings.warn(\"Maximum number of iterations reached\", ConvergenceWarning)\n",
      "C:\\Users\\simon\\anaconda3\\envs\\myenv\\lib\\site-packages\\sklearn\\cross_decomposition\\_pls.py:107: ConvergenceWarning: Maximum number of iterations reached\n",
      "  warnings.warn(\"Maximum number of iterations reached\", ConvergenceWarning)\n",
      "C:\\Users\\simon\\anaconda3\\envs\\myenv\\lib\\site-packages\\sklearn\\cross_decomposition\\_pls.py:107: ConvergenceWarning: Maximum number of iterations reached\n",
      "  warnings.warn(\"Maximum number of iterations reached\", ConvergenceWarning)\n"
     ]
    },
    {
     "name": "stderr",
     "output_type": "stream",
     "text": [
      "C:\\Users\\simon\\anaconda3\\envs\\myenv\\lib\\site-packages\\sklearn\\cross_decomposition\\_pls.py:107: ConvergenceWarning: Maximum number of iterations reached\n",
      "  warnings.warn(\"Maximum number of iterations reached\", ConvergenceWarning)\n",
      "C:\\Users\\simon\\anaconda3\\envs\\myenv\\lib\\site-packages\\sklearn\\cross_decomposition\\_pls.py:107: ConvergenceWarning: Maximum number of iterations reached\n",
      "  warnings.warn(\"Maximum number of iterations reached\", ConvergenceWarning)\n",
      "C:\\Users\\simon\\anaconda3\\envs\\myenv\\lib\\site-packages\\sklearn\\cross_decomposition\\_pls.py:107: ConvergenceWarning: Maximum number of iterations reached\n",
      "  warnings.warn(\"Maximum number of iterations reached\", ConvergenceWarning)\n",
      "C:\\Users\\simon\\anaconda3\\envs\\myenv\\lib\\site-packages\\sklearn\\cross_decomposition\\_pls.py:107: ConvergenceWarning: Maximum number of iterations reached\n",
      "  warnings.warn(\"Maximum number of iterations reached\", ConvergenceWarning)\n",
      "C:\\Users\\simon\\anaconda3\\envs\\myenv\\lib\\site-packages\\sklearn\\cross_decomposition\\_pls.py:107: ConvergenceWarning: Maximum number of iterations reached\n",
      "  warnings.warn(\"Maximum number of iterations reached\", ConvergenceWarning)\n",
      "C:\\Users\\simon\\anaconda3\\envs\\myenv\\lib\\site-packages\\sklearn\\cross_decomposition\\_pls.py:107: ConvergenceWarning: Maximum number of iterations reached\n",
      "  warnings.warn(\"Maximum number of iterations reached\", ConvergenceWarning)\n",
      "C:\\Users\\simon\\anaconda3\\envs\\myenv\\lib\\site-packages\\sklearn\\cross_decomposition\\_pls.py:107: ConvergenceWarning: Maximum number of iterations reached\n",
      "  warnings.warn(\"Maximum number of iterations reached\", ConvergenceWarning)\n",
      "C:\\Users\\simon\\anaconda3\\envs\\myenv\\lib\\site-packages\\sklearn\\cross_decomposition\\_pls.py:107: ConvergenceWarning: Maximum number of iterations reached\n",
      "  warnings.warn(\"Maximum number of iterations reached\", ConvergenceWarning)\n",
      "C:\\Users\\simon\\anaconda3\\envs\\myenv\\lib\\site-packages\\sklearn\\cross_decomposition\\_pls.py:107: ConvergenceWarning: Maximum number of iterations reached\n",
      "  warnings.warn(\"Maximum number of iterations reached\", ConvergenceWarning)\n",
      "C:\\Users\\simon\\anaconda3\\envs\\myenv\\lib\\site-packages\\sklearn\\cross_decomposition\\_pls.py:107: ConvergenceWarning: Maximum number of iterations reached\n",
      "  warnings.warn(\"Maximum number of iterations reached\", ConvergenceWarning)\n",
      "C:\\Users\\simon\\anaconda3\\envs\\myenv\\lib\\site-packages\\sklearn\\cross_decomposition\\_pls.py:107: ConvergenceWarning: Maximum number of iterations reached\n",
      "  warnings.warn(\"Maximum number of iterations reached\", ConvergenceWarning)\n",
      "C:\\Users\\simon\\anaconda3\\envs\\myenv\\lib\\site-packages\\sklearn\\cross_decomposition\\_pls.py:107: ConvergenceWarning: Maximum number of iterations reached\n",
      "  warnings.warn(\"Maximum number of iterations reached\", ConvergenceWarning)\n",
      "C:\\Users\\simon\\anaconda3\\envs\\myenv\\lib\\site-packages\\sklearn\\cross_decomposition\\_pls.py:107: ConvergenceWarning: Maximum number of iterations reached\n",
      "  warnings.warn(\"Maximum number of iterations reached\", ConvergenceWarning)\n",
      "C:\\Users\\simon\\anaconda3\\envs\\myenv\\lib\\site-packages\\sklearn\\cross_decomposition\\_pls.py:107: ConvergenceWarning: Maximum number of iterations reached\n",
      "  warnings.warn(\"Maximum number of iterations reached\", ConvergenceWarning)\n",
      "C:\\Users\\simon\\anaconda3\\envs\\myenv\\lib\\site-packages\\sklearn\\cross_decomposition\\_pls.py:107: ConvergenceWarning: Maximum number of iterations reached\n",
      "  warnings.warn(\"Maximum number of iterations reached\", ConvergenceWarning)\n",
      "C:\\Users\\simon\\anaconda3\\envs\\myenv\\lib\\site-packages\\sklearn\\cross_decomposition\\_pls.py:107: ConvergenceWarning: Maximum number of iterations reached\n",
      "  warnings.warn(\"Maximum number of iterations reached\", ConvergenceWarning)\n",
      "C:\\Users\\simon\\anaconda3\\envs\\myenv\\lib\\site-packages\\sklearn\\cross_decomposition\\_pls.py:107: ConvergenceWarning: Maximum number of iterations reached\n",
      "  warnings.warn(\"Maximum number of iterations reached\", ConvergenceWarning)\n",
      "C:\\Users\\simon\\anaconda3\\envs\\myenv\\lib\\site-packages\\sklearn\\cross_decomposition\\_pls.py:107: ConvergenceWarning: Maximum number of iterations reached\n",
      "  warnings.warn(\"Maximum number of iterations reached\", ConvergenceWarning)\n",
      "C:\\Users\\simon\\anaconda3\\envs\\myenv\\lib\\site-packages\\sklearn\\cross_decomposition\\_pls.py:107: ConvergenceWarning: Maximum number of iterations reached\n",
      "  warnings.warn(\"Maximum number of iterations reached\", ConvergenceWarning)\n",
      "C:\\Users\\simon\\anaconda3\\envs\\myenv\\lib\\site-packages\\sklearn\\cross_decomposition\\_pls.py:107: ConvergenceWarning: Maximum number of iterations reached\n",
      "  warnings.warn(\"Maximum number of iterations reached\", ConvergenceWarning)\n",
      "C:\\Users\\simon\\anaconda3\\envs\\myenv\\lib\\site-packages\\sklearn\\cross_decomposition\\_pls.py:107: ConvergenceWarning: Maximum number of iterations reached\n",
      "  warnings.warn(\"Maximum number of iterations reached\", ConvergenceWarning)\n",
      "C:\\Users\\simon\\anaconda3\\envs\\myenv\\lib\\site-packages\\sklearn\\cross_decomposition\\_pls.py:107: ConvergenceWarning: Maximum number of iterations reached\n",
      "  warnings.warn(\"Maximum number of iterations reached\", ConvergenceWarning)\n",
      "C:\\Users\\simon\\anaconda3\\envs\\myenv\\lib\\site-packages\\sklearn\\cross_decomposition\\_pls.py:107: ConvergenceWarning: Maximum number of iterations reached\n",
      "  warnings.warn(\"Maximum number of iterations reached\", ConvergenceWarning)\n",
      "C:\\Users\\simon\\anaconda3\\envs\\myenv\\lib\\site-packages\\sklearn\\cross_decomposition\\_pls.py:107: ConvergenceWarning: Maximum number of iterations reached\n",
      "  warnings.warn(\"Maximum number of iterations reached\", ConvergenceWarning)\n",
      "C:\\Users\\simon\\anaconda3\\envs\\myenv\\lib\\site-packages\\sklearn\\cross_decomposition\\_pls.py:107: ConvergenceWarning: Maximum number of iterations reached\n",
      "  warnings.warn(\"Maximum number of iterations reached\", ConvergenceWarning)\n",
      "C:\\Users\\simon\\anaconda3\\envs\\myenv\\lib\\site-packages\\sklearn\\cross_decomposition\\_pls.py:107: ConvergenceWarning: Maximum number of iterations reached\n",
      "  warnings.warn(\"Maximum number of iterations reached\", ConvergenceWarning)\n",
      "C:\\Users\\simon\\anaconda3\\envs\\myenv\\lib\\site-packages\\sklearn\\cross_decomposition\\_pls.py:107: ConvergenceWarning: Maximum number of iterations reached\n",
      "  warnings.warn(\"Maximum number of iterations reached\", ConvergenceWarning)\n",
      "C:\\Users\\simon\\anaconda3\\envs\\myenv\\lib\\site-packages\\sklearn\\cross_decomposition\\_pls.py:107: ConvergenceWarning: Maximum number of iterations reached\n",
      "  warnings.warn(\"Maximum number of iterations reached\", ConvergenceWarning)\n",
      "C:\\Users\\simon\\anaconda3\\envs\\myenv\\lib\\site-packages\\sklearn\\cross_decomposition\\_pls.py:107: ConvergenceWarning: Maximum number of iterations reached\n",
      "  warnings.warn(\"Maximum number of iterations reached\", ConvergenceWarning)\n",
      "C:\\Users\\simon\\anaconda3\\envs\\myenv\\lib\\site-packages\\sklearn\\cross_decomposition\\_pls.py:107: ConvergenceWarning: Maximum number of iterations reached\n",
      "  warnings.warn(\"Maximum number of iterations reached\", ConvergenceWarning)\n",
      "C:\\Users\\simon\\anaconda3\\envs\\myenv\\lib\\site-packages\\sklearn\\cross_decomposition\\_pls.py:107: ConvergenceWarning: Maximum number of iterations reached\n",
      "  warnings.warn(\"Maximum number of iterations reached\", ConvergenceWarning)\n",
      "C:\\Users\\simon\\anaconda3\\envs\\myenv\\lib\\site-packages\\sklearn\\cross_decomposition\\_pls.py:107: ConvergenceWarning: Maximum number of iterations reached\n",
      "  warnings.warn(\"Maximum number of iterations reached\", ConvergenceWarning)\n",
      "C:\\Users\\simon\\anaconda3\\envs\\myenv\\lib\\site-packages\\sklearn\\cross_decomposition\\_pls.py:107: ConvergenceWarning: Maximum number of iterations reached\n",
      "  warnings.warn(\"Maximum number of iterations reached\", ConvergenceWarning)\n",
      "C:\\Users\\simon\\anaconda3\\envs\\myenv\\lib\\site-packages\\sklearn\\cross_decomposition\\_pls.py:107: ConvergenceWarning: Maximum number of iterations reached\n",
      "  warnings.warn(\"Maximum number of iterations reached\", ConvergenceWarning)\n",
      "C:\\Users\\simon\\anaconda3\\envs\\myenv\\lib\\site-packages\\sklearn\\cross_decomposition\\_pls.py:107: ConvergenceWarning: Maximum number of iterations reached\n",
      "  warnings.warn(\"Maximum number of iterations reached\", ConvergenceWarning)\n",
      "C:\\Users\\simon\\anaconda3\\envs\\myenv\\lib\\site-packages\\sklearn\\cross_decomposition\\_pls.py:107: ConvergenceWarning: Maximum number of iterations reached\n",
      "  warnings.warn(\"Maximum number of iterations reached\", ConvergenceWarning)\n"
     ]
    },
    {
     "name": "stderr",
     "output_type": "stream",
     "text": [
      "C:\\Users\\simon\\anaconda3\\envs\\myenv\\lib\\site-packages\\sklearn\\cross_decomposition\\_pls.py:107: ConvergenceWarning: Maximum number of iterations reached\n",
      "  warnings.warn(\"Maximum number of iterations reached\", ConvergenceWarning)\n",
      "C:\\Users\\simon\\anaconda3\\envs\\myenv\\lib\\site-packages\\sklearn\\cross_decomposition\\_pls.py:107: ConvergenceWarning: Maximum number of iterations reached\n",
      "  warnings.warn(\"Maximum number of iterations reached\", ConvergenceWarning)\n",
      "C:\\Users\\simon\\anaconda3\\envs\\myenv\\lib\\site-packages\\sklearn\\cross_decomposition\\_pls.py:107: ConvergenceWarning: Maximum number of iterations reached\n",
      "  warnings.warn(\"Maximum number of iterations reached\", ConvergenceWarning)\n",
      "C:\\Users\\simon\\anaconda3\\envs\\myenv\\lib\\site-packages\\sklearn\\cross_decomposition\\_pls.py:107: ConvergenceWarning: Maximum number of iterations reached\n",
      "  warnings.warn(\"Maximum number of iterations reached\", ConvergenceWarning)\n",
      "C:\\Users\\simon\\anaconda3\\envs\\myenv\\lib\\site-packages\\sklearn\\cross_decomposition\\_pls.py:107: ConvergenceWarning: Maximum number of iterations reached\n",
      "  warnings.warn(\"Maximum number of iterations reached\", ConvergenceWarning)\n",
      "C:\\Users\\simon\\anaconda3\\envs\\myenv\\lib\\site-packages\\sklearn\\cross_decomposition\\_pls.py:107: ConvergenceWarning: Maximum number of iterations reached\n",
      "  warnings.warn(\"Maximum number of iterations reached\", ConvergenceWarning)\n",
      "C:\\Users\\simon\\anaconda3\\envs\\myenv\\lib\\site-packages\\sklearn\\cross_decomposition\\_pls.py:107: ConvergenceWarning: Maximum number of iterations reached\n",
      "  warnings.warn(\"Maximum number of iterations reached\", ConvergenceWarning)\n",
      "C:\\Users\\simon\\anaconda3\\envs\\myenv\\lib\\site-packages\\sklearn\\cross_decomposition\\_pls.py:107: ConvergenceWarning: Maximum number of iterations reached\n",
      "  warnings.warn(\"Maximum number of iterations reached\", ConvergenceWarning)\n",
      "C:\\Users\\simon\\anaconda3\\envs\\myenv\\lib\\site-packages\\sklearn\\cross_decomposition\\_pls.py:107: ConvergenceWarning: Maximum number of iterations reached\n",
      "  warnings.warn(\"Maximum number of iterations reached\", ConvergenceWarning)\n",
      "C:\\Users\\simon\\anaconda3\\envs\\myenv\\lib\\site-packages\\sklearn\\cross_decomposition\\_pls.py:107: ConvergenceWarning: Maximum number of iterations reached\n",
      "  warnings.warn(\"Maximum number of iterations reached\", ConvergenceWarning)\n",
      "C:\\Users\\simon\\anaconda3\\envs\\myenv\\lib\\site-packages\\sklearn\\cross_decomposition\\_pls.py:107: ConvergenceWarning: Maximum number of iterations reached\n",
      "  warnings.warn(\"Maximum number of iterations reached\", ConvergenceWarning)\n",
      "C:\\Users\\simon\\anaconda3\\envs\\myenv\\lib\\site-packages\\sklearn\\cross_decomposition\\_pls.py:107: ConvergenceWarning: Maximum number of iterations reached\n",
      "  warnings.warn(\"Maximum number of iterations reached\", ConvergenceWarning)\n",
      "C:\\Users\\simon\\anaconda3\\envs\\myenv\\lib\\site-packages\\sklearn\\cross_decomposition\\_pls.py:107: ConvergenceWarning: Maximum number of iterations reached\n",
      "  warnings.warn(\"Maximum number of iterations reached\", ConvergenceWarning)\n",
      "C:\\Users\\simon\\anaconda3\\envs\\myenv\\lib\\site-packages\\sklearn\\cross_decomposition\\_pls.py:107: ConvergenceWarning: Maximum number of iterations reached\n",
      "  warnings.warn(\"Maximum number of iterations reached\", ConvergenceWarning)\n",
      "C:\\Users\\simon\\anaconda3\\envs\\myenv\\lib\\site-packages\\sklearn\\cross_decomposition\\_pls.py:107: ConvergenceWarning: Maximum number of iterations reached\n",
      "  warnings.warn(\"Maximum number of iterations reached\", ConvergenceWarning)\n",
      "C:\\Users\\simon\\anaconda3\\envs\\myenv\\lib\\site-packages\\sklearn\\cross_decomposition\\_pls.py:107: ConvergenceWarning: Maximum number of iterations reached\n",
      "  warnings.warn(\"Maximum number of iterations reached\", ConvergenceWarning)\n",
      "C:\\Users\\simon\\anaconda3\\envs\\myenv\\lib\\site-packages\\sklearn\\cross_decomposition\\_pls.py:107: ConvergenceWarning: Maximum number of iterations reached\n",
      "  warnings.warn(\"Maximum number of iterations reached\", ConvergenceWarning)\n",
      "C:\\Users\\simon\\anaconda3\\envs\\myenv\\lib\\site-packages\\sklearn\\cross_decomposition\\_pls.py:107: ConvergenceWarning: Maximum number of iterations reached\n",
      "  warnings.warn(\"Maximum number of iterations reached\", ConvergenceWarning)\n",
      "C:\\Users\\simon\\anaconda3\\envs\\myenv\\lib\\site-packages\\sklearn\\cross_decomposition\\_pls.py:107: ConvergenceWarning: Maximum number of iterations reached\n",
      "  warnings.warn(\"Maximum number of iterations reached\", ConvergenceWarning)\n",
      "C:\\Users\\simon\\anaconda3\\envs\\myenv\\lib\\site-packages\\sklearn\\cross_decomposition\\_pls.py:107: ConvergenceWarning: Maximum number of iterations reached\n",
      "  warnings.warn(\"Maximum number of iterations reached\", ConvergenceWarning)\n",
      "C:\\Users\\simon\\anaconda3\\envs\\myenv\\lib\\site-packages\\sklearn\\cross_decomposition\\_pls.py:107: ConvergenceWarning: Maximum number of iterations reached\n",
      "  warnings.warn(\"Maximum number of iterations reached\", ConvergenceWarning)\n",
      "C:\\Users\\simon\\anaconda3\\envs\\myenv\\lib\\site-packages\\sklearn\\cross_decomposition\\_pls.py:107: ConvergenceWarning: Maximum number of iterations reached\n",
      "  warnings.warn(\"Maximum number of iterations reached\", ConvergenceWarning)\n",
      "C:\\Users\\simon\\anaconda3\\envs\\myenv\\lib\\site-packages\\sklearn\\cross_decomposition\\_pls.py:107: ConvergenceWarning: Maximum number of iterations reached\n",
      "  warnings.warn(\"Maximum number of iterations reached\", ConvergenceWarning)\n",
      "C:\\Users\\simon\\anaconda3\\envs\\myenv\\lib\\site-packages\\sklearn\\cross_decomposition\\_pls.py:107: ConvergenceWarning: Maximum number of iterations reached\n",
      "  warnings.warn(\"Maximum number of iterations reached\", ConvergenceWarning)\n",
      "C:\\Users\\simon\\anaconda3\\envs\\myenv\\lib\\site-packages\\sklearn\\cross_decomposition\\_pls.py:107: ConvergenceWarning: Maximum number of iterations reached\n",
      "  warnings.warn(\"Maximum number of iterations reached\", ConvergenceWarning)\n",
      "C:\\Users\\simon\\anaconda3\\envs\\myenv\\lib\\site-packages\\sklearn\\cross_decomposition\\_pls.py:107: ConvergenceWarning: Maximum number of iterations reached\n",
      "  warnings.warn(\"Maximum number of iterations reached\", ConvergenceWarning)\n",
      "C:\\Users\\simon\\anaconda3\\envs\\myenv\\lib\\site-packages\\sklearn\\cross_decomposition\\_pls.py:107: ConvergenceWarning: Maximum number of iterations reached\n",
      "  warnings.warn(\"Maximum number of iterations reached\", ConvergenceWarning)\n",
      "C:\\Users\\simon\\anaconda3\\envs\\myenv\\lib\\site-packages\\sklearn\\cross_decomposition\\_pls.py:107: ConvergenceWarning: Maximum number of iterations reached\n",
      "  warnings.warn(\"Maximum number of iterations reached\", ConvergenceWarning)\n",
      "C:\\Users\\simon\\anaconda3\\envs\\myenv\\lib\\site-packages\\sklearn\\cross_decomposition\\_pls.py:107: ConvergenceWarning: Maximum number of iterations reached\n",
      "  warnings.warn(\"Maximum number of iterations reached\", ConvergenceWarning)\n",
      "C:\\Users\\simon\\anaconda3\\envs\\myenv\\lib\\site-packages\\sklearn\\cross_decomposition\\_pls.py:107: ConvergenceWarning: Maximum number of iterations reached\n",
      "  warnings.warn(\"Maximum number of iterations reached\", ConvergenceWarning)\n",
      "C:\\Users\\simon\\anaconda3\\envs\\myenv\\lib\\site-packages\\sklearn\\cross_decomposition\\_pls.py:107: ConvergenceWarning: Maximum number of iterations reached\n",
      "  warnings.warn(\"Maximum number of iterations reached\", ConvergenceWarning)\n",
      "C:\\Users\\simon\\anaconda3\\envs\\myenv\\lib\\site-packages\\sklearn\\cross_decomposition\\_pls.py:107: ConvergenceWarning: Maximum number of iterations reached\n",
      "  warnings.warn(\"Maximum number of iterations reached\", ConvergenceWarning)\n",
      "C:\\Users\\simon\\anaconda3\\envs\\myenv\\lib\\site-packages\\sklearn\\cross_decomposition\\_pls.py:107: ConvergenceWarning: Maximum number of iterations reached\n",
      "  warnings.warn(\"Maximum number of iterations reached\", ConvergenceWarning)\n",
      "C:\\Users\\simon\\anaconda3\\envs\\myenv\\lib\\site-packages\\sklearn\\cross_decomposition\\_pls.py:107: ConvergenceWarning: Maximum number of iterations reached\n",
      "  warnings.warn(\"Maximum number of iterations reached\", ConvergenceWarning)\n",
      "C:\\Users\\simon\\anaconda3\\envs\\myenv\\lib\\site-packages\\sklearn\\cross_decomposition\\_pls.py:107: ConvergenceWarning: Maximum number of iterations reached\n",
      "  warnings.warn(\"Maximum number of iterations reached\", ConvergenceWarning)\n",
      "C:\\Users\\simon\\anaconda3\\envs\\myenv\\lib\\site-packages\\sklearn\\cross_decomposition\\_pls.py:107: ConvergenceWarning: Maximum number of iterations reached\n",
      "  warnings.warn(\"Maximum number of iterations reached\", ConvergenceWarning)\n"
     ]
    },
    {
     "name": "stderr",
     "output_type": "stream",
     "text": [
      "C:\\Users\\simon\\anaconda3\\envs\\myenv\\lib\\site-packages\\sklearn\\cross_decomposition\\_pls.py:107: ConvergenceWarning: Maximum number of iterations reached\n",
      "  warnings.warn(\"Maximum number of iterations reached\", ConvergenceWarning)\n",
      "C:\\Users\\simon\\anaconda3\\envs\\myenv\\lib\\site-packages\\sklearn\\cross_decomposition\\_pls.py:107: ConvergenceWarning: Maximum number of iterations reached\n",
      "  warnings.warn(\"Maximum number of iterations reached\", ConvergenceWarning)\n",
      "C:\\Users\\simon\\anaconda3\\envs\\myenv\\lib\\site-packages\\sklearn\\cross_decomposition\\_pls.py:107: ConvergenceWarning: Maximum number of iterations reached\n",
      "  warnings.warn(\"Maximum number of iterations reached\", ConvergenceWarning)\n",
      "C:\\Users\\simon\\anaconda3\\envs\\myenv\\lib\\site-packages\\sklearn\\cross_decomposition\\_pls.py:107: ConvergenceWarning: Maximum number of iterations reached\n",
      "  warnings.warn(\"Maximum number of iterations reached\", ConvergenceWarning)\n",
      "C:\\Users\\simon\\anaconda3\\envs\\myenv\\lib\\site-packages\\sklearn\\cross_decomposition\\_pls.py:107: ConvergenceWarning: Maximum number of iterations reached\n",
      "  warnings.warn(\"Maximum number of iterations reached\", ConvergenceWarning)\n",
      "C:\\Users\\simon\\anaconda3\\envs\\myenv\\lib\\site-packages\\sklearn\\cross_decomposition\\_pls.py:107: ConvergenceWarning: Maximum number of iterations reached\n",
      "  warnings.warn(\"Maximum number of iterations reached\", ConvergenceWarning)\n",
      "C:\\Users\\simon\\anaconda3\\envs\\myenv\\lib\\site-packages\\sklearn\\cross_decomposition\\_pls.py:107: ConvergenceWarning: Maximum number of iterations reached\n",
      "  warnings.warn(\"Maximum number of iterations reached\", ConvergenceWarning)\n",
      "C:\\Users\\simon\\anaconda3\\envs\\myenv\\lib\\site-packages\\sklearn\\cross_decomposition\\_pls.py:107: ConvergenceWarning: Maximum number of iterations reached\n",
      "  warnings.warn(\"Maximum number of iterations reached\", ConvergenceWarning)\n",
      "C:\\Users\\simon\\anaconda3\\envs\\myenv\\lib\\site-packages\\sklearn\\cross_decomposition\\_pls.py:107: ConvergenceWarning: Maximum number of iterations reached\n",
      "  warnings.warn(\"Maximum number of iterations reached\", ConvergenceWarning)\n",
      "C:\\Users\\simon\\anaconda3\\envs\\myenv\\lib\\site-packages\\sklearn\\cross_decomposition\\_pls.py:107: ConvergenceWarning: Maximum number of iterations reached\n",
      "  warnings.warn(\"Maximum number of iterations reached\", ConvergenceWarning)\n",
      "C:\\Users\\simon\\anaconda3\\envs\\myenv\\lib\\site-packages\\sklearn\\cross_decomposition\\_pls.py:107: ConvergenceWarning: Maximum number of iterations reached\n",
      "  warnings.warn(\"Maximum number of iterations reached\", ConvergenceWarning)\n",
      "C:\\Users\\simon\\anaconda3\\envs\\myenv\\lib\\site-packages\\sklearn\\cross_decomposition\\_pls.py:107: ConvergenceWarning: Maximum number of iterations reached\n",
      "  warnings.warn(\"Maximum number of iterations reached\", ConvergenceWarning)\n",
      "C:\\Users\\simon\\anaconda3\\envs\\myenv\\lib\\site-packages\\sklearn\\cross_decomposition\\_pls.py:107: ConvergenceWarning: Maximum number of iterations reached\n",
      "  warnings.warn(\"Maximum number of iterations reached\", ConvergenceWarning)\n",
      "C:\\Users\\simon\\anaconda3\\envs\\myenv\\lib\\site-packages\\sklearn\\cross_decomposition\\_pls.py:107: ConvergenceWarning: Maximum number of iterations reached\n",
      "  warnings.warn(\"Maximum number of iterations reached\", ConvergenceWarning)\n",
      "C:\\Users\\simon\\anaconda3\\envs\\myenv\\lib\\site-packages\\sklearn\\cross_decomposition\\_pls.py:107: ConvergenceWarning: Maximum number of iterations reached\n",
      "  warnings.warn(\"Maximum number of iterations reached\", ConvergenceWarning)\n",
      "C:\\Users\\simon\\anaconda3\\envs\\myenv\\lib\\site-packages\\sklearn\\cross_decomposition\\_pls.py:107: ConvergenceWarning: Maximum number of iterations reached\n",
      "  warnings.warn(\"Maximum number of iterations reached\", ConvergenceWarning)\n",
      "C:\\Users\\simon\\anaconda3\\envs\\myenv\\lib\\site-packages\\sklearn\\cross_decomposition\\_pls.py:107: ConvergenceWarning: Maximum number of iterations reached\n",
      "  warnings.warn(\"Maximum number of iterations reached\", ConvergenceWarning)\n",
      "C:\\Users\\simon\\anaconda3\\envs\\myenv\\lib\\site-packages\\sklearn\\cross_decomposition\\_pls.py:107: ConvergenceWarning: Maximum number of iterations reached\n",
      "  warnings.warn(\"Maximum number of iterations reached\", ConvergenceWarning)\n",
      "C:\\Users\\simon\\anaconda3\\envs\\myenv\\lib\\site-packages\\sklearn\\cross_decomposition\\_pls.py:107: ConvergenceWarning: Maximum number of iterations reached\n",
      "  warnings.warn(\"Maximum number of iterations reached\", ConvergenceWarning)\n",
      "C:\\Users\\simon\\anaconda3\\envs\\myenv\\lib\\site-packages\\sklearn\\cross_decomposition\\_pls.py:107: ConvergenceWarning: Maximum number of iterations reached\n",
      "  warnings.warn(\"Maximum number of iterations reached\", ConvergenceWarning)\n",
      "C:\\Users\\simon\\anaconda3\\envs\\myenv\\lib\\site-packages\\sklearn\\cross_decomposition\\_pls.py:107: ConvergenceWarning: Maximum number of iterations reached\n",
      "  warnings.warn(\"Maximum number of iterations reached\", ConvergenceWarning)\n",
      "C:\\Users\\simon\\anaconda3\\envs\\myenv\\lib\\site-packages\\sklearn\\cross_decomposition\\_pls.py:107: ConvergenceWarning: Maximum number of iterations reached\n",
      "  warnings.warn(\"Maximum number of iterations reached\", ConvergenceWarning)\n",
      "C:\\Users\\simon\\anaconda3\\envs\\myenv\\lib\\site-packages\\sklearn\\cross_decomposition\\_pls.py:107: ConvergenceWarning: Maximum number of iterations reached\n",
      "  warnings.warn(\"Maximum number of iterations reached\", ConvergenceWarning)\n",
      "C:\\Users\\simon\\anaconda3\\envs\\myenv\\lib\\site-packages\\sklearn\\cross_decomposition\\_pls.py:107: ConvergenceWarning: Maximum number of iterations reached\n",
      "  warnings.warn(\"Maximum number of iterations reached\", ConvergenceWarning)\n",
      "C:\\Users\\simon\\anaconda3\\envs\\myenv\\lib\\site-packages\\sklearn\\cross_decomposition\\_pls.py:107: ConvergenceWarning: Maximum number of iterations reached\n",
      "  warnings.warn(\"Maximum number of iterations reached\", ConvergenceWarning)\n",
      "C:\\Users\\simon\\anaconda3\\envs\\myenv\\lib\\site-packages\\sklearn\\cross_decomposition\\_pls.py:107: ConvergenceWarning: Maximum number of iterations reached\n",
      "  warnings.warn(\"Maximum number of iterations reached\", ConvergenceWarning)\n",
      "C:\\Users\\simon\\anaconda3\\envs\\myenv\\lib\\site-packages\\sklearn\\cross_decomposition\\_pls.py:107: ConvergenceWarning: Maximum number of iterations reached\n",
      "  warnings.warn(\"Maximum number of iterations reached\", ConvergenceWarning)\n",
      "C:\\Users\\simon\\anaconda3\\envs\\myenv\\lib\\site-packages\\sklearn\\cross_decomposition\\_pls.py:107: ConvergenceWarning: Maximum number of iterations reached\n",
      "  warnings.warn(\"Maximum number of iterations reached\", ConvergenceWarning)\n",
      "C:\\Users\\simon\\anaconda3\\envs\\myenv\\lib\\site-packages\\sklearn\\cross_decomposition\\_pls.py:107: ConvergenceWarning: Maximum number of iterations reached\n",
      "  warnings.warn(\"Maximum number of iterations reached\", ConvergenceWarning)\n",
      "C:\\Users\\simon\\anaconda3\\envs\\myenv\\lib\\site-packages\\sklearn\\cross_decomposition\\_pls.py:107: ConvergenceWarning: Maximum number of iterations reached\n",
      "  warnings.warn(\"Maximum number of iterations reached\", ConvergenceWarning)\n",
      "C:\\Users\\simon\\anaconda3\\envs\\myenv\\lib\\site-packages\\sklearn\\cross_decomposition\\_pls.py:107: ConvergenceWarning: Maximum number of iterations reached\n",
      "  warnings.warn(\"Maximum number of iterations reached\", ConvergenceWarning)\n",
      "C:\\Users\\simon\\anaconda3\\envs\\myenv\\lib\\site-packages\\sklearn\\cross_decomposition\\_pls.py:107: ConvergenceWarning: Maximum number of iterations reached\n",
      "  warnings.warn(\"Maximum number of iterations reached\", ConvergenceWarning)\n",
      "C:\\Users\\simon\\anaconda3\\envs\\myenv\\lib\\site-packages\\sklearn\\cross_decomposition\\_pls.py:107: ConvergenceWarning: Maximum number of iterations reached\n",
      "  warnings.warn(\"Maximum number of iterations reached\", ConvergenceWarning)\n",
      "C:\\Users\\simon\\anaconda3\\envs\\myenv\\lib\\site-packages\\sklearn\\cross_decomposition\\_pls.py:107: ConvergenceWarning: Maximum number of iterations reached\n",
      "  warnings.warn(\"Maximum number of iterations reached\", ConvergenceWarning)\n",
      "C:\\Users\\simon\\anaconda3\\envs\\myenv\\lib\\site-packages\\sklearn\\cross_decomposition\\_pls.py:107: ConvergenceWarning: Maximum number of iterations reached\n",
      "  warnings.warn(\"Maximum number of iterations reached\", ConvergenceWarning)\n",
      "C:\\Users\\simon\\anaconda3\\envs\\myenv\\lib\\site-packages\\sklearn\\cross_decomposition\\_pls.py:107: ConvergenceWarning: Maximum number of iterations reached\n",
      "  warnings.warn(\"Maximum number of iterations reached\", ConvergenceWarning)\n"
     ]
    },
    {
     "name": "stderr",
     "output_type": "stream",
     "text": [
      "C:\\Users\\simon\\anaconda3\\envs\\myenv\\lib\\site-packages\\sklearn\\cross_decomposition\\_pls.py:107: ConvergenceWarning: Maximum number of iterations reached\n",
      "  warnings.warn(\"Maximum number of iterations reached\", ConvergenceWarning)\n",
      "C:\\Users\\simon\\anaconda3\\envs\\myenv\\lib\\site-packages\\sklearn\\cross_decomposition\\_pls.py:107: ConvergenceWarning: Maximum number of iterations reached\n",
      "  warnings.warn(\"Maximum number of iterations reached\", ConvergenceWarning)\n",
      "C:\\Users\\simon\\anaconda3\\envs\\myenv\\lib\\site-packages\\sklearn\\cross_decomposition\\_pls.py:107: ConvergenceWarning: Maximum number of iterations reached\n",
      "  warnings.warn(\"Maximum number of iterations reached\", ConvergenceWarning)\n",
      "C:\\Users\\simon\\anaconda3\\envs\\myenv\\lib\\site-packages\\sklearn\\cross_decomposition\\_pls.py:107: ConvergenceWarning: Maximum number of iterations reached\n",
      "  warnings.warn(\"Maximum number of iterations reached\", ConvergenceWarning)\n",
      "C:\\Users\\simon\\anaconda3\\envs\\myenv\\lib\\site-packages\\sklearn\\cross_decomposition\\_pls.py:107: ConvergenceWarning: Maximum number of iterations reached\n",
      "  warnings.warn(\"Maximum number of iterations reached\", ConvergenceWarning)\n",
      "C:\\Users\\simon\\anaconda3\\envs\\myenv\\lib\\site-packages\\sklearn\\cross_decomposition\\_pls.py:107: ConvergenceWarning: Maximum number of iterations reached\n",
      "  warnings.warn(\"Maximum number of iterations reached\", ConvergenceWarning)\n",
      "C:\\Users\\simon\\anaconda3\\envs\\myenv\\lib\\site-packages\\sklearn\\cross_decomposition\\_pls.py:107: ConvergenceWarning: Maximum number of iterations reached\n",
      "  warnings.warn(\"Maximum number of iterations reached\", ConvergenceWarning)\n",
      "C:\\Users\\simon\\anaconda3\\envs\\myenv\\lib\\site-packages\\sklearn\\cross_decomposition\\_pls.py:107: ConvergenceWarning: Maximum number of iterations reached\n",
      "  warnings.warn(\"Maximum number of iterations reached\", ConvergenceWarning)\n",
      "C:\\Users\\simon\\anaconda3\\envs\\myenv\\lib\\site-packages\\sklearn\\cross_decomposition\\_pls.py:107: ConvergenceWarning: Maximum number of iterations reached\n",
      "  warnings.warn(\"Maximum number of iterations reached\", ConvergenceWarning)\n",
      "C:\\Users\\simon\\anaconda3\\envs\\myenv\\lib\\site-packages\\sklearn\\cross_decomposition\\_pls.py:107: ConvergenceWarning: Maximum number of iterations reached\n",
      "  warnings.warn(\"Maximum number of iterations reached\", ConvergenceWarning)\n",
      "C:\\Users\\simon\\anaconda3\\envs\\myenv\\lib\\site-packages\\sklearn\\cross_decomposition\\_pls.py:107: ConvergenceWarning: Maximum number of iterations reached\n",
      "  warnings.warn(\"Maximum number of iterations reached\", ConvergenceWarning)\n",
      "C:\\Users\\simon\\anaconda3\\envs\\myenv\\lib\\site-packages\\sklearn\\cross_decomposition\\_pls.py:107: ConvergenceWarning: Maximum number of iterations reached\n",
      "  warnings.warn(\"Maximum number of iterations reached\", ConvergenceWarning)\n",
      "C:\\Users\\simon\\anaconda3\\envs\\myenv\\lib\\site-packages\\sklearn\\cross_decomposition\\_pls.py:107: ConvergenceWarning: Maximum number of iterations reached\n",
      "  warnings.warn(\"Maximum number of iterations reached\", ConvergenceWarning)\n",
      "C:\\Users\\simon\\anaconda3\\envs\\myenv\\lib\\site-packages\\sklearn\\cross_decomposition\\_pls.py:107: ConvergenceWarning: Maximum number of iterations reached\n",
      "  warnings.warn(\"Maximum number of iterations reached\", ConvergenceWarning)\n",
      "C:\\Users\\simon\\anaconda3\\envs\\myenv\\lib\\site-packages\\sklearn\\cross_decomposition\\_pls.py:107: ConvergenceWarning: Maximum number of iterations reached\n",
      "  warnings.warn(\"Maximum number of iterations reached\", ConvergenceWarning)\n",
      "C:\\Users\\simon\\anaconda3\\envs\\myenv\\lib\\site-packages\\sklearn\\cross_decomposition\\_pls.py:107: ConvergenceWarning: Maximum number of iterations reached\n",
      "  warnings.warn(\"Maximum number of iterations reached\", ConvergenceWarning)\n"
     ]
    },
    {
     "ename": "KeyboardInterrupt",
     "evalue": "",
     "output_type": "error",
     "traceback": [
      "\u001b[1;31m---------------------------------------------------------------------------\u001b[0m",
      "\u001b[1;31mKeyboardInterrupt\u001b[0m                         Traceback (most recent call last)",
      "Input \u001b[1;32mIn [474]\u001b[0m, in \u001b[0;36m<cell line: 3>\u001b[1;34m()\u001b[0m\n\u001b[0;32m      1\u001b[0m knn \u001b[38;5;241m=\u001b[39m KNN(n_neighbors\u001b[38;5;241m=\u001b[39m\u001b[38;5;241m1\u001b[39m, metric \u001b[38;5;241m=\u001b[39m \u001b[38;5;124m'\u001b[39m\u001b[38;5;124mctw\u001b[39m\u001b[38;5;124m'\u001b[39m, n_jobs \u001b[38;5;241m=\u001b[39m \u001b[38;5;241m-\u001b[39m\u001b[38;5;241m1\u001b[39m)\n\u001b[0;32m      2\u001b[0m knn\u001b[38;5;241m.\u001b[39mfit(X_train, y_train)\n\u001b[1;32m----> 3\u001b[0m y_pred \u001b[38;5;241m=\u001b[39m \u001b[43mknn\u001b[49m\u001b[38;5;241;43m.\u001b[39;49m\u001b[43mpredict\u001b[49m\u001b[43m(\u001b[49m\u001b[43mX_test\u001b[49m\u001b[43m)\u001b[49m\n\u001b[0;32m      5\u001b[0m \u001b[38;5;28mprint\u001b[39m(classification_report(y_test, y_pred))\n",
      "File \u001b[1;32m~\\anaconda3\\envs\\myenv\\lib\\site-packages\\tslearn\\neighbors\\neighbors.py:520\u001b[0m, in \u001b[0;36mKNeighborsTimeSeriesClassifier.predict\u001b[1;34m(self, X)\u001b[0m\n\u001b[0;32m    517\u001b[0m X \u001b[38;5;241m=\u001b[39m to_time_series_dataset(X)\n\u001b[0;32m    518\u001b[0m X \u001b[38;5;241m=\u001b[39m check_dims(X, X_fit_dims\u001b[38;5;241m=\u001b[39m\u001b[38;5;28mself\u001b[39m\u001b[38;5;241m.\u001b[39m_ts_fit\u001b[38;5;241m.\u001b[39mshape, extend\u001b[38;5;241m=\u001b[39m\u001b[38;5;28;01mTrue\u001b[39;00m,\n\u001b[0;32m    519\u001b[0m                check_n_features_only\u001b[38;5;241m=\u001b[39m\u001b[38;5;28;01mTrue\u001b[39;00m)\n\u001b[1;32m--> 520\u001b[0m X_ \u001b[38;5;241m=\u001b[39m \u001b[38;5;28;43mself\u001b[39;49m\u001b[38;5;241;43m.\u001b[39;49m\u001b[43m_precompute_cross_dist\u001b[49m\u001b[43m(\u001b[49m\u001b[43mX\u001b[49m\u001b[43m)\u001b[49m\n\u001b[0;32m    521\u001b[0m pred \u001b[38;5;241m=\u001b[39m \u001b[38;5;28msuper\u001b[39m()\u001b[38;5;241m.\u001b[39mpredict(X_)\n\u001b[0;32m    522\u001b[0m \u001b[38;5;28mself\u001b[39m\u001b[38;5;241m.\u001b[39mmetric \u001b[38;5;241m=\u001b[39m \u001b[38;5;28mself\u001b[39m\u001b[38;5;241m.\u001b[39m_ts_metric\n",
      "File \u001b[1;32m~\\anaconda3\\envs\\myenv\\lib\\site-packages\\tslearn\\neighbors\\neighbors.py:67\u001b[0m, in \u001b[0;36mKNeighborsTimeSeriesMixin._precompute_cross_dist\u001b[1;34m(self, X, other_X)\u001b[0m\n\u001b[0;32m     64\u001b[0m     X_ \u001b[38;5;241m=\u001b[39m cdist_dtw(X, other_X, n_jobs\u001b[38;5;241m=\u001b[39m\u001b[38;5;28mself\u001b[39m\u001b[38;5;241m.\u001b[39mn_jobs,\n\u001b[0;32m     65\u001b[0m                    \u001b[38;5;241m*\u001b[39m\u001b[38;5;241m*\u001b[39mmetric_params)\n\u001b[0;32m     66\u001b[0m \u001b[38;5;28;01melif\u001b[39;00m \u001b[38;5;28mself\u001b[39m\u001b[38;5;241m.\u001b[39m_ts_metric \u001b[38;5;241m==\u001b[39m \u001b[38;5;124m\"\u001b[39m\u001b[38;5;124mctw\u001b[39m\u001b[38;5;124m\"\u001b[39m:\n\u001b[1;32m---> 67\u001b[0m     X_ \u001b[38;5;241m=\u001b[39m \u001b[43mcdist_ctw\u001b[49m\u001b[43m(\u001b[49m\u001b[43mX\u001b[49m\u001b[43m,\u001b[49m\u001b[43m \u001b[49m\u001b[43mother_X\u001b[49m\u001b[43m,\u001b[49m\u001b[43m \u001b[49m\u001b[38;5;241;43m*\u001b[39;49m\u001b[38;5;241;43m*\u001b[39;49m\u001b[43mmetric_params\u001b[49m\u001b[43m)\u001b[49m\n\u001b[0;32m     68\u001b[0m \u001b[38;5;28;01melif\u001b[39;00m \u001b[38;5;28mself\u001b[39m\u001b[38;5;241m.\u001b[39m_ts_metric \u001b[38;5;241m==\u001b[39m \u001b[38;5;124m\"\u001b[39m\u001b[38;5;124msoftdtw\u001b[39m\u001b[38;5;124m\"\u001b[39m:\n\u001b[0;32m     69\u001b[0m     X_ \u001b[38;5;241m=\u001b[39m cdist_soft_dtw(X, other_X, \u001b[38;5;241m*\u001b[39m\u001b[38;5;241m*\u001b[39mmetric_params)\n",
      "File \u001b[1;32m~\\anaconda3\\envs\\myenv\\lib\\site-packages\\tslearn\\metrics\\ctw.py:358\u001b[0m, in \u001b[0;36mcdist_ctw\u001b[1;34m(dataset1, dataset2, max_iter, n_components, global_constraint, sakoe_chiba_radius, itakura_max_slope, n_jobs, verbose)\u001b[0m\n\u001b[0;32m    264\u001b[0m \u001b[38;5;28;01mdef\u001b[39;00m \u001b[38;5;21mcdist_ctw\u001b[39m(dataset1, dataset2\u001b[38;5;241m=\u001b[39m\u001b[38;5;28;01mNone\u001b[39;00m, max_iter\u001b[38;5;241m=\u001b[39m\u001b[38;5;241m100\u001b[39m, n_components\u001b[38;5;241m=\u001b[39m\u001b[38;5;28;01mNone\u001b[39;00m,\n\u001b[0;32m    265\u001b[0m               global_constraint\u001b[38;5;241m=\u001b[39m\u001b[38;5;28;01mNone\u001b[39;00m, sakoe_chiba_radius\u001b[38;5;241m=\u001b[39m\u001b[38;5;28;01mNone\u001b[39;00m,\n\u001b[0;32m    266\u001b[0m               itakura_max_slope\u001b[38;5;241m=\u001b[39m\u001b[38;5;28;01mNone\u001b[39;00m, n_jobs\u001b[38;5;241m=\u001b[39m\u001b[38;5;28;01mNone\u001b[39;00m, verbose\u001b[38;5;241m=\u001b[39m\u001b[38;5;241m0\u001b[39m):\n\u001b[0;32m    267\u001b[0m     \u001b[38;5;124mr\u001b[39m\u001b[38;5;124;03m\"\"\"Compute cross-similarity matrix using Canonical Time Warping (CTW)\u001b[39;00m\n\u001b[0;32m    268\u001b[0m \u001b[38;5;124;03m    similarity measure.\u001b[39;00m\n\u001b[0;32m    269\u001b[0m \u001b[38;5;124;03m    \u001b[39;00m\n\u001b[1;32m   (...)\u001b[0m\n\u001b[0;32m    356\u001b[0m \u001b[38;5;124;03m       human behavior\". NIPS 2009.\u001b[39;00m\n\u001b[0;32m    357\u001b[0m \u001b[38;5;124;03m    \"\"\"\u001b[39;00m  \u001b[38;5;66;03m# noqa: E501\u001b[39;00m\n\u001b[1;32m--> 358\u001b[0m     \u001b[38;5;28;01mreturn\u001b[39;00m \u001b[43m_cdist_generic\u001b[49m\u001b[43m(\u001b[49m\u001b[43mdist_fun\u001b[49m\u001b[38;5;241;43m=\u001b[39;49m\u001b[43mctw\u001b[49m\u001b[43m,\u001b[49m\u001b[43m \u001b[49m\u001b[43mdataset1\u001b[49m\u001b[38;5;241;43m=\u001b[39;49m\u001b[43mdataset1\u001b[49m\u001b[43m,\u001b[49m\u001b[43m \u001b[49m\u001b[43mdataset2\u001b[49m\u001b[38;5;241;43m=\u001b[39;49m\u001b[43mdataset2\u001b[49m\u001b[43m,\u001b[49m\n\u001b[0;32m    359\u001b[0m \u001b[43m                          \u001b[49m\u001b[43mn_jobs\u001b[49m\u001b[38;5;241;43m=\u001b[39;49m\u001b[43mn_jobs\u001b[49m\u001b[43m,\u001b[49m\u001b[43m \u001b[49m\u001b[43mverbose\u001b[49m\u001b[38;5;241;43m=\u001b[39;49m\u001b[43mverbose\u001b[49m\u001b[43m,\u001b[49m\n\u001b[0;32m    360\u001b[0m \u001b[43m                          \u001b[49m\u001b[43mcompute_diagonal\u001b[49m\u001b[38;5;241;43m=\u001b[39;49m\u001b[38;5;28;43;01mFalse\u001b[39;49;00m\u001b[43m,\u001b[49m\n\u001b[0;32m    361\u001b[0m \u001b[43m                          \u001b[49m\u001b[43mmax_iter\u001b[49m\u001b[38;5;241;43m=\u001b[39;49m\u001b[43mmax_iter\u001b[49m\u001b[43m,\u001b[49m\u001b[43m \u001b[49m\u001b[43mn_components\u001b[49m\u001b[38;5;241;43m=\u001b[39;49m\u001b[43mn_components\u001b[49m\u001b[43m,\u001b[49m\n\u001b[0;32m    362\u001b[0m \u001b[43m                          \u001b[49m\u001b[43mglobal_constraint\u001b[49m\u001b[38;5;241;43m=\u001b[39;49m\u001b[43mglobal_constraint\u001b[49m\u001b[43m,\u001b[49m\n\u001b[0;32m    363\u001b[0m \u001b[43m                          \u001b[49m\u001b[43msakoe_chiba_radius\u001b[49m\u001b[38;5;241;43m=\u001b[39;49m\u001b[43msakoe_chiba_radius\u001b[49m\u001b[43m,\u001b[49m\n\u001b[0;32m    364\u001b[0m \u001b[43m                          \u001b[49m\u001b[43mitakura_max_slope\u001b[49m\u001b[38;5;241;43m=\u001b[39;49m\u001b[43mitakura_max_slope\u001b[49m\u001b[43m)\u001b[49m\n",
      "File \u001b[1;32m~\\anaconda3\\envs\\myenv\\lib\\site-packages\\tslearn\\metrics\\utils.py:78\u001b[0m, in \u001b[0;36m_cdist_generic\u001b[1;34m(dist_fun, dataset1, dataset2, n_jobs, verbose, compute_diagonal, dtype, *args, **kwargs)\u001b[0m\n\u001b[0;32m     76\u001b[0m \u001b[38;5;28;01melse\u001b[39;00m:\n\u001b[0;32m     77\u001b[0m     dataset2 \u001b[38;5;241m=\u001b[39m to_time_series_dataset(dataset2, dtype\u001b[38;5;241m=\u001b[39mdtype)\n\u001b[1;32m---> 78\u001b[0m     matrix \u001b[38;5;241m=\u001b[39m \u001b[43mParallel\u001b[49m\u001b[43m(\u001b[49m\u001b[43mn_jobs\u001b[49m\u001b[38;5;241;43m=\u001b[39;49m\u001b[43mn_jobs\u001b[49m\u001b[43m,\u001b[49m\u001b[43m \u001b[49m\u001b[43mprefer\u001b[49m\u001b[38;5;241;43m=\u001b[39;49m\u001b[38;5;124;43m\"\u001b[39;49m\u001b[38;5;124;43mthreads\u001b[39;49m\u001b[38;5;124;43m\"\u001b[39;49m\u001b[43m,\u001b[49m\u001b[43m \u001b[49m\u001b[43mverbose\u001b[49m\u001b[38;5;241;43m=\u001b[39;49m\u001b[43mverbose\u001b[49m\u001b[43m)\u001b[49m\u001b[43m(\u001b[49m\n\u001b[0;32m     79\u001b[0m \u001b[43m        \u001b[49m\u001b[43mdelayed\u001b[49m\u001b[43m(\u001b[49m\u001b[43mdist_fun\u001b[49m\u001b[43m)\u001b[49m\u001b[43m(\u001b[49m\n\u001b[0;32m     80\u001b[0m \u001b[43m            \u001b[49m\u001b[43mdataset1\u001b[49m\u001b[43m[\u001b[49m\u001b[43mi\u001b[49m\u001b[43m]\u001b[49m\u001b[43m,\u001b[49m\u001b[43m \u001b[49m\u001b[43mdataset2\u001b[49m\u001b[43m[\u001b[49m\u001b[43mj\u001b[49m\u001b[43m]\u001b[49m\u001b[43m,\u001b[49m\n\u001b[0;32m     81\u001b[0m \u001b[43m            \u001b[49m\u001b[38;5;241;43m*\u001b[39;49m\u001b[43margs\u001b[49m\u001b[43m,\u001b[49m\u001b[43m \u001b[49m\u001b[38;5;241;43m*\u001b[39;49m\u001b[38;5;241;43m*\u001b[39;49m\u001b[43mkwargs\u001b[49m\n\u001b[0;32m     82\u001b[0m \u001b[43m        \u001b[49m\u001b[43m)\u001b[49m\n\u001b[0;32m     83\u001b[0m \u001b[43m        \u001b[49m\u001b[38;5;28;43;01mfor\u001b[39;49;00m\u001b[43m \u001b[49m\u001b[43mi\u001b[49m\u001b[43m \u001b[49m\u001b[38;5;129;43;01min\u001b[39;49;00m\u001b[43m \u001b[49m\u001b[38;5;28;43mrange\u001b[39;49m\u001b[43m(\u001b[49m\u001b[38;5;28;43mlen\u001b[39;49m\u001b[43m(\u001b[49m\u001b[43mdataset1\u001b[49m\u001b[43m)\u001b[49m\u001b[43m)\u001b[49m\u001b[43m \u001b[49m\u001b[38;5;28;43;01mfor\u001b[39;49;00m\u001b[43m \u001b[49m\u001b[43mj\u001b[49m\u001b[43m \u001b[49m\u001b[38;5;129;43;01min\u001b[39;49;00m\u001b[43m \u001b[49m\u001b[38;5;28;43mrange\u001b[39;49m\u001b[43m(\u001b[49m\u001b[38;5;28;43mlen\u001b[39;49m\u001b[43m(\u001b[49m\u001b[43mdataset2\u001b[49m\u001b[43m)\u001b[49m\u001b[43m)\u001b[49m\n\u001b[0;32m     84\u001b[0m \u001b[43m    \u001b[49m\u001b[43m)\u001b[49m\n\u001b[0;32m     85\u001b[0m     \u001b[38;5;28;01mreturn\u001b[39;00m numpy\u001b[38;5;241m.\u001b[39marray(matrix)\u001b[38;5;241m.\u001b[39mreshape((\u001b[38;5;28mlen\u001b[39m(dataset1), \u001b[38;5;241m-\u001b[39m\u001b[38;5;241m1\u001b[39m))\n",
      "File \u001b[1;32m~\\anaconda3\\envs\\myenv\\lib\\site-packages\\joblib\\parallel.py:1046\u001b[0m, in \u001b[0;36mParallel.__call__\u001b[1;34m(self, iterable)\u001b[0m\n\u001b[0;32m   1043\u001b[0m \u001b[38;5;28;01mif\u001b[39;00m \u001b[38;5;28mself\u001b[39m\u001b[38;5;241m.\u001b[39mdispatch_one_batch(iterator):\n\u001b[0;32m   1044\u001b[0m     \u001b[38;5;28mself\u001b[39m\u001b[38;5;241m.\u001b[39m_iterating \u001b[38;5;241m=\u001b[39m \u001b[38;5;28mself\u001b[39m\u001b[38;5;241m.\u001b[39m_original_iterator \u001b[38;5;129;01mis\u001b[39;00m \u001b[38;5;129;01mnot\u001b[39;00m \u001b[38;5;28;01mNone\u001b[39;00m\n\u001b[1;32m-> 1046\u001b[0m \u001b[38;5;28;01mwhile\u001b[39;00m \u001b[38;5;28;43mself\u001b[39;49m\u001b[38;5;241;43m.\u001b[39;49m\u001b[43mdispatch_one_batch\u001b[49m\u001b[43m(\u001b[49m\u001b[43miterator\u001b[49m\u001b[43m)\u001b[49m:\n\u001b[0;32m   1047\u001b[0m     \u001b[38;5;28;01mpass\u001b[39;00m\n\u001b[0;32m   1049\u001b[0m \u001b[38;5;28;01mif\u001b[39;00m pre_dispatch \u001b[38;5;241m==\u001b[39m \u001b[38;5;124m\"\u001b[39m\u001b[38;5;124mall\u001b[39m\u001b[38;5;124m\"\u001b[39m \u001b[38;5;129;01mor\u001b[39;00m n_jobs \u001b[38;5;241m==\u001b[39m \u001b[38;5;241m1\u001b[39m:\n\u001b[0;32m   1050\u001b[0m     \u001b[38;5;66;03m# The iterable was consumed all at once by the above for loop.\u001b[39;00m\n\u001b[0;32m   1051\u001b[0m     \u001b[38;5;66;03m# No need to wait for async callbacks to trigger to\u001b[39;00m\n\u001b[0;32m   1052\u001b[0m     \u001b[38;5;66;03m# consumption.\u001b[39;00m\n",
      "File \u001b[1;32m~\\anaconda3\\envs\\myenv\\lib\\site-packages\\joblib\\parallel.py:861\u001b[0m, in \u001b[0;36mParallel.dispatch_one_batch\u001b[1;34m(self, iterator)\u001b[0m\n\u001b[0;32m    859\u001b[0m     \u001b[38;5;28;01mreturn\u001b[39;00m \u001b[38;5;28;01mFalse\u001b[39;00m\n\u001b[0;32m    860\u001b[0m \u001b[38;5;28;01melse\u001b[39;00m:\n\u001b[1;32m--> 861\u001b[0m     \u001b[38;5;28;43mself\u001b[39;49m\u001b[38;5;241;43m.\u001b[39;49m\u001b[43m_dispatch\u001b[49m\u001b[43m(\u001b[49m\u001b[43mtasks\u001b[49m\u001b[43m)\u001b[49m\n\u001b[0;32m    862\u001b[0m     \u001b[38;5;28;01mreturn\u001b[39;00m \u001b[38;5;28;01mTrue\u001b[39;00m\n",
      "File \u001b[1;32m~\\anaconda3\\envs\\myenv\\lib\\site-packages\\joblib\\parallel.py:779\u001b[0m, in \u001b[0;36mParallel._dispatch\u001b[1;34m(self, batch)\u001b[0m\n\u001b[0;32m    777\u001b[0m \u001b[38;5;28;01mwith\u001b[39;00m \u001b[38;5;28mself\u001b[39m\u001b[38;5;241m.\u001b[39m_lock:\n\u001b[0;32m    778\u001b[0m     job_idx \u001b[38;5;241m=\u001b[39m \u001b[38;5;28mlen\u001b[39m(\u001b[38;5;28mself\u001b[39m\u001b[38;5;241m.\u001b[39m_jobs)\n\u001b[1;32m--> 779\u001b[0m     job \u001b[38;5;241m=\u001b[39m \u001b[38;5;28;43mself\u001b[39;49m\u001b[38;5;241;43m.\u001b[39;49m\u001b[43m_backend\u001b[49m\u001b[38;5;241;43m.\u001b[39;49m\u001b[43mapply_async\u001b[49m\u001b[43m(\u001b[49m\u001b[43mbatch\u001b[49m\u001b[43m,\u001b[49m\u001b[43m \u001b[49m\u001b[43mcallback\u001b[49m\u001b[38;5;241;43m=\u001b[39;49m\u001b[43mcb\u001b[49m\u001b[43m)\u001b[49m\n\u001b[0;32m    780\u001b[0m     \u001b[38;5;66;03m# A job can complete so quickly than its callback is\u001b[39;00m\n\u001b[0;32m    781\u001b[0m     \u001b[38;5;66;03m# called before we get here, causing self._jobs to\u001b[39;00m\n\u001b[0;32m    782\u001b[0m     \u001b[38;5;66;03m# grow. To ensure correct results ordering, .insert is\u001b[39;00m\n\u001b[0;32m    783\u001b[0m     \u001b[38;5;66;03m# used (rather than .append) in the following line\u001b[39;00m\n\u001b[0;32m    784\u001b[0m     \u001b[38;5;28mself\u001b[39m\u001b[38;5;241m.\u001b[39m_jobs\u001b[38;5;241m.\u001b[39minsert(job_idx, job)\n",
      "File \u001b[1;32m~\\anaconda3\\envs\\myenv\\lib\\site-packages\\joblib\\_parallel_backends.py:208\u001b[0m, in \u001b[0;36mSequentialBackend.apply_async\u001b[1;34m(self, func, callback)\u001b[0m\n\u001b[0;32m    206\u001b[0m \u001b[38;5;28;01mdef\u001b[39;00m \u001b[38;5;21mapply_async\u001b[39m(\u001b[38;5;28mself\u001b[39m, func, callback\u001b[38;5;241m=\u001b[39m\u001b[38;5;28;01mNone\u001b[39;00m):\n\u001b[0;32m    207\u001b[0m     \u001b[38;5;124;03m\"\"\"Schedule a func to be run\"\"\"\u001b[39;00m\n\u001b[1;32m--> 208\u001b[0m     result \u001b[38;5;241m=\u001b[39m \u001b[43mImmediateResult\u001b[49m\u001b[43m(\u001b[49m\u001b[43mfunc\u001b[49m\u001b[43m)\u001b[49m\n\u001b[0;32m    209\u001b[0m     \u001b[38;5;28;01mif\u001b[39;00m callback:\n\u001b[0;32m    210\u001b[0m         callback(result)\n",
      "File \u001b[1;32m~\\anaconda3\\envs\\myenv\\lib\\site-packages\\joblib\\_parallel_backends.py:572\u001b[0m, in \u001b[0;36mImmediateResult.__init__\u001b[1;34m(self, batch)\u001b[0m\n\u001b[0;32m    569\u001b[0m \u001b[38;5;28;01mdef\u001b[39;00m \u001b[38;5;21m__init__\u001b[39m(\u001b[38;5;28mself\u001b[39m, batch):\n\u001b[0;32m    570\u001b[0m     \u001b[38;5;66;03m# Don't delay the application, to avoid keeping the input\u001b[39;00m\n\u001b[0;32m    571\u001b[0m     \u001b[38;5;66;03m# arguments in memory\u001b[39;00m\n\u001b[1;32m--> 572\u001b[0m     \u001b[38;5;28mself\u001b[39m\u001b[38;5;241m.\u001b[39mresults \u001b[38;5;241m=\u001b[39m \u001b[43mbatch\u001b[49m\u001b[43m(\u001b[49m\u001b[43m)\u001b[49m\n",
      "File \u001b[1;32m~\\anaconda3\\envs\\myenv\\lib\\site-packages\\joblib\\parallel.py:262\u001b[0m, in \u001b[0;36mBatchedCalls.__call__\u001b[1;34m(self)\u001b[0m\n\u001b[0;32m    258\u001b[0m \u001b[38;5;28;01mdef\u001b[39;00m \u001b[38;5;21m__call__\u001b[39m(\u001b[38;5;28mself\u001b[39m):\n\u001b[0;32m    259\u001b[0m     \u001b[38;5;66;03m# Set the default nested backend to self._backend but do not set the\u001b[39;00m\n\u001b[0;32m    260\u001b[0m     \u001b[38;5;66;03m# change the default number of processes to -1\u001b[39;00m\n\u001b[0;32m    261\u001b[0m     \u001b[38;5;28;01mwith\u001b[39;00m parallel_backend(\u001b[38;5;28mself\u001b[39m\u001b[38;5;241m.\u001b[39m_backend, n_jobs\u001b[38;5;241m=\u001b[39m\u001b[38;5;28mself\u001b[39m\u001b[38;5;241m.\u001b[39m_n_jobs):\n\u001b[1;32m--> 262\u001b[0m         \u001b[38;5;28;01mreturn\u001b[39;00m [func(\u001b[38;5;241m*\u001b[39margs, \u001b[38;5;241m*\u001b[39m\u001b[38;5;241m*\u001b[39mkwargs)\n\u001b[0;32m    263\u001b[0m                 \u001b[38;5;28;01mfor\u001b[39;00m func, args, kwargs \u001b[38;5;129;01min\u001b[39;00m \u001b[38;5;28mself\u001b[39m\u001b[38;5;241m.\u001b[39mitems]\n",
      "File \u001b[1;32m~\\anaconda3\\envs\\myenv\\lib\\site-packages\\joblib\\parallel.py:262\u001b[0m, in \u001b[0;36m<listcomp>\u001b[1;34m(.0)\u001b[0m\n\u001b[0;32m    258\u001b[0m \u001b[38;5;28;01mdef\u001b[39;00m \u001b[38;5;21m__call__\u001b[39m(\u001b[38;5;28mself\u001b[39m):\n\u001b[0;32m    259\u001b[0m     \u001b[38;5;66;03m# Set the default nested backend to self._backend but do not set the\u001b[39;00m\n\u001b[0;32m    260\u001b[0m     \u001b[38;5;66;03m# change the default number of processes to -1\u001b[39;00m\n\u001b[0;32m    261\u001b[0m     \u001b[38;5;28;01mwith\u001b[39;00m parallel_backend(\u001b[38;5;28mself\u001b[39m\u001b[38;5;241m.\u001b[39m_backend, n_jobs\u001b[38;5;241m=\u001b[39m\u001b[38;5;28mself\u001b[39m\u001b[38;5;241m.\u001b[39m_n_jobs):\n\u001b[1;32m--> 262\u001b[0m         \u001b[38;5;28;01mreturn\u001b[39;00m [\u001b[43mfunc\u001b[49m\u001b[43m(\u001b[49m\u001b[38;5;241;43m*\u001b[39;49m\u001b[43margs\u001b[49m\u001b[43m,\u001b[49m\u001b[43m \u001b[49m\u001b[38;5;241;43m*\u001b[39;49m\u001b[38;5;241;43m*\u001b[39;49m\u001b[43mkwargs\u001b[49m\u001b[43m)\u001b[49m\n\u001b[0;32m    263\u001b[0m                 \u001b[38;5;28;01mfor\u001b[39;00m func, args, kwargs \u001b[38;5;129;01min\u001b[39;00m \u001b[38;5;28mself\u001b[39m\u001b[38;5;241m.\u001b[39mitems]\n",
      "File \u001b[1;32m~\\anaconda3\\envs\\myenv\\lib\\site-packages\\tslearn\\metrics\\ctw.py:257\u001b[0m, in \u001b[0;36mctw\u001b[1;34m(s1, s2, max_iter, n_components, global_constraint, sakoe_chiba_radius, itakura_max_slope, verbose)\u001b[0m\n\u001b[0;32m    179\u001b[0m \u001b[38;5;28;01mdef\u001b[39;00m \u001b[38;5;21mctw\u001b[39m(s1, s2, max_iter\u001b[38;5;241m=\u001b[39m\u001b[38;5;241m100\u001b[39m, n_components\u001b[38;5;241m=\u001b[39m\u001b[38;5;28;01mNone\u001b[39;00m,\n\u001b[0;32m    180\u001b[0m         global_constraint\u001b[38;5;241m=\u001b[39m\u001b[38;5;28;01mNone\u001b[39;00m, sakoe_chiba_radius\u001b[38;5;241m=\u001b[39m\u001b[38;5;28;01mNone\u001b[39;00m,\n\u001b[0;32m    181\u001b[0m         itakura_max_slope\u001b[38;5;241m=\u001b[39m\u001b[38;5;28;01mNone\u001b[39;00m, verbose\u001b[38;5;241m=\u001b[39m\u001b[38;5;28;01mFalse\u001b[39;00m):\n\u001b[0;32m    182\u001b[0m     \u001b[38;5;124;03m\"\"\"Compute Canonical Time Warping (CTW) similarity measure between\u001b[39;00m\n\u001b[0;32m    183\u001b[0m \u001b[38;5;124;03m    (possibly multidimensional) time series and return the similarity.\u001b[39;00m\n\u001b[0;32m    184\u001b[0m \u001b[38;5;124;03m    \u001b[39;00m\n\u001b[1;32m   (...)\u001b[0m\n\u001b[0;32m    255\u001b[0m \u001b[38;5;124;03m       human behavior\". NIPS 2009.\u001b[39;00m\n\u001b[0;32m    256\u001b[0m \u001b[38;5;124;03m    \"\"\"\u001b[39;00m\n\u001b[1;32m--> 257\u001b[0m     \u001b[38;5;28;01mreturn\u001b[39;00m \u001b[43mctw_path\u001b[49m\u001b[43m(\u001b[49m\u001b[43ms1\u001b[49m\u001b[38;5;241;43m=\u001b[39;49m\u001b[43ms1\u001b[49m\u001b[43m,\u001b[49m\u001b[43m \u001b[49m\u001b[43ms2\u001b[49m\u001b[38;5;241;43m=\u001b[39;49m\u001b[43ms2\u001b[49m\u001b[43m,\u001b[49m\u001b[43m \u001b[49m\u001b[43mmax_iter\u001b[49m\u001b[38;5;241;43m=\u001b[39;49m\u001b[43mmax_iter\u001b[49m\u001b[43m,\u001b[49m\n\u001b[0;32m    258\u001b[0m \u001b[43m                    \u001b[49m\u001b[43mn_components\u001b[49m\u001b[38;5;241;43m=\u001b[39;49m\u001b[43mn_components\u001b[49m\u001b[43m,\u001b[49m\n\u001b[0;32m    259\u001b[0m \u001b[43m                    \u001b[49m\u001b[43mglobal_constraint\u001b[49m\u001b[38;5;241;43m=\u001b[39;49m\u001b[43mglobal_constraint\u001b[49m\u001b[43m,\u001b[49m\n\u001b[0;32m    260\u001b[0m \u001b[43m                    \u001b[49m\u001b[43msakoe_chiba_radius\u001b[49m\u001b[38;5;241;43m=\u001b[39;49m\u001b[43msakoe_chiba_radius\u001b[49m\u001b[43m,\u001b[49m\n\u001b[0;32m    261\u001b[0m \u001b[43m                    \u001b[49m\u001b[43mitakura_max_slope\u001b[49m\u001b[38;5;241;43m=\u001b[39;49m\u001b[43mitakura_max_slope\u001b[49m\u001b[43m,\u001b[49m\u001b[43m \u001b[49m\u001b[43mverbose\u001b[49m\u001b[38;5;241;43m=\u001b[39;49m\u001b[43mverbose\u001b[49m\u001b[43m)\u001b[49m[\u001b[38;5;241m-\u001b[39m\u001b[38;5;241m1\u001b[39m]\n",
      "File \u001b[1;32m~\\anaconda3\\envs\\myenv\\lib\\site-packages\\tslearn\\metrics\\ctw.py:158\u001b[0m, in \u001b[0;36mctw_path\u001b[1;34m(s1, s2, max_iter, n_components, global_constraint, sakoe_chiba_radius, itakura_max_slope, verbose)\u001b[0m\n\u001b[0;32m    155\u001b[0m \u001b[38;5;28;01mfor\u001b[39;00m it \u001b[38;5;129;01min\u001b[39;00m \u001b[38;5;28mrange\u001b[39m(max_iter\u001b[38;5;241m-\u001b[39m\u001b[38;5;241m1\u001b[39m):\n\u001b[0;32m    156\u001b[0m     Wx, Wy \u001b[38;5;241m=\u001b[39m _get_warp_matrices(current_path)\n\u001b[1;32m--> 158\u001b[0m     \u001b[43mcca\u001b[49m\u001b[38;5;241;43m.\u001b[39;49m\u001b[43mfit\u001b[49m\u001b[43m(\u001b[49m\u001b[43mWx\u001b[49m\u001b[38;5;241;43m.\u001b[39;49m\u001b[43mdot\u001b[49m\u001b[43m(\u001b[49m\u001b[43ms1\u001b[49m\u001b[43m)\u001b[49m\u001b[43m,\u001b[49m\u001b[43m \u001b[49m\u001b[43mWy\u001b[49m\u001b[38;5;241;43m.\u001b[39;49m\u001b[43mdot\u001b[49m\u001b[43m(\u001b[49m\u001b[43ms2\u001b[49m\u001b[43m)\u001b[49m\u001b[43m)\u001b[49m\n\u001b[0;32m    159\u001b[0m     seq1_tr, seq2_tr \u001b[38;5;241m=\u001b[39m cca\u001b[38;5;241m.\u001b[39mtransform(s1, s2)\n\u001b[0;32m    161\u001b[0m     current_path, score_match \u001b[38;5;241m=\u001b[39m dtw_path(\n\u001b[0;32m    162\u001b[0m         seq1_tr, seq2_tr,\n\u001b[0;32m    163\u001b[0m         global_constraint\u001b[38;5;241m=\u001b[39mglobal_constraint,\n\u001b[0;32m    164\u001b[0m         sakoe_chiba_radius\u001b[38;5;241m=\u001b[39msakoe_chiba_radius,\n\u001b[0;32m    165\u001b[0m         itakura_max_slope\u001b[38;5;241m=\u001b[39mitakura_max_slope\n\u001b[0;32m    166\u001b[0m     )\n",
      "File \u001b[1;32m~\\anaconda3\\envs\\myenv\\lib\\site-packages\\sklearn\\cross_decomposition\\_pls.py:294\u001b[0m, in \u001b[0;36m_PLS.fit\u001b[1;34m(self, X, Y)\u001b[0m\n\u001b[0;32m    287\u001b[0m Yk[:, Yk_mask] \u001b[38;5;241m=\u001b[39m \u001b[38;5;241m0.0\u001b[39m\n\u001b[0;32m    289\u001b[0m \u001b[38;5;28;01mtry\u001b[39;00m:\n\u001b[0;32m    290\u001b[0m     (\n\u001b[0;32m    291\u001b[0m         x_weights,\n\u001b[0;32m    292\u001b[0m         y_weights,\n\u001b[0;32m    293\u001b[0m         n_iter_,\n\u001b[1;32m--> 294\u001b[0m     ) \u001b[38;5;241m=\u001b[39m \u001b[43m_get_first_singular_vectors_power_method\u001b[49m\u001b[43m(\u001b[49m\n\u001b[0;32m    295\u001b[0m \u001b[43m        \u001b[49m\u001b[43mXk\u001b[49m\u001b[43m,\u001b[49m\n\u001b[0;32m    296\u001b[0m \u001b[43m        \u001b[49m\u001b[43mYk\u001b[49m\u001b[43m,\u001b[49m\n\u001b[0;32m    297\u001b[0m \u001b[43m        \u001b[49m\u001b[43mmode\u001b[49m\u001b[38;5;241;43m=\u001b[39;49m\u001b[38;5;28;43mself\u001b[39;49m\u001b[38;5;241;43m.\u001b[39;49m\u001b[43mmode\u001b[49m\u001b[43m,\u001b[49m\n\u001b[0;32m    298\u001b[0m \u001b[43m        \u001b[49m\u001b[43mmax_iter\u001b[49m\u001b[38;5;241;43m=\u001b[39;49m\u001b[38;5;28;43mself\u001b[39;49m\u001b[38;5;241;43m.\u001b[39;49m\u001b[43mmax_iter\u001b[49m\u001b[43m,\u001b[49m\n\u001b[0;32m    299\u001b[0m \u001b[43m        \u001b[49m\u001b[43mtol\u001b[49m\u001b[38;5;241;43m=\u001b[39;49m\u001b[38;5;28;43mself\u001b[39;49m\u001b[38;5;241;43m.\u001b[39;49m\u001b[43mtol\u001b[49m\u001b[43m,\u001b[49m\n\u001b[0;32m    300\u001b[0m \u001b[43m        \u001b[49m\u001b[43mnorm_y_weights\u001b[49m\u001b[38;5;241;43m=\u001b[39;49m\u001b[43mnorm_y_weights\u001b[49m\u001b[43m,\u001b[49m\n\u001b[0;32m    301\u001b[0m \u001b[43m    \u001b[49m\u001b[43m)\u001b[49m\n\u001b[0;32m    302\u001b[0m \u001b[38;5;28;01mexcept\u001b[39;00m \u001b[38;5;167;01mStopIteration\u001b[39;00m \u001b[38;5;28;01mas\u001b[39;00m e:\n\u001b[0;32m    303\u001b[0m     \u001b[38;5;28;01mif\u001b[39;00m \u001b[38;5;28mstr\u001b[39m(e) \u001b[38;5;241m!=\u001b[39m \u001b[38;5;124m\"\u001b[39m\u001b[38;5;124mY residual is constant\u001b[39m\u001b[38;5;124m\"\u001b[39m:\n",
      "File \u001b[1;32m~\\anaconda3\\envs\\myenv\\lib\\site-packages\\sklearn\\cross_decomposition\\_pls.py:79\u001b[0m, in \u001b[0;36m_get_first_singular_vectors_power_method\u001b[1;34m(X, Y, mode, max_iter, tol, norm_y_weights)\u001b[0m\n\u001b[0;32m     70\u001b[0m x_weights_old \u001b[38;5;241m=\u001b[39m \u001b[38;5;241m100\u001b[39m  \u001b[38;5;66;03m# init to big value for first convergence check\u001b[39;00m\n\u001b[0;32m     72\u001b[0m \u001b[38;5;28;01mif\u001b[39;00m mode \u001b[38;5;241m==\u001b[39m \u001b[38;5;124m\"\u001b[39m\u001b[38;5;124mB\u001b[39m\u001b[38;5;124m\"\u001b[39m:\n\u001b[0;32m     73\u001b[0m     \u001b[38;5;66;03m# Precompute pseudo inverse matrices\u001b[39;00m\n\u001b[0;32m     74\u001b[0m     \u001b[38;5;66;03m# Basically: X_pinv = (X.T X)^-1 X.T\u001b[39;00m\n\u001b[1;32m   (...)\u001b[0m\n\u001b[0;32m     77\u001b[0m     \u001b[38;5;66;03m# B) will be unstable if n_features > n_samples or n_targets >\u001b[39;00m\n\u001b[0;32m     78\u001b[0m     \u001b[38;5;66;03m# n_samples\u001b[39;00m\n\u001b[1;32m---> 79\u001b[0m     X_pinv, Y_pinv \u001b[38;5;241m=\u001b[39m _pinv2_old(X), \u001b[43m_pinv2_old\u001b[49m\u001b[43m(\u001b[49m\u001b[43mY\u001b[49m\u001b[43m)\u001b[49m\n\u001b[0;32m     81\u001b[0m \u001b[38;5;28;01mfor\u001b[39;00m i \u001b[38;5;129;01min\u001b[39;00m \u001b[38;5;28mrange\u001b[39m(max_iter):\n\u001b[0;32m     82\u001b[0m     \u001b[38;5;28;01mif\u001b[39;00m mode \u001b[38;5;241m==\u001b[39m \u001b[38;5;124m\"\u001b[39m\u001b[38;5;124mB\u001b[39m\u001b[38;5;124m\"\u001b[39m:\n",
      "File \u001b[1;32m~\\anaconda3\\envs\\myenv\\lib\\site-packages\\sklearn\\cross_decomposition\\_pls.py:50\u001b[0m, in \u001b[0;36m_pinv2_old\u001b[1;34m(a)\u001b[0m\n\u001b[0;32m     48\u001b[0m u \u001b[38;5;241m=\u001b[39m u[:, :rank]\n\u001b[0;32m     49\u001b[0m u \u001b[38;5;241m/\u001b[39m\u001b[38;5;241m=\u001b[39m s[:rank]\n\u001b[1;32m---> 50\u001b[0m \u001b[38;5;28;01mreturn\u001b[39;00m np\u001b[38;5;241m.\u001b[39mtranspose(np\u001b[38;5;241m.\u001b[39mconjugate(\u001b[43mnp\u001b[49m\u001b[38;5;241;43m.\u001b[39;49m\u001b[43mdot\u001b[49m\u001b[43m(\u001b[49m\u001b[43mu\u001b[49m\u001b[43m,\u001b[49m\u001b[43m \u001b[49m\u001b[43mvh\u001b[49m\u001b[43m[\u001b[49m\u001b[43m:\u001b[49m\u001b[43mrank\u001b[49m\u001b[43m]\u001b[49m\u001b[43m)\u001b[49m))\n",
      "File \u001b[1;32m<__array_function__ internals>:5\u001b[0m, in \u001b[0;36mdot\u001b[1;34m(*args, **kwargs)\u001b[0m\n",
      "\u001b[1;31mKeyboardInterrupt\u001b[0m: "
     ]
    }
   ],
   "source": [
    "knn = KNN(n_neighbors=1, metric = 'ctw', n_jobs = -1)\n",
    "knn.fit(X_train, y_train)\n",
    "y_pred = knn.predict(X_test)\n",
    "\n",
    "print(classification_report(y_test, y_pred))"
   ]
  },
  {
   "cell_type": "code",
   "execution_count": null,
   "id": "e068bce0",
   "metadata": {},
   "outputs": [],
   "source": [
    "plot_confusion_mtx(confusion_matrix(y_test, y_pred), figsize=(5,5))"
   ]
  },
  {
   "cell_type": "code",
   "execution_count": null,
   "id": "49fcc96e",
   "metadata": {},
   "outputs": [],
   "source": []
  },
  {
   "cell_type": "markdown",
   "id": "3a314c29",
   "metadata": {},
   "source": [
    "---"
   ]
  },
  {
   "cell_type": "code",
   "execution_count": null,
   "id": "7bbdfc1c",
   "metadata": {},
   "outputs": [],
   "source": []
  }
 ],
 "metadata": {
  "kernelspec": {
   "display_name": "Python 3 (ipykernel)",
   "language": "python",
   "name": "python3"
  },
  "language_info": {
   "codemirror_mode": {
    "name": "ipython",
    "version": 3
   },
   "file_extension": ".py",
   "mimetype": "text/x-python",
   "name": "python",
   "nbconvert_exporter": "python",
   "pygments_lexer": "ipython3",
   "version": "3.8.13"
  }
 },
 "nbformat": 4,
 "nbformat_minor": 5
}
