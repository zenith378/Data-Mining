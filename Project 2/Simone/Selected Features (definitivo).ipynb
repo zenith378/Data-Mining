{
 "cells": [
  {
   "cell_type": "markdown",
   "id": "61fddfb8",
   "metadata": {},
   "source": [
    "Qui viene fatta la stessa analisi presente al'interno del notebook 'Dimensionality reduction'. La differenza è che invece di utilizzare la funzione RFECV di sklearn, ne utilizziamo una implementata manualmente, RFE_CV, che permette di ricavare informazioni aggiuntive. L'analisi porta a selezionare 23 attributi."
   ]
  },
  {
   "cell_type": "code",
   "execution_count": 360,
   "id": "d4ca5393",
   "metadata": {},
   "outputs": [],
   "source": [
    "import pandas as pd\n",
    "import numpy as np\n",
    "import matplotlib.pyplot as plt\n",
    "from sklearn.tree import DecisionTreeClassifier as DTC\n",
    "from sklearn.model_selection import cross_validate, cross_val_score\n",
    "from sklearn.svm import LinearSVC\n",
    "from sklearn.linear_model import LogisticRegression\n",
    "from sklearn.pipeline import Pipeline\n",
    "from sklearn.feature_selection import RFECV, SelectKBest, f_classif, mutual_info_classif\n",
    "import pickle"
   ]
  },
  {
   "cell_type": "code",
   "execution_count": 324,
   "id": "958d04a3",
   "metadata": {},
   "outputs": [],
   "source": [
    "def eta_squared(X, y):\n",
    "    if isinstance(X, type(np.array([]))):\n",
    "        X = pd.DataFrame(X)\n",
    "    if isinstance(y, type(np.array([]))):\n",
    "        y = pd.DataFrame(y)    \n",
    "    df = pd.concat((X, y), axis = 1, ignore_index = True)\n",
    "    varibles = df.columns[:-1]\n",
    "    target = df.columns[-1]\n",
    "    variances = df[varibles].var(ddof = 0)\n",
    "    means = df[varibles].mean()\n",
    "    g = df.groupby(target)\n",
    "    g_sizes = g.size()\n",
    "    g_means = g.mean()\n",
    "    var_g_means = (((g_means - means)**2).mul(g_sizes, axis=0)).sum() / df.shape[0]\n",
    "    eta = var_g_means / variances\n",
    "    return eta\n",
    "\n",
    "def F_test(X, y):\n",
    "    if isinstance(X, type(np.array([]))):\n",
    "        X = pd.DataFrame(X)\n",
    "    if isinstance(y, type(np.array([]))):\n",
    "        y = pd.DataFrame(y)   \n",
    "    n_classes = np.unique(y_train).size\n",
    "    df = pd.concat((X, y), axis = 1, ignore_index = True)\n",
    "    varibles = df.columns[:-1]\n",
    "    target = df.columns[-1]\n",
    "    means = df[varibles].mean()\n",
    "    g = df.groupby(target)\n",
    "    g_sizes = g.size()\n",
    "    g_means = g.mean()\n",
    "    g_variances = g.var(ddof = 0)\n",
    "    expl_vars = (((g_means - means) ** 2).mul(g_sizes, axis = 0)).sum() / (n_classes - 1)\n",
    "    unexpl_vars = ((g_variances.mul(g_sizes, axis = 0)) / (df.shape[0] - n_classes)).sum()\n",
    "    return expl_vars / unexpl_vars\n",
    "\n",
    "def variance(X, y):\n",
    "    '''\n",
    "    The function computes the variance of each feature of X. \n",
    "    y has no purpose in this function. It was included because we needed \n",
    "    a 2nd argument to pass the function as an argument of SelectKBest.\n",
    "    '''\n",
    "    if isinstance(X, type(np.array([]))):\n",
    "        X = pd.DataFrame(X) \n",
    "    return X.var()"
   ]
  },
  {
   "cell_type": "code",
   "execution_count": 369,
   "id": "6047673c",
   "metadata": {},
   "outputs": [],
   "source": [
    "with open(\"features.txt\") as f:\n",
    "    lines = f.read().splitlines() \n",
    "\n",
    "features = {}\n",
    "for line in lines:\n",
    "    idx, name = line.split()\n",
    "    features[int(idx)-1] = name"
   ]
  },
  {
   "cell_type": "code",
   "execution_count": 41,
   "id": "a0e07a75",
   "metadata": {},
   "outputs": [],
   "source": [
    "X_train = pd.read_csv(r'.\\old datasets\\X_train_wo_outliers_num.csv', header = 0, index_col = 0)\n",
    "y_train = pd.read_csv('y_train_wo_outliers_num.csv', header = None)[0]"
   ]
  },
  {
   "cell_type": "code",
   "execution_count": 42,
   "id": "6ba14cca",
   "metadata": {},
   "outputs": [],
   "source": [
    "X_train.index = list(range(X_train.shape[0]))"
   ]
  },
  {
   "cell_type": "code",
   "execution_count": 119,
   "id": "4ce6bd47",
   "metadata": {},
   "outputs": [],
   "source": [
    "X_test = pd.read_csv(r'.\\old datasets\\X_test_no_red.csv', header = 0)"
   ]
  },
  {
   "cell_type": "code",
   "execution_count": 44,
   "id": "7590dfdb",
   "metadata": {},
   "outputs": [],
   "source": [
    "fe_imp = DTC().fit(X_train, y_train).feature_importances_\n",
    "best_features = X_train.columns[fe_imp > 0] "
   ]
  },
  {
   "cell_type": "code",
   "execution_count": 45,
   "id": "2b1bb486",
   "metadata": {},
   "outputs": [
    {
     "data": {
      "text/plain": [
       "130"
      ]
     },
     "execution_count": 45,
     "metadata": {},
     "output_type": "execute_result"
    }
   ],
   "source": [
    "best_features.size"
   ]
  },
  {
   "cell_type": "code",
   "execution_count": 301,
   "id": "a4a0ade9",
   "metadata": {},
   "outputs": [],
   "source": [
    "class RFE_CV:\n",
    "    def __init__(self, clf, embedded_func: '{importances, coefficients}', \n",
    "                 scoring = 'accuracy', cv = 5, n_jobs = -1):\n",
    "        self.scores = []\n",
    "        self.std_scores = []\n",
    "        self.estimator = clf\n",
    "        self._embedded_func = embedded_func\n",
    "        self.scoring = scoring\n",
    "        self.cv = cv\n",
    "        self.n_jobs = n_jobs\n",
    "        self.n_features = None        \n",
    "        self.best_score = None\n",
    "        self.selected_features = None\n",
    "        # we can use the keys of a dict as an ordered set (python 3.6+)\n",
    "        self.eliminated_features = {}\n",
    "        \n",
    "    def _importances(self, df, cross_val):\n",
    "        mean_feature_imp = np.zeros_like(df.columns)\n",
    "        for estimator in cross_val['estimator']:\n",
    "            mean_feature_imp = mean_feature_imp + estimator.feature_importances_\n",
    "        mean_feature_imp = mean_feature_imp / self.cv\n",
    "        return mean_feature_imp\n",
    "    \n",
    "    def _coefficients(self, df, cross_val):\n",
    "        mean_coeff = np.zeros_like(df.columns) \n",
    "        for estimator in cross_val['estimator']:\n",
    "            coeff = np.abs(estimator.coef_).mean(axis = 0).reshape(-1)\n",
    "            mean_coeff = mean_coeff + coeff\n",
    "        mean_coeff = mean_coeff / self.cv\n",
    "        return mean_coeff\n",
    "    \n",
    "    def best_n_features(self, n):\n",
    "        n_to_remove = self.columns.size - n\n",
    "        to_remove = set(list(self.eliminated_features)[:n_to_remove])\n",
    "        n_features = np.array([col for col in self.columns if col not in to_remove])        \n",
    "        score = self.scores[n_to_remove]\n",
    "        return {'n_features': n_features, 'score': score}\n",
    "        \n",
    "    def fit(self, X, y):\n",
    "        if self._embedded_func == 'importances':\n",
    "            embedded_func = self._importances\n",
    "        elif self._embedded_func == 'coefficients':\n",
    "            embedded_func = self._coefficients\n",
    "        self.columns = X.columns\n",
    "        for i in range(X.columns.size):\n",
    "            cols = [col for col in self.columns if col not in self.eliminated_features]\n",
    "            df = X[cols]\n",
    "            cross_val = cross_validate(self.estimator, df, y, scoring = self.scoring, \n",
    "                                       cv = self.cv, return_estimator = True, \n",
    "                                       n_jobs = self.n_jobs)\n",
    "            score_arr = cross_val['test_score']\n",
    "            self.scores.append(score_arr.mean())\n",
    "            self.std_scores.append(score_arr.std())\n",
    "            mean_embedded_func = embedded_func(df, cross_val)\n",
    "            min_pos = np.argmin(mean_embedded_func)\n",
    "            col_name = df.columns[min_pos]\n",
    "            self.eliminated_features[col_name] = i # just to put a value  \n",
    "        pos_max = np.argmax(self.scores)\n",
    "        self.best_score = self.scores[pos_max]\n",
    "        self.n_features = X.columns.size - pos_max\n",
    "        to_remove = set(list(self.eliminated_features)[:pos_max])\n",
    "        self.selected_features = np.array([col for col in self.columns if col not in to_remove])"
   ]
  },
  {
   "cell_type": "code",
   "execution_count": 216,
   "id": "46c6c252",
   "metadata": {},
   "outputs": [],
   "source": [
    "model = RFE_CV(DTC(random_state = 1567))\n",
    "model.fit(X_train[best_features], y_train)"
   ]
  },
  {
   "cell_type": "code",
   "execution_count": 217,
   "id": "0990ec87",
   "metadata": {},
   "outputs": [
    {
     "data": {
      "text/plain": [
       "0.8891960086406974"
      ]
     },
     "execution_count": 217,
     "metadata": {},
     "output_type": "execute_result"
    }
   ],
   "source": [
    "model.best_score"
   ]
  },
  {
   "cell_type": "code",
   "execution_count": 221,
   "id": "9b5f3782",
   "metadata": {},
   "outputs": [
    {
     "data": {
      "text/plain": [
       "23"
      ]
     },
     "execution_count": 221,
     "metadata": {},
     "output_type": "execute_result"
    }
   ],
   "source": [
    "model.n_features"
   ]
  },
  {
   "cell_type": "code",
   "execution_count": 218,
   "id": "41101e65",
   "metadata": {},
   "outputs": [],
   "source": [
    "selected = model.selected_features.copy().astype(str)"
   ]
  },
  {
   "cell_type": "code",
   "execution_count": 219,
   "id": "ba6d7d98",
   "metadata": {},
   "outputs": [
    {
     "data": {
      "text/plain": [
       "array(['37', '40', '50', '51', '52', '53', '54', '57', '67', '71', '74',\n",
       "       '76', '129', '132', '159', '209', '302', '393', '448', '450',\n",
       "       '503', '508', '559'], dtype='<U3')"
      ]
     },
     "execution_count": 219,
     "metadata": {},
     "output_type": "execute_result"
    }
   ],
   "source": [
    "selected"
   ]
  },
  {
   "cell_type": "code",
   "execution_count": 226,
   "id": "41ed730b",
   "metadata": {},
   "outputs": [
    {
     "data": {
      "image/png": "[encoded data removed]",
      "text/plain": [
       "<Figure size 432x288 with 1 Axes>"
      ]
     },
     "metadata": {
      "needs_background": "light"
     },
     "output_type": "display_data"
    }
   ],
   "source": [
    "scores = np.array(model.scores[::-1])\n",
    "std_dev = np.array(model.std_scores[::-1])\n",
    "plt.plot(range(scores.size), scores)\n",
    "plt.fill_between(range(1,scores.size+1), scores - std_dev, scores + std_dev, alpha = 0.2)\n",
    "plt.xlabel('Features', fontsize = 14)\n",
    "plt.ylabel('Accuracy', fontsize = 14)\n",
    "#plt.savefig('rfecv_dtc.pdf', bbox_inches = 'tight')\n",
    "plt.show()"
   ]
  },
  {
   "cell_type": "code",
   "execution_count": 361,
   "id": "844fc0bb",
   "metadata": {},
   "outputs": [],
   "source": [
    "# pickle.dump(selected, open('best_features', 'wb'))"
   ]
  },
  {
   "cell_type": "code",
   "execution_count": 367,
   "id": "69cfbcae",
   "metadata": {},
   "outputs": [],
   "source": [
    "X_train[selected].to_csv('best_X_train.csv', index = False)"
   ]
  },
  {
   "cell_type": "code",
   "execution_count": 368,
   "id": "b4bc5f65",
   "metadata": {},
   "outputs": [],
   "source": [
    "X_test[selected].to_csv('best_X_test.csv', index = False)"
   ]
  },
  {
   "cell_type": "code",
   "execution_count": 372,
   "id": "4ebe20eb",
   "metadata": {},
   "outputs": [],
   "source": [
    "best_X_train_con_nomi = X_train[selected]\n",
    "best_X_train_con_nomi.columns = [features[int(col)] for col in selected]\n",
    "best_X_train_con_nomi.to_csv('best_X_train_con_nomi.csv', index = False)"
   ]
  },
  {
   "cell_type": "code",
   "execution_count": 374,
   "id": "f47e0c80",
   "metadata": {},
   "outputs": [],
   "source": [
    "best_X_test_con_nomi = X_test[selected]\n",
    "best_X_test_con_nomi.columns = [features[int(col)] for col in selected]\n",
    "best_X_test_con_nomi.to_csv('best_X_test_con_nomi.csv', index = False)"
   ]
  },
  {
   "cell_type": "code",
   "execution_count": null,
   "id": "77b57185",
   "metadata": {},
   "outputs": [],
   "source": [
    "X_train.to_csv()"
   ]
  },
  {
   "cell_type": "code",
   "execution_count": 178,
   "id": "f5f322d5",
   "metadata": {},
   "outputs": [],
   "source": [
    "# Logistic Regression"
   ]
  },
  {
   "cell_type": "code",
   "execution_count": 302,
   "id": "d03efc18",
   "metadata": {},
   "outputs": [],
   "source": [
    "rfecv_logit = RFE_CV(LogisticRegression(random_state = 5, max_iter = 1000),\n",
    "                    embedded_func = 'coefficients')"
   ]
  },
  {
   "cell_type": "code",
   "execution_count": 303,
   "id": "54f79ba1",
   "metadata": {},
   "outputs": [],
   "source": [
    "rfecv_logit.fit(X_train[best_features], y_train)"
   ]
  },
  {
   "cell_type": "code",
   "execution_count": 304,
   "id": "e6ccc941",
   "metadata": {},
   "outputs": [
    {
     "data": {
      "text/plain": [
       "64"
      ]
     },
     "execution_count": 304,
     "metadata": {},
     "output_type": "execute_result"
    }
   ],
   "source": [
    "rfecv_logit.n_features"
   ]
  },
  {
   "cell_type": "code",
   "execution_count": 305,
   "id": "269bcdc7",
   "metadata": {},
   "outputs": [
    {
     "data": {
      "text/plain": [
       "0.9309907968065344"
      ]
     },
     "execution_count": 305,
     "metadata": {},
     "output_type": "execute_result"
    }
   ],
   "source": [
    "rfecv_logit.best_score"
   ]
  },
  {
   "cell_type": "code",
   "execution_count": 307,
   "id": "9d855f54",
   "metadata": {},
   "outputs": [
    {
     "data": {
      "text/plain": [
       "array(['4', '9', '37', '40', '49', '50', '52', '53', '54', '57', '67',\n",
       "       '71', '74', '89', '102', '149', '159', '166', '185', '234', '271',\n",
       "       '287', '302', '368', '429', '459', '503', '508', '558', '559'],\n",
       "      dtype='<U3')"
      ]
     },
     "execution_count": 307,
     "metadata": {},
     "output_type": "execute_result"
    }
   ],
   "source": [
    "logit_best_30 = rfecv_logit.best_n_features(30)\n",
    "logit_best_30['n_features']"
   ]
  },
  {
   "cell_type": "code",
   "execution_count": 308,
   "id": "923e429f",
   "metadata": {},
   "outputs": [
    {
     "data": {
      "text/plain": [
       "0.9242537944856469"
      ]
     },
     "execution_count": 308,
     "metadata": {},
     "output_type": "execute_result"
    }
   ],
   "source": [
    "logit_best_30['score']"
   ]
  },
  {
   "cell_type": "code",
   "execution_count": 359,
   "id": "fcfc73f8",
   "metadata": {},
   "outputs": [
    {
     "data": {
      "text/plain": [
       "0.9063916138881751"
      ]
     },
     "execution_count": 359,
     "metadata": {},
     "output_type": "execute_result"
    }
   ],
   "source": [
    "cross_val_score(LogisticRegression(max_iter = 1000), X_train[selected],y_train, \n",
    "                cv= 10, scoring = 'accuracy', n_jobs = -1).mean()"
   ]
  },
  {
   "cell_type": "code",
   "execution_count": 286,
   "id": "c7df795b",
   "metadata": {},
   "outputs": [
    {
     "data": {
      "image/png": "[encoded data removed]",
      "text/plain": [
       "<Figure size 432x288 with 1 Axes>"
      ]
     },
     "metadata": {
      "needs_background": "light"
     },
     "output_type": "display_data"
    }
   ],
   "source": [
    "scores = np.array(rfecv_logit.scores[::-1])\n",
    "std_dev = np.array(rfecv_logit.std_scores[::-1])\n",
    "plt.plot(range(scores.size), scores)\n",
    "plt.fill_between(range(1,scores.size+1), scores - std_dev, scores + std_dev, alpha = 0.2)\n",
    "plt.xlabel('Features', fontsize = 14)\n",
    "plt.ylabel('Accuracy', fontsize = 14)\n",
    "#plt.savefig('rfecv_dtc.pdf', bbox_inches = 'tight')\n",
    "plt.show()"
   ]
  },
  {
   "cell_type": "code",
   "execution_count": 48,
   "id": "4b69ca65",
   "metadata": {},
   "outputs": [],
   "source": [
    "# LinearSVC"
   ]
  },
  {
   "cell_type": "code",
   "execution_count": 310,
   "id": "b55be2d2",
   "metadata": {},
   "outputs": [],
   "source": [
    "rfecv_svc = RFE_CV(LinearSVC(random_state = 5),\n",
    "                    embedded_func = 'coefficients')"
   ]
  },
  {
   "cell_type": "code",
   "execution_count": 311,
   "id": "bed7f543",
   "metadata": {},
   "outputs": [],
   "source": [
    "rfecv_svc.fit(X_train[best_features], y_train)"
   ]
  },
  {
   "cell_type": "code",
   "execution_count": 312,
   "id": "21cc9f74",
   "metadata": {},
   "outputs": [
    {
     "data": {
      "text/plain": [
       "83"
      ]
     },
     "execution_count": 312,
     "metadata": {},
     "output_type": "execute_result"
    }
   ],
   "source": [
    "rfecv_svc.n_features"
   ]
  },
  {
   "cell_type": "code",
   "execution_count": 313,
   "id": "be0bdf19",
   "metadata": {},
   "outputs": [
    {
     "data": {
      "text/plain": [
       "0.9271410541839789"
      ]
     },
     "execution_count": 313,
     "metadata": {},
     "output_type": "execute_result"
    }
   ],
   "source": [
    "rfecv_svc.best_score"
   ]
  },
  {
   "cell_type": "code",
   "execution_count": 317,
   "id": "f2ccd70b",
   "metadata": {},
   "outputs": [
    {
     "data": {
      "text/plain": [
       "array(['40', '49', '50', '52', '53', '57', '59', '89', '129', '136',\n",
       "       '166', '168', '176', '234', '239', '271', '302', '332', '347',\n",
       "       '382', '418', '429', '439', '488', '490', '491', '503', '508',\n",
       "       '558', '559'], dtype='<U3')"
      ]
     },
     "execution_count": 317,
     "metadata": {},
     "output_type": "execute_result"
    }
   ],
   "source": [
    "rfecv_svc_30 = rfecv_svc.best_n_features(30)\n",
    "rfecv_svc_30['n_features']"
   ]
  },
  {
   "cell_type": "code",
   "execution_count": 318,
   "id": "90ff5c72",
   "metadata": {},
   "outputs": [
    {
     "data": {
      "text/plain": [
       "0.9107810188270772"
      ]
     },
     "execution_count": 318,
     "metadata": {},
     "output_type": "execute_result"
    }
   ],
   "source": [
    "rfecv_svc_30['score']"
   ]
  },
  {
   "cell_type": "code",
   "execution_count": 316,
   "id": "495b012a",
   "metadata": {},
   "outputs": [
    {
     "data": {
      "image/png": "[encoded data removed]",
      "text/plain": [
       "<Figure size 432x288 with 1 Axes>"
      ]
     },
     "metadata": {
      "needs_background": "light"
     },
     "output_type": "display_data"
    }
   ],
   "source": [
    "scores = np.array(rfecv_svc.scores[::-1])\n",
    "std_dev = np.array(rfecv_svc.std_scores[::-1])\n",
    "plt.plot(range(scores.size), scores)\n",
    "plt.fill_between(range(1,scores.size+1), scores - std_dev, scores + std_dev, alpha = 0.2)\n",
    "plt.xlabel('Features', fontsize = 14)\n",
    "plt.ylabel('Accuracy', fontsize = 14)\n",
    "#plt.savefig('rfecv_dtc.pdf', bbox_inches = 'tight')\n",
    "plt.show()"
   ]
  },
  {
   "cell_type": "markdown",
   "id": "c697b72e",
   "metadata": {},
   "source": [
    "---"
   ]
  },
  {
   "cell_type": "markdown",
   "id": "619776f3",
   "metadata": {},
   "source": [
    "La parte sotto è uguale a quella presente nel notebook 'Dimensionality Reduction'. È stata inserita per fare il wrapper approach."
   ]
  },
  {
   "cell_type": "markdown",
   "id": "6d54317b",
   "metadata": {},
   "source": [
    "#### Variance Threshold"
   ]
  },
  {
   "cell_type": "markdown",
   "id": "5c3a4ec4",
   "metadata": {},
   "source": [
    "This method is unsupervised because it does not take into account the target variable. Moreover, it is univariate because it considers just one variable at a time."
   ]
  },
  {
   "cell_type": "code",
   "execution_count": 321,
   "id": "ec7742ab",
   "metadata": {},
   "outputs": [
    {
     "data": {
      "image/png": "[encoded data removed]",
      "text/plain": [
       "<Figure size 432x288 with 1 Axes>"
      ]
     },
     "metadata": {
      "needs_background": "light"
     },
     "output_type": "display_data"
    }
   ],
   "source": [
    "# There are a lot of attributes with very low variance\n",
    "\n",
    "attr_var = X_train.var()\n",
    "attr_var.plot.hist(bins = 30, edgecolor = 'w')\n",
    "plt.xlabel('$\\sigma^2$')\n",
    "plt.show()"
   ]
  },
  {
   "cell_type": "code",
   "execution_count": 322,
   "id": "f87dfca0",
   "metadata": {
    "scrolled": true
   },
   "outputs": [
    {
     "ename": "NameError",
     "evalue": "name 'features' is not defined",
     "output_type": "error",
     "traceback": [
      "\u001b[1;31m---------------------------------------------------------------------------\u001b[0m",
      "\u001b[1;31mNameError\u001b[0m                                 Traceback (most recent call last)",
      "Input \u001b[1;32mIn [322]\u001b[0m, in \u001b[0;36m<cell line: 4>\u001b[1;34m()\u001b[0m\n\u001b[0;32m      3\u001b[0m low_var_attr \u001b[38;5;241m=\u001b[39m attr_var[attr_var \u001b[38;5;241m<\u001b[39m \u001b[38;5;241m0.1\u001b[39m]\u001b[38;5;241m.\u001b[39mindex\n\u001b[0;32m      4\u001b[0m \u001b[38;5;28;01mfor\u001b[39;00m col \u001b[38;5;129;01min\u001b[39;00m low_var_attr:\n\u001b[1;32m----> 5\u001b[0m     \u001b[38;5;28mprint\u001b[39m(\u001b[43mfeatures\u001b[49m[col])\n",
      "\u001b[1;31mNameError\u001b[0m: name 'features' is not defined"
     ]
    }
   ],
   "source": [
    "# attributes with a var < -0.1\n",
    "\n",
    "low_var_attr = attr_var[attr_var < 0.1].index\n",
    "for col in low_var_attr:\n",
    "    print(features[col])"
   ]
  },
  {
   "cell_type": "code",
   "execution_count": 323,
   "id": "734e8612",
   "metadata": {},
   "outputs": [
    {
     "data": {
      "text/plain": [
       "366"
      ]
     },
     "execution_count": 323,
     "metadata": {},
     "output_type": "execute_result"
    }
   ],
   "source": [
    "len(low_var_attr)"
   ]
  },
  {
   "cell_type": "code",
   "execution_count": 36,
   "id": "5910b331",
   "metadata": {},
   "outputs": [],
   "source": [
    "X_train_var_red = X_train[[col for col in features if col not in low_var_attr]]"
   ]
  },
  {
   "cell_type": "code",
   "execution_count": 37,
   "id": "abcb4ea0",
   "metadata": {},
   "outputs": [
    {
     "data": {
      "text/plain": [
       "(7274, 174)"
      ]
     },
     "execution_count": 37,
     "metadata": {},
     "output_type": "execute_result"
    }
   ],
   "source": [
    "X_train_var_red.shape"
   ]
  },
  {
   "cell_type": "markdown",
   "id": "0a657fe0",
   "metadata": {},
   "source": [
    "#### Eta-squared"
   ]
  },
  {
   "cell_type": "markdown",
   "id": "cd8c27fb",
   "metadata": {},
   "source": [
    "The $\\eta^2_{X|Y} = \\frac{\\sigma^2_{\\mathrm{Medie}(X|Y)}}{\\sigma^2_X}$ statistics can be used to measure the dependence among quantitative and categorical variables. It varies in $[0,1]$ and can be interpreted as the $R^2$ for quantitative variables or as the Cramér's V ($\\chi^2$ normalized) for categorical variables."
   ]
  },
  {
   "cell_type": "code",
   "execution_count": 325,
   "id": "56a6b83d",
   "metadata": {
    "scrolled": true
   },
   "outputs": [
    {
     "data": {
      "image/png": "[encoded data removed]",
      "text/plain": [
       "<Figure size 432x288 with 1 Axes>"
      ]
     },
     "metadata": {
      "needs_background": "light"
     },
     "output_type": "display_data"
    }
   ],
   "source": [
    "eta = eta_squared(X_train,y_train)\n",
    "eta.plot.hist(bins = 30, edgecolor = 'w')\n",
    "plt.xlabel('$\\eta^2_{X|Y}$')\n",
    "plt.show()"
   ]
  },
  {
   "cell_type": "code",
   "execution_count": 39,
   "id": "1fcc4627",
   "metadata": {},
   "outputs": [
    {
     "name": "stdout",
     "output_type": "stream",
     "text": [
      "tBodyAcc-mean()-X\n",
      "tBodyAcc-mean()-Y\n",
      "tBodyAcc-mean()-Z\n",
      "tBodyAcc-arCoeff()-X,2\n",
      "tBodyAcc-arCoeff()-X,3\n",
      "tBodyAcc-arCoeff()-X,4\n",
      "tBodyAcc-arCoeff()-Y,1\n",
      "tBodyAcc-arCoeff()-Y,2\n",
      "tBodyAcc-arCoeff()-Y,3\n",
      "tBodyAcc-arCoeff()-Y,4\n",
      "tBodyAcc-arCoeff()-Z,1\n",
      "tBodyAcc-arCoeff()-Z,2\n",
      "tBodyAcc-arCoeff()-Z,3\n",
      "tBodyAcc-arCoeff()-Z,4\n",
      "tBodyAcc-correlation()-X,Y\n",
      "tBodyAcc-correlation()-X,Z\n",
      "tBodyAcc-correlation()-Y,Z\n",
      "tGravityAcc-std()-X\n",
      "tGravityAcc-std()-Y\n",
      "tGravityAcc-std()-Z\n",
      "tGravityAcc-mad()-X\n",
      "tGravityAcc-mad()-Y\n",
      "tGravityAcc-mad()-Z\n",
      "tGravityAcc-sma()\n",
      "tGravityAcc-iqr()-X\n",
      "tGravityAcc-iqr()-Y\n",
      "tGravityAcc-iqr()-Z\n",
      "tGravityAcc-entropy()-X\n",
      "tGravityAcc-entropy()-Y\n",
      "tGravityAcc-entropy()-Z\n",
      "tGravityAcc-arCoeff()-X,1\n",
      "tGravityAcc-arCoeff()-X,2\n",
      "tGravityAcc-arCoeff()-X,3\n",
      "tGravityAcc-arCoeff()-X,4\n",
      "tGravityAcc-arCoeff()-Y,1\n",
      "tGravityAcc-arCoeff()-Y,2\n",
      "tGravityAcc-arCoeff()-Y,3\n",
      "tGravityAcc-arCoeff()-Y,4\n",
      "tGravityAcc-arCoeff()-Z,1\n",
      "tGravityAcc-arCoeff()-Z,2\n",
      "tGravityAcc-arCoeff()-Z,3\n",
      "tGravityAcc-arCoeff()-Z,4\n",
      "tGravityAcc-correlation()-X,Y\n",
      "tGravityAcc-correlation()-X,Z\n",
      "tGravityAcc-correlation()-Y,Z\n",
      "tBodyAccJerk-mean()-X\n",
      "tBodyAccJerk-mean()-Y\n",
      "tBodyAccJerk-mean()-Z\n",
      "tBodyAccJerk-arCoeff()-X,2\n",
      "tBodyAccJerk-arCoeff()-X,3\n",
      "tBodyAccJerk-arCoeff()-X,4\n",
      "tBodyAccJerk-arCoeff()-Y,1\n",
      "tBodyAccJerk-arCoeff()-Y,2\n",
      "tBodyAccJerk-arCoeff()-Y,3\n",
      "tBodyAccJerk-arCoeff()-Y,4\n",
      "tBodyAccJerk-arCoeff()-Z,1\n",
      "tBodyAccJerk-arCoeff()-Z,2\n",
      "tBodyAccJerk-arCoeff()-Z,3\n",
      "tBodyAccJerk-arCoeff()-Z,4\n",
      "tBodyAccJerk-correlation()-X,Y\n",
      "tBodyAccJerk-correlation()-X,Z\n",
      "tBodyAccJerk-correlation()-Y,Z\n",
      "tBodyGyro-mean()-X\n",
      "tBodyGyro-mean()-Y\n",
      "tBodyGyro-mean()-Z\n",
      "tBodyGyro-energy()-Y\n",
      "tBodyGyro-energy()-Z\n",
      "tBodyGyro-entropy()-X\n",
      "tBodyGyro-entropy()-Y\n",
      "tBodyGyro-entropy()-Z\n",
      "tBodyGyro-arCoeff()-X,1\n",
      "tBodyGyro-arCoeff()-X,2\n",
      "tBodyGyro-arCoeff()-X,3\n",
      "tBodyGyro-arCoeff()-X,4\n",
      "tBodyGyro-arCoeff()-Y,1\n",
      "tBodyGyro-arCoeff()-Y,2\n",
      "tBodyGyro-arCoeff()-Y,3\n",
      "tBodyGyro-arCoeff()-Y,4\n",
      "tBodyGyro-arCoeff()-Z,1\n",
      "tBodyGyro-arCoeff()-Z,3\n",
      "tBodyGyro-arCoeff()-Z,4\n",
      "tBodyGyro-correlation()-X,Y\n",
      "tBodyGyro-correlation()-X,Z\n",
      "tBodyGyro-correlation()-Y,Z\n",
      "tBodyGyroJerk-mean()-X\n",
      "tBodyGyroJerk-mean()-Y\n",
      "tBodyGyroJerk-mean()-Z\n",
      "tBodyGyroJerk-energy()-Y\n",
      "tBodyGyroJerk-arCoeff()-X,1\n",
      "tBodyGyroJerk-arCoeff()-X,2\n",
      "tBodyGyroJerk-arCoeff()-X,3\n",
      "tBodyGyroJerk-arCoeff()-X,4\n",
      "tBodyGyroJerk-arCoeff()-Y,1\n",
      "tBodyGyroJerk-arCoeff()-Y,2\n",
      "tBodyGyroJerk-arCoeff()-Y,3\n",
      "tBodyGyroJerk-arCoeff()-Y,4\n",
      "tBodyGyroJerk-arCoeff()-Z,2\n",
      "tBodyGyroJerk-arCoeff()-Z,3\n",
      "tBodyGyroJerk-arCoeff()-Z,4\n",
      "tBodyGyroJerk-correlation()-X,Y\n",
      "tBodyGyroJerk-correlation()-X,Z\n",
      "tBodyGyroJerk-correlation()-Y,Z\n",
      "tBodyAccMag-entropy()\n",
      "tBodyAccMag-arCoeff()1\n",
      "tBodyAccMag-arCoeff()2\n",
      "tBodyAccMag-arCoeff()3\n"
     ]
    },
    {
     "ename": "KeyError",
     "evalue": "220",
     "output_type": "error",
     "traceback": [
      "\u001b[1;31m---------------------------------------------------------------------------\u001b[0m",
      "\u001b[1;31mKeyError\u001b[0m                                  Traceback (most recent call last)",
      "Input \u001b[1;32mIn [39]\u001b[0m, in \u001b[0;36m<cell line: 2>\u001b[1;34m()\u001b[0m\n\u001b[0;32m      1\u001b[0m low_eta_attr \u001b[38;5;241m=\u001b[39m eta[eta \u001b[38;5;241m<\u001b[39m \u001b[38;5;241m0.5\u001b[39m]\u001b[38;5;241m.\u001b[39mindex\n\u001b[0;32m      2\u001b[0m \u001b[38;5;28;01mfor\u001b[39;00m col \u001b[38;5;129;01min\u001b[39;00m low_eta_attr:\n\u001b[1;32m----> 3\u001b[0m     \u001b[38;5;28mprint\u001b[39m(\u001b[43mfeatures\u001b[49m\u001b[43m[\u001b[49m\u001b[43mcol\u001b[49m\u001b[43m]\u001b[49m)\n",
      "\u001b[1;31mKeyError\u001b[0m: 220"
     ]
    }
   ],
   "source": [
    "low_eta_attr = eta[eta < 0.5].index\n",
    "for col in low_eta_attr:\n",
    "    print(features[col])"
   ]
  },
  {
   "cell_type": "code",
   "execution_count": 40,
   "id": "76a1f9de",
   "metadata": {},
   "outputs": [
    {
     "data": {
      "text/plain": [
       "270"
      ]
     },
     "execution_count": 40,
     "metadata": {},
     "output_type": "execute_result"
    }
   ],
   "source": [
    "len(low_eta_attr)"
   ]
  },
  {
   "cell_type": "code",
   "execution_count": 41,
   "id": "9ddca27b",
   "metadata": {},
   "outputs": [],
   "source": [
    "X_train_eta_red = X_train[[col for col in features if col not in low_eta_attr]]"
   ]
  },
  {
   "cell_type": "code",
   "execution_count": 42,
   "id": "c603aabd",
   "metadata": {},
   "outputs": [
    {
     "data": {
      "text/plain": [
       "(7274, 279)"
      ]
     },
     "execution_count": 42,
     "metadata": {},
     "output_type": "execute_result"
    }
   ],
   "source": [
    "X_train_eta_red.shape"
   ]
  },
  {
   "cell_type": "markdown",
   "id": "7d49cb36",
   "metadata": {},
   "source": [
    "#### F-test"
   ]
  },
  {
   "cell_type": "code",
   "execution_count": 326,
   "id": "fec048ec",
   "metadata": {},
   "outputs": [
    {
     "data": {
      "image/png": "[encoded data removed]",
      "text/plain": [
       "<Figure size 432x288 with 1 Axes>"
      ]
     },
     "metadata": {
      "needs_background": "light"
     },
     "output_type": "display_data"
    }
   ],
   "source": [
    "attr_F = F_test(X_train,y_train)\n",
    "attr_F.plot.hist(bins = 30, edgecolor = 'w')\n",
    "plt.xlabel('F-value')\n",
    "plt.show()"
   ]
  },
  {
   "cell_type": "code",
   "execution_count": 44,
   "id": "73a90c4d",
   "metadata": {},
   "outputs": [
    {
     "data": {
      "text/plain": [
       "82         0.316246\n",
       "80         0.475695\n",
       "81         0.698710\n",
       "534        1.057578\n",
       "162        1.967953\n",
       "           ...     \n",
       "52     28173.296697\n",
       "49     28343.715773\n",
       "40     29450.369627\n",
       "350    29649.266509\n",
       "349    38558.975246\n",
       "Length: 540, dtype: float64"
      ]
     },
     "execution_count": 44,
     "metadata": {},
     "output_type": "execute_result"
    }
   ],
   "source": [
    "attr_F.sort_values()"
   ]
  },
  {
   "cell_type": "code",
   "execution_count": 45,
   "id": "2aff4cf7",
   "metadata": {},
   "outputs": [
    {
     "name": "stdout",
     "output_type": "stream",
     "text": [
      "tBodyAcc-mean()-X\n",
      "tBodyAcc-mean()-Y\n",
      "tBodyAcc-mean()-Z\n",
      "tBodyAcc-arCoeff()-X,2\n",
      "tBodyAcc-arCoeff()-X,3\n",
      "tBodyAcc-arCoeff()-X,4\n",
      "tBodyAcc-arCoeff()-Y,1\n",
      "tBodyAcc-arCoeff()-Y,2\n",
      "tBodyAcc-arCoeff()-Y,3\n",
      "tBodyAcc-arCoeff()-Y,4\n",
      "tBodyAcc-arCoeff()-Z,1\n",
      "tBodyAcc-arCoeff()-Z,2\n",
      "tBodyAcc-arCoeff()-Z,3\n",
      "tBodyAcc-arCoeff()-Z,4\n",
      "tBodyAcc-correlation()-X,Y\n",
      "tBodyAcc-correlation()-X,Z\n",
      "tBodyAcc-correlation()-Y,Z\n",
      "tGravityAcc-std()-X\n",
      "tGravityAcc-std()-Y\n",
      "tGravityAcc-std()-Z\n",
      "tGravityAcc-mad()-X\n",
      "tGravityAcc-mad()-Y\n",
      "tGravityAcc-mad()-Z\n",
      "tGravityAcc-sma()\n",
      "tGravityAcc-iqr()-X\n",
      "tGravityAcc-iqr()-Y\n",
      "tGravityAcc-iqr()-Z\n",
      "tGravityAcc-entropy()-X\n",
      "tGravityAcc-entropy()-Y\n",
      "tGravityAcc-entropy()-Z\n",
      "tGravityAcc-arCoeff()-X,1\n",
      "tGravityAcc-arCoeff()-X,2\n",
      "tGravityAcc-arCoeff()-X,3\n",
      "tGravityAcc-arCoeff()-X,4\n",
      "tGravityAcc-arCoeff()-Y,1\n",
      "tGravityAcc-arCoeff()-Y,2\n",
      "tGravityAcc-arCoeff()-Y,3\n",
      "tGravityAcc-arCoeff()-Y,4\n",
      "tGravityAcc-arCoeff()-Z,1\n",
      "tGravityAcc-arCoeff()-Z,2\n",
      "tGravityAcc-arCoeff()-Z,3\n",
      "tGravityAcc-arCoeff()-Z,4\n",
      "tGravityAcc-correlation()-X,Y\n",
      "tGravityAcc-correlation()-X,Z\n",
      "tGravityAcc-correlation()-Y,Z\n",
      "tBodyAccJerk-mean()-X\n",
      "tBodyAccJerk-mean()-Y\n",
      "tBodyAccJerk-mean()-Z\n",
      "tBodyAccJerk-arCoeff()-X,2\n",
      "tBodyAccJerk-arCoeff()-X,3\n",
      "tBodyAccJerk-arCoeff()-X,4\n",
      "tBodyAccJerk-arCoeff()-Y,2\n",
      "tBodyAccJerk-arCoeff()-Y,3\n",
      "tBodyAccJerk-arCoeff()-Y,4\n",
      "tBodyAccJerk-arCoeff()-Z,2\n",
      "tBodyAccJerk-arCoeff()-Z,3\n",
      "tBodyAccJerk-arCoeff()-Z,4\n",
      "tBodyAccJerk-correlation()-X,Y\n",
      "tBodyAccJerk-correlation()-X,Z\n",
      "tBodyAccJerk-correlation()-Y,Z\n",
      "tBodyGyro-mean()-X\n",
      "tBodyGyro-mean()-Y\n",
      "tBodyGyro-mean()-Z\n",
      "tBodyGyro-entropy()-X\n",
      "tBodyGyro-entropy()-Y\n",
      "tBodyGyro-arCoeff()-X,1\n",
      "tBodyGyro-arCoeff()-X,2\n",
      "tBodyGyro-arCoeff()-X,3\n",
      "tBodyGyro-arCoeff()-X,4\n",
      "tBodyGyro-arCoeff()-Y,1\n",
      "tBodyGyro-arCoeff()-Y,2\n",
      "tBodyGyro-arCoeff()-Y,3\n",
      "tBodyGyro-arCoeff()-Y,4\n",
      "tBodyGyro-arCoeff()-Z,3\n",
      "tBodyGyro-arCoeff()-Z,4\n",
      "tBodyGyro-correlation()-X,Y\n",
      "tBodyGyro-correlation()-X,Z\n",
      "tBodyGyro-correlation()-Y,Z\n",
      "tBodyGyroJerk-mean()-X\n",
      "tBodyGyroJerk-mean()-Y\n",
      "tBodyGyroJerk-mean()-Z\n",
      "tBodyGyroJerk-energy()-Y\n",
      "tBodyGyroJerk-arCoeff()-X,1\n",
      "tBodyGyroJerk-arCoeff()-X,2\n",
      "tBodyGyroJerk-arCoeff()-X,3\n",
      "tBodyGyroJerk-arCoeff()-X,4\n",
      "tBodyGyroJerk-arCoeff()-Y,1\n",
      "tBodyGyroJerk-arCoeff()-Y,2\n",
      "tBodyGyroJerk-arCoeff()-Y,3\n",
      "tBodyGyroJerk-arCoeff()-Y,4\n",
      "tBodyGyroJerk-arCoeff()-Z,2\n",
      "tBodyGyroJerk-arCoeff()-Z,3\n",
      "tBodyGyroJerk-arCoeff()-Z,4\n",
      "tBodyGyroJerk-correlation()-X,Y\n",
      "tBodyGyroJerk-correlation()-X,Z\n",
      "tBodyGyroJerk-correlation()-Y,Z\n",
      "tBodyAccMag-entropy()\n",
      "tBodyAccMag-arCoeff()1\n",
      "tBodyAccMag-arCoeff()2\n",
      "tBodyAccMag-arCoeff()3\n"
     ]
    },
    {
     "ename": "KeyError",
     "evalue": "220",
     "output_type": "error",
     "traceback": [
      "\u001b[1;31m---------------------------------------------------------------------------\u001b[0m",
      "\u001b[1;31mKeyError\u001b[0m                                  Traceback (most recent call last)",
      "Input \u001b[1;32mIn [45]\u001b[0m, in \u001b[0;36m<cell line: 2>\u001b[1;34m()\u001b[0m\n\u001b[0;32m      1\u001b[0m low_F_attr \u001b[38;5;241m=\u001b[39m attr_F[attr_F \u001b[38;5;241m<\u001b[39m \u001b[38;5;241m1000\u001b[39m]\u001b[38;5;241m.\u001b[39mindex\n\u001b[0;32m      2\u001b[0m \u001b[38;5;28;01mfor\u001b[39;00m col \u001b[38;5;129;01min\u001b[39;00m low_F_attr:\n\u001b[1;32m----> 3\u001b[0m     \u001b[38;5;28mprint\u001b[39m(\u001b[43mfeatures\u001b[49m\u001b[43m[\u001b[49m\u001b[43mcol\u001b[49m\u001b[43m]\u001b[49m)\n",
      "\u001b[1;31mKeyError\u001b[0m: 220"
     ]
    }
   ],
   "source": [
    "low_F_attr = attr_F[attr_F < 1000].index\n",
    "for col in low_F_attr:\n",
    "    print(features[col])"
   ]
  },
  {
   "cell_type": "code",
   "execution_count": 46,
   "id": "757bce37",
   "metadata": {},
   "outputs": [
    {
     "data": {
      "text/plain": [
       "221"
      ]
     },
     "execution_count": 46,
     "metadata": {},
     "output_type": "execute_result"
    }
   ],
   "source": [
    "len(low_F_attr)"
   ]
  },
  {
   "cell_type": "code",
   "execution_count": 47,
   "id": "838f31f3",
   "metadata": {},
   "outputs": [],
   "source": [
    "X_train_F_red = X_train[[col for col in features if col not in low_F_attr]]"
   ]
  },
  {
   "cell_type": "code",
   "execution_count": 48,
   "id": "7764ee20",
   "metadata": {},
   "outputs": [
    {
     "data": {
      "text/plain": [
       "(7274, 328)"
      ]
     },
     "execution_count": 48,
     "metadata": {},
     "output_type": "execute_result"
    }
   ],
   "source": [
    "X_train_F_red.shape"
   ]
  },
  {
   "cell_type": "markdown",
   "id": "44b1ca1a",
   "metadata": {},
   "source": [
    "Let's check if the custom function is correct"
   ]
  },
  {
   "cell_type": "code",
   "execution_count": 49,
   "id": "e0b0a0c6",
   "metadata": {},
   "outputs": [],
   "source": [
    "# best 20 features\n",
    "sklearn_best = SelectKBest(k=20).fit(X_train, y_train.values.flatten()).get_support(indices=True)\n",
    "custom_best = attr_F.sort_values(ascending = False)[:20].index"
   ]
  },
  {
   "cell_type": "code",
   "execution_count": 50,
   "id": "199a8bc4",
   "metadata": {},
   "outputs": [
    {
     "data": {
      "text/plain": [
       "True"
      ]
     },
     "execution_count": 50,
     "metadata": {},
     "output_type": "execute_result"
    }
   ],
   "source": [
    "set(sklearn_best) == set(custom_best)"
   ]
  },
  {
   "cell_type": "code",
   "execution_count": 51,
   "id": "d02f0251",
   "metadata": {},
   "outputs": [
    {
     "data": {
      "application/pdf": "[encoded data removed]",
      "image/png": "[encoded data removed]",
      "text/plain": [
       "<Figure size 432x288 with 1 Axes>"
      ]
     },
     "metadata": {
      "needs_background": "light"
     },
     "output_type": "display_data"
    }
   ],
   "source": [
    "plt.hist(f_classif(X_train, y_train.values.flatten())[0], #tuple: F-values, p_values\n",
    "         bins = 30, edgecolor = 'w')\n",
    "plt.show()"
   ]
  },
  {
   "cell_type": "markdown",
   "id": "90173acc",
   "metadata": {},
   "source": [
    "#### Mutual Information"
   ]
  },
  {
   "cell_type": "markdown",
   "id": "90af661a",
   "metadata": {},
   "source": [
    "It measures the dependency between two variables with the target one discrete (our target variable is discretized). It  measures the reduction in uncertainty for one variable given a known value of the other variable. It is equal to zero if and only if two random variables are independent, and higher values mean higher dependency.\n",
    "\n",
    "The methods based on F-test estimate the degree of linear dependency between two random variables. On the other hand, mutual information methods can capture any kind of statistical dependency, but being nonparametric, they require more samples for accurate estimation. [1][2]\n",
    "\n",
    "[1] https://scikit-learn.org/stable/modules/feature_selection.html#univariate-feature-selection\n",
    "\n",
    "[2] https://scikit-learn.org/stable/auto_examples/feature_selection/plot_f_test_vs_mi.html#comparison-of-f-test-and-mutual-information"
   ]
  },
  {
   "cell_type": "code",
   "execution_count": 327,
   "id": "346c5a0e",
   "metadata": {},
   "outputs": [],
   "source": [
    "mutual_info = mutual_info_classif(X_train, y_train, discrete_features = False, \n",
    "                                  random_state = 5)"
   ]
  },
  {
   "cell_type": "code",
   "execution_count": 328,
   "id": "87a6cfe4",
   "metadata": {},
   "outputs": [
    {
     "data": {
      "image/png": "[encoded data removed]",
      "text/plain": [
       "<Figure size 432x288 with 1 Axes>"
      ]
     },
     "metadata": {
      "needs_background": "light"
     },
     "output_type": "display_data"
    }
   ],
   "source": [
    "plt.hist(mutual_info, bins = 30, edgecolor = 'w')\n",
    "plt.xlabel('Mutual Information')\n",
    "plt.show()"
   ]
  },
  {
   "cell_type": "markdown",
   "id": "cd7f835f",
   "metadata": {},
   "source": [
    "---"
   ]
  },
  {
   "cell_type": "markdown",
   "id": "646c2b43",
   "metadata": {},
   "source": [
    "Let's now apply the filter strategy"
   ]
  },
  {
   "cell_type": "code",
   "execution_count": 54,
   "id": "e9a2b466",
   "metadata": {},
   "outputs": [],
   "source": [
    "param = {'fs__k': list(range(1, best_features.size + 1))}"
   ]
  },
  {
   "cell_type": "code",
   "execution_count": 55,
   "id": "a74e2d41",
   "metadata": {},
   "outputs": [],
   "source": [
    "# F_test \n",
    "# DTC"
   ]
  },
  {
   "cell_type": "code",
   "execution_count": 56,
   "id": "d80fd77b",
   "metadata": {},
   "outputs": [],
   "source": [
    "pipe_dtc = Pipeline([('fs', SelectKBest(score_func = f_classif)), \n",
    "                     ('dtc', DTC())])\n",
    "grid_search_dtc = GridSearchCV(pipe_dtc, param, scoring = 'accuracy', \n",
    "                           n_jobs = -1, cv = 5)"
   ]
  },
  {
   "cell_type": "code",
   "execution_count": 57,
   "id": "496db016",
   "metadata": {},
   "outputs": [
    {
     "data": {
      "text/plain": [
       "GridSearchCV(cv=5,\n",
       "             estimator=Pipeline(steps=[('fs', SelectKBest()),\n",
       "                                       ('dtc', DecisionTreeClassifier())]),\n",
       "             n_jobs=-1,\n",
       "             param_grid={'fs__k': [1, 2, 3, 4, 5, 6, 7, 8, 9, 10, 11, 12, 13,\n",
       "                                   14, 15, 16, 17, 18, 19, 20, 21, 22, 23, 24,\n",
       "                                   25, 26, 27, 28, 29, 30, ...]},\n",
       "             scoring='accuracy')"
      ]
     },
     "execution_count": 57,
     "metadata": {},
     "output_type": "execute_result"
    }
   ],
   "source": [
    "grid_search_dtc.fit(X_train[best_features], y_train)"
   ]
  },
  {
   "cell_type": "code",
   "execution_count": 58,
   "id": "4e42ef62",
   "metadata": {},
   "outputs": [
    {
     "data": {
      "text/plain": [
       "{'fs__k': 58}"
      ]
     },
     "execution_count": 58,
     "metadata": {},
     "output_type": "execute_result"
    }
   ],
   "source": [
    "# best number of features\n",
    "\n",
    "grid_search_dtc.best_params_"
   ]
  },
  {
   "cell_type": "markdown",
   "id": "44eeb087",
   "metadata": {},
   "source": [
    "The 61 features with the highest F-value produce the best results in terms of accuracy when used with the DTC.\n",
    "\n",
    "Since we are using stratified cross-validation the results might slightly change at each iteration."
   ]
  },
  {
   "cell_type": "code",
   "execution_count": 59,
   "id": "39d41711",
   "metadata": {},
   "outputs": [
    {
     "data": {
      "text/plain": [
       "0.8612915668117813"
      ]
     },
     "execution_count": 59,
     "metadata": {},
     "output_type": "execute_result"
    }
   ],
   "source": [
    "# best accuracy\n",
    "\n",
    "grid_search_dtc.best_score_"
   ]
  },
  {
   "cell_type": "code",
   "execution_count": 60,
   "id": "52a6bf8f",
   "metadata": {},
   "outputs": [
    {
     "data": {
      "application/pdf": "[encoded data removed]",
      "image/png": "[encoded data removed]",
      "text/plain": [
       "<Figure size 432x288 with 1 Axes>"
      ]
     },
     "metadata": {
      "needs_background": "light"
     },
     "output_type": "display_data"
    }
   ],
   "source": [
    "plot_features_cv(grid_search_dtc)"
   ]
  },
  {
   "cell_type": "code",
   "execution_count": 61,
   "id": "2e8e88a4",
   "metadata": {},
   "outputs": [],
   "source": [
    "# F_test \n",
    "# KNN"
   ]
  },
  {
   "cell_type": "code",
   "execution_count": 62,
   "id": "4c308703",
   "metadata": {},
   "outputs": [],
   "source": [
    "pipe_knn = Pipeline([('fs', SelectKBest(score_func = f_classif)),\n",
    "            ('knn', KNN())])\n",
    "grid_search_knn = GridSearchCV(pipe_knn, param, scoring = 'accuracy', \n",
    "                               n_jobs = -1, cv = 5)"
   ]
  },
  {
   "cell_type": "code",
   "execution_count": 63,
   "id": "84cc88a5",
   "metadata": {},
   "outputs": [
    {
     "data": {
      "text/plain": [
       "GridSearchCV(cv=5,\n",
       "             estimator=Pipeline(steps=[('fs', SelectKBest()),\n",
       "                                       ('knn', KNeighborsClassifier())]),\n",
       "             n_jobs=-1,\n",
       "             param_grid={'fs__k': [1, 2, 3, 4, 5, 6, 7, 8, 9, 10, 11, 12, 13,\n",
       "                                   14, 15, 16, 17, 18, 19, 20, 21, 22, 23, 24,\n",
       "                                   25, 26, 27, 28, 29, 30, ...]},\n",
       "             scoring='accuracy')"
      ]
     },
     "execution_count": 63,
     "metadata": {},
     "output_type": "execute_result"
    }
   ],
   "source": [
    "grid_search_knn.fit(X_train[best_features], y_train)"
   ]
  },
  {
   "cell_type": "code",
   "execution_count": 64,
   "id": "ea5d11fb",
   "metadata": {},
   "outputs": [
    {
     "data": {
      "text/plain": [
       "{'fs__k': 124}"
      ]
     },
     "execution_count": 64,
     "metadata": {},
     "output_type": "execute_result"
    }
   ],
   "source": [
    "# best number of features\n",
    "\n",
    "grid_search_knn.best_params_"
   ]
  },
  {
   "cell_type": "markdown",
   "id": "fcecfc2e",
   "metadata": {},
   "source": [
    "Surprisingly the KNN performs better with all the features features"
   ]
  },
  {
   "cell_type": "code",
   "execution_count": 65,
   "id": "482fd0b4",
   "metadata": {},
   "outputs": [
    {
     "data": {
      "text/plain": [
       "0.901157229493706"
      ]
     },
     "execution_count": 65,
     "metadata": {},
     "output_type": "execute_result"
    }
   ],
   "source": [
    "# best accuracy\n",
    "\n",
    "grid_search_knn.best_score_"
   ]
  },
  {
   "cell_type": "code",
   "execution_count": 66,
   "id": "b7a11560",
   "metadata": {},
   "outputs": [
    {
     "data": {
      "application/pdf": "[encoded data removed]",
      "image/png": "[encoded data removed]",
      "text/plain": [
       "<Figure size 432x288 with 1 Axes>"
      ]
     },
     "metadata": {
      "needs_background": "light"
     },
     "output_type": "display_data"
    }
   ],
   "source": [
    "plot_features_cv(grid_search_knn)"
   ]
  },
  {
   "cell_type": "markdown",
   "id": "b7c8d361",
   "metadata": {},
   "source": [
    "However, can be seen that after 45/50 features the funtion is steady. Therefore, we could select the best 45/50 features. "
   ]
  },
  {
   "cell_type": "markdown",
   "id": "584f29b5",
   "metadata": {},
   "source": [
    "---"
   ]
  },
  {
   "cell_type": "code",
   "execution_count": 67,
   "id": "9e91c29e",
   "metadata": {},
   "outputs": [],
   "source": [
    "# MI \n",
    "# DTC"
   ]
  },
  {
   "cell_type": "code",
   "execution_count": 68,
   "id": "c699357b",
   "metadata": {},
   "outputs": [],
   "source": [
    "pipe_dtc_mi = Pipeline([('fs', SelectKBest(score_func = mutual_info_classif)), \n",
    "                     ('dtc', DTC())])\n",
    "grid_search_dtc_mi = GridSearchCV(pipe_dtc_mi, param, scoring = 'accuracy', \n",
    "                           n_jobs = -1, cv = 5)"
   ]
  },
  {
   "cell_type": "code",
   "execution_count": 69,
   "id": "1c9d628d",
   "metadata": {},
   "outputs": [
    {
     "data": {
      "text/plain": [
       "GridSearchCV(cv=5,\n",
       "             estimator=Pipeline(steps=[('fs',\n",
       "                                        SelectKBest(score_func=<function mutual_info_classif at 0x00000205FE87D040>)),\n",
       "                                       ('dtc', DecisionTreeClassifier())]),\n",
       "             n_jobs=-1,\n",
       "             param_grid={'fs__k': [1, 2, 3, 4, 5, 6, 7, 8, 9, 10, 11, 12, 13,\n",
       "                                   14, 15, 16, 17, 18, 19, 20, 21, 22, 23, 24,\n",
       "                                   25, 26, 27, 28, 29, 30, ...]},\n",
       "             scoring='accuracy')"
      ]
     },
     "execution_count": 69,
     "metadata": {},
     "output_type": "execute_result"
    }
   ],
   "source": [
    "grid_search_dtc_mi.fit(X_train[best_features], y_train)"
   ]
  },
  {
   "cell_type": "code",
   "execution_count": 70,
   "id": "5dc36889",
   "metadata": {},
   "outputs": [
    {
     "data": {
      "text/plain": [
       "{'fs__k': 46}"
      ]
     },
     "execution_count": 70,
     "metadata": {},
     "output_type": "execute_result"
    }
   ],
   "source": [
    "# best number of features\n",
    "\n",
    "grid_search_dtc_mi.best_params_"
   ]
  },
  {
   "cell_type": "code",
   "execution_count": 71,
   "id": "6e5f7554",
   "metadata": {},
   "outputs": [
    {
     "data": {
      "text/plain": [
       "0.8563418842203283"
      ]
     },
     "execution_count": 71,
     "metadata": {},
     "output_type": "execute_result"
    }
   ],
   "source": [
    "# best accuracy\n",
    "\n",
    "grid_search_dtc_mi.best_score_"
   ]
  },
  {
   "cell_type": "code",
   "execution_count": 72,
   "id": "218c81eb",
   "metadata": {},
   "outputs": [
    {
     "data": {
      "application/pdf": "[encoded data removed]",
      "image/png": "[encoded data removed]",
      "text/plain": [
       "<Figure size 432x288 with 1 Axes>"
      ]
     },
     "metadata": {
      "needs_background": "light"
     },
     "output_type": "display_data"
    }
   ],
   "source": [
    "plot_features_cv(grid_search_dtc_mi)"
   ]
  },
  {
   "cell_type": "code",
   "execution_count": 73,
   "id": "40b4d8cf",
   "metadata": {},
   "outputs": [],
   "source": [
    "# MI \n",
    "# KNN"
   ]
  },
  {
   "cell_type": "code",
   "execution_count": 74,
   "id": "aa693591",
   "metadata": {},
   "outputs": [],
   "source": [
    "pipe_knn_mi = Pipeline([('fs', SelectKBest(score_func = mutual_info_classif)),\n",
    "                     ('knn', KNN())])\n",
    "grid_search_knn_mi = GridSearchCV(pipe_knn_mi, param, scoring = 'accuracy', \n",
    "                               n_jobs = -1, cv = 5)"
   ]
  },
  {
   "cell_type": "code",
   "execution_count": 75,
   "id": "5f32a68c",
   "metadata": {},
   "outputs": [
    {
     "data": {
      "text/plain": [
       "GridSearchCV(cv=5,\n",
       "             estimator=Pipeline(steps=[('fs',\n",
       "                                        SelectKBest(score_func=<function mutual_info_classif at 0x00000205FE87D040>)),\n",
       "                                       ('knn', KNeighborsClassifier())]),\n",
       "             n_jobs=-1,\n",
       "             param_grid={'fs__k': [1, 2, 3, 4, 5, 6, 7, 8, 9, 10, 11, 12, 13,\n",
       "                                   14, 15, 16, 17, 18, 19, 20, 21, 22, 23, 24,\n",
       "                                   25, 26, 27, 28, 29, 30, ...]},\n",
       "             scoring='accuracy')"
      ]
     },
     "execution_count": 75,
     "metadata": {},
     "output_type": "execute_result"
    }
   ],
   "source": [
    "grid_search_knn_mi.fit(X_train[best_features], y_train)"
   ]
  },
  {
   "cell_type": "code",
   "execution_count": 76,
   "id": "f4f8fd83",
   "metadata": {},
   "outputs": [
    {
     "data": {
      "text/plain": [
       "{'fs__k': 91}"
      ]
     },
     "execution_count": 76,
     "metadata": {},
     "output_type": "execute_result"
    }
   ],
   "source": [
    "# best number of features\n",
    "\n",
    "grid_search_knn_mi.best_params_"
   ]
  },
  {
   "cell_type": "code",
   "execution_count": 77,
   "id": "221fdfaa",
   "metadata": {},
   "outputs": [
    {
     "data": {
      "text/plain": [
       "0.902121319549814"
      ]
     },
     "execution_count": 77,
     "metadata": {},
     "output_type": "execute_result"
    }
   ],
   "source": [
    "# best accuracy\n",
    "\n",
    "grid_search_knn_mi.best_score_"
   ]
  },
  {
   "cell_type": "code",
   "execution_count": 78,
   "id": "b801a192",
   "metadata": {},
   "outputs": [
    {
     "data": {
      "application/pdf": "[encoded data removed]",
      "image/png": "[encoded data removed]",
      "text/plain": [
       "<Figure size 432x288 with 1 Axes>"
      ]
     },
     "metadata": {
      "needs_background": "light"
     },
     "output_type": "display_data"
    }
   ],
   "source": [
    "plot_features_cv(grid_search_knn_mi)"
   ]
  },
  {
   "cell_type": "code",
   "execution_count": 79,
   "id": "f6199f0a",
   "metadata": {},
   "outputs": [],
   "source": [
    "# ETA\n",
    "# DTC"
   ]
  },
  {
   "cell_type": "code",
   "execution_count": 80,
   "id": "993af718",
   "metadata": {},
   "outputs": [],
   "source": [
    "pipe_dtc_eta = Pipeline([('fs', SelectKBest(score_func = eta_squared)), \n",
    "                     ('dtc', DTC())])\n",
    "grid_search_dtc_eta = GridSearchCV(pipe_dtc_eta, param, scoring = 'accuracy', \n",
    "                           n_jobs = -1, cv = 5)"
   ]
  },
  {
   "cell_type": "code",
   "execution_count": 81,
   "id": "d73e94f8",
   "metadata": {},
   "outputs": [
    {
     "data": {
      "text/plain": [
       "GridSearchCV(cv=5,\n",
       "             estimator=Pipeline(steps=[('fs',\n",
       "                                        SelectKBest(score_func=<function eta_squared at 0x00000205FE8F9310>)),\n",
       "                                       ('dtc', DecisionTreeClassifier())]),\n",
       "             n_jobs=-1,\n",
       "             param_grid={'fs__k': [1, 2, 3, 4, 5, 6, 7, 8, 9, 10, 11, 12, 13,\n",
       "                                   14, 15, 16, 17, 18, 19, 20, 21, 22, 23, 24,\n",
       "                                   25, 26, 27, 28, 29, 30, ...]},\n",
       "             scoring='accuracy')"
      ]
     },
     "execution_count": 81,
     "metadata": {},
     "output_type": "execute_result"
    }
   ],
   "source": [
    "grid_search_dtc_eta.fit(X_train[best_features], y_train)"
   ]
  },
  {
   "cell_type": "code",
   "execution_count": 82,
   "id": "db63ace0",
   "metadata": {},
   "outputs": [
    {
     "data": {
      "text/plain": [
       "{'fs__k': 60}"
      ]
     },
     "execution_count": 82,
     "metadata": {},
     "output_type": "execute_result"
    }
   ],
   "source": [
    "# best number of features\n",
    "\n",
    "grid_search_dtc_eta.best_params_"
   ]
  },
  {
   "cell_type": "code",
   "execution_count": 83,
   "id": "fc8241ab",
   "metadata": {
    "scrolled": true
   },
   "outputs": [
    {
     "data": {
      "text/plain": [
       "0.8670651408367485"
      ]
     },
     "execution_count": 83,
     "metadata": {},
     "output_type": "execute_result"
    }
   ],
   "source": [
    "# best accuracy\n",
    "\n",
    "grid_search_dtc_eta.best_score_"
   ]
  },
  {
   "cell_type": "code",
   "execution_count": 84,
   "id": "32f99762",
   "metadata": {},
   "outputs": [
    {
     "data": {
      "application/pdf": "[encoded data removed]",
      "image/png": "[encoded data removed]",
      "text/plain": [
       "<Figure size 432x288 with 1 Axes>"
      ]
     },
     "metadata": {
      "needs_background": "light"
     },
     "output_type": "display_data"
    }
   ],
   "source": [
    "plot_features_cv(grid_search_dtc_eta)"
   ]
  },
  {
   "cell_type": "code",
   "execution_count": 85,
   "id": "fc32f195",
   "metadata": {},
   "outputs": [],
   "source": [
    "# ETA\n",
    "# KNN"
   ]
  },
  {
   "cell_type": "code",
   "execution_count": 86,
   "id": "52cd0171",
   "metadata": {},
   "outputs": [],
   "source": [
    "pipe_knn_eta = Pipeline([('fs', SelectKBest(score_func = eta_squared)), \n",
    "                     ('dtc', KNN())])\n",
    "grid_search_knn_eta = GridSearchCV(pipe_knn_eta, param, scoring = 'accuracy', \n",
    "                           n_jobs = -1, cv = 5)"
   ]
  },
  {
   "cell_type": "code",
   "execution_count": 87,
   "id": "19cd1639",
   "metadata": {},
   "outputs": [
    {
     "data": {
      "text/plain": [
       "GridSearchCV(cv=5,\n",
       "             estimator=Pipeline(steps=[('fs',\n",
       "                                        SelectKBest(score_func=<function eta_squared at 0x00000205FE8F9310>)),\n",
       "                                       ('dtc', KNeighborsClassifier())]),\n",
       "             n_jobs=-1,\n",
       "             param_grid={'fs__k': [1, 2, 3, 4, 5, 6, 7, 8, 9, 10, 11, 12, 13,\n",
       "                                   14, 15, 16, 17, 18, 19, 20, 21, 22, 23, 24,\n",
       "                                   25, 26, 27, 28, 29, 30, ...]},\n",
       "             scoring='accuracy')"
      ]
     },
     "execution_count": 87,
     "metadata": {},
     "output_type": "execute_result"
    }
   ],
   "source": [
    "grid_search_knn_eta.fit(X_train[best_features], y_train)"
   ]
  },
  {
   "cell_type": "code",
   "execution_count": 88,
   "id": "13936ce6",
   "metadata": {},
   "outputs": [
    {
     "data": {
      "text/plain": [
       "{'fs__k': 124}"
      ]
     },
     "execution_count": 88,
     "metadata": {},
     "output_type": "execute_result"
    }
   ],
   "source": [
    "# best number of features\n",
    "\n",
    "grid_search_knn_eta.best_params_"
   ]
  },
  {
   "cell_type": "code",
   "execution_count": 89,
   "id": "0d6d0243",
   "metadata": {},
   "outputs": [
    {
     "data": {
      "text/plain": [
       "0.901157229493706"
      ]
     },
     "execution_count": 89,
     "metadata": {},
     "output_type": "execute_result"
    }
   ],
   "source": [
    "# best accuracy\n",
    "\n",
    "grid_search_knn_eta.best_score_"
   ]
  },
  {
   "cell_type": "code",
   "execution_count": 90,
   "id": "59690f50",
   "metadata": {},
   "outputs": [
    {
     "data": {
      "application/pdf": "[encoded data removed]",
      "image/png": "[encoded data removed]",
      "text/plain": [
       "<Figure size 432x288 with 1 Axes>"
      ]
     },
     "metadata": {
      "needs_background": "light"
     },
     "output_type": "display_data"
    }
   ],
   "source": [
    "plot_features_cv(grid_search_dtc_eta)"
   ]
  },
  {
   "cell_type": "markdown",
   "id": "dd06743e",
   "metadata": {},
   "source": [
    "---"
   ]
  },
  {
   "cell_type": "code",
   "execution_count": 91,
   "id": "537753a5",
   "metadata": {},
   "outputs": [],
   "source": [
    "# Variance\n",
    "# DTC"
   ]
  },
  {
   "cell_type": "markdown",
   "id": "c5fbbdc9",
   "metadata": {},
   "source": [
    "Unlike the other score functions used so far, the variance does not take into account information about labels, thus it is an unsupervised method."
   ]
  },
  {
   "cell_type": "code",
   "execution_count": 92,
   "id": "4b92c012",
   "metadata": {},
   "outputs": [],
   "source": [
    "pipe_dtc_var = Pipeline([('fs', SelectKBest(score_func = variance)), \n",
    "                     ('dtc', DTC())])\n",
    "grid_search_dtc_var = GridSearchCV(pipe_dtc_var, param, scoring = 'accuracy', \n",
    "                           n_jobs = -1, cv = 5)"
   ]
  },
  {
   "cell_type": "code",
   "execution_count": 93,
   "id": "d30b3b33",
   "metadata": {
    "scrolled": true
   },
   "outputs": [
    {
     "data": {
      "text/plain": [
       "GridSearchCV(cv=5,\n",
       "             estimator=Pipeline(steps=[('fs',\n",
       "                                        SelectKBest(score_func=<function variance at 0x00000205FE8EF310>)),\n",
       "                                       ('dtc', DecisionTreeClassifier())]),\n",
       "             n_jobs=-1,\n",
       "             param_grid={'fs__k': [1, 2, 3, 4, 5, 6, 7, 8, 9, 10, 11, 12, 13,\n",
       "                                   14, 15, 16, 17, 18, 19, 20, 21, 22, 23, 24,\n",
       "                                   25, 26, 27, 28, 29, 30, ...]},\n",
       "             scoring='accuracy')"
      ]
     },
     "execution_count": 93,
     "metadata": {},
     "output_type": "execute_result"
    }
   ],
   "source": [
    "grid_search_dtc_var.fit(X_train[best_features], y_train)"
   ]
  },
  {
   "cell_type": "code",
   "execution_count": 94,
   "id": "f0213f03",
   "metadata": {},
   "outputs": [
    {
     "data": {
      "text/plain": [
       "{'fs__k': 56}"
      ]
     },
     "execution_count": 94,
     "metadata": {},
     "output_type": "execute_result"
    }
   ],
   "source": [
    "# best number of features\n",
    "\n",
    "grid_search_dtc_var.best_params_"
   ]
  },
  {
   "cell_type": "code",
   "execution_count": 95,
   "id": "7329bf18",
   "metadata": {
    "scrolled": true
   },
   "outputs": [
    {
     "data": {
      "text/plain": [
       "0.8601921940659019"
      ]
     },
     "execution_count": 95,
     "metadata": {},
     "output_type": "execute_result"
    }
   ],
   "source": [
    "# best accuracy\n",
    "\n",
    "grid_search_dtc_var.best_score_"
   ]
  },
  {
   "cell_type": "code",
   "execution_count": 96,
   "id": "8b20c2d3",
   "metadata": {},
   "outputs": [
    {
     "data": {
      "application/pdf": "[encoded data removed]",
      "image/png": "[encoded data removed]",
      "text/plain": [
       "<Figure size 432x288 with 1 Axes>"
      ]
     },
     "metadata": {
      "needs_background": "light"
     },
     "output_type": "display_data"
    }
   ],
   "source": [
    "plot_features_cv(grid_search_dtc_var)"
   ]
  },
  {
   "cell_type": "code",
   "execution_count": 97,
   "id": "647b98df",
   "metadata": {},
   "outputs": [],
   "source": [
    "# Variance\n",
    "# KNN"
   ]
  },
  {
   "cell_type": "code",
   "execution_count": 98,
   "id": "1f605fa4",
   "metadata": {},
   "outputs": [],
   "source": [
    "pipe_knn_var = Pipeline([('fs', SelectKBest(score_func = variance)), \n",
    "                     ('dtc', KNN())])\n",
    "grid_search_knn_var = GridSearchCV(pipe_knn_var, param, scoring = 'accuracy', \n",
    "                           n_jobs = -1, cv = 5)"
   ]
  },
  {
   "cell_type": "code",
   "execution_count": 99,
   "id": "79f42a45",
   "metadata": {},
   "outputs": [
    {
     "data": {
      "text/plain": [
       "GridSearchCV(cv=5,\n",
       "             estimator=Pipeline(steps=[('fs',\n",
       "                                        SelectKBest(score_func=<function variance at 0x00000205FE8EF310>)),\n",
       "                                       ('dtc', KNeighborsClassifier())]),\n",
       "             n_jobs=-1,\n",
       "             param_grid={'fs__k': [1, 2, 3, 4, 5, 6, 7, 8, 9, 10, 11, 12, 13,\n",
       "                                   14, 15, 16, 17, 18, 19, 20, 21, 22, 23, 24,\n",
       "                                   25, 26, 27, 28, 29, 30, ...]},\n",
       "             scoring='accuracy')"
      ]
     },
     "execution_count": 99,
     "metadata": {},
     "output_type": "execute_result"
    }
   ],
   "source": [
    "grid_search_knn_var.fit(X_train[best_features], y_train)"
   ]
  },
  {
   "cell_type": "code",
   "execution_count": 100,
   "id": "fe0886dd",
   "metadata": {},
   "outputs": [
    {
     "data": {
      "text/plain": [
       "{'fs__k': 103}"
      ]
     },
     "execution_count": 100,
     "metadata": {},
     "output_type": "execute_result"
    }
   ],
   "source": [
    "# best number of features\n",
    "\n",
    "grid_search_knn_var.best_params_"
   ]
  },
  {
   "cell_type": "code",
   "execution_count": 101,
   "id": "4a39e0df",
   "metadata": {},
   "outputs": [
    {
     "data": {
      "text/plain": [
       "0.9011577967167241"
      ]
     },
     "execution_count": 101,
     "metadata": {},
     "output_type": "execute_result"
    }
   ],
   "source": [
    "# best accuracy\n",
    "\n",
    "grid_search_knn_var.best_score_"
   ]
  },
  {
   "cell_type": "code",
   "execution_count": 102,
   "id": "0074f78f",
   "metadata": {},
   "outputs": [
    {
     "data": {
      "application/pdf": "[encoded data removed]",
      "image/png": "[encoded data removed]",
      "text/plain": [
       "<Figure size 432x288 with 1 Axes>"
      ]
     },
     "metadata": {
      "needs_background": "light"
     },
     "output_type": "display_data"
    }
   ],
   "source": [
    "plot_features_cv(grid_search_knn_var)"
   ]
  },
  {
   "cell_type": "code",
   "execution_count": 349,
   "id": "708240cf",
   "metadata": {},
   "outputs": [],
   "source": [
    "mi_best_idx = X_train.columns[np.argsort(mutual_info)[::-1]]\n",
    "f_best_idx = X_train.columns[np.argsort(attr_F)[::-1].values]\n",
    "eta_best_idx = X_train.columns[np.argsort(eta)[::-1].values]\n",
    "var_best_idx = X_train.columns[np.argsort(attr_var)[::-1].values]"
   ]
  },
  {
   "cell_type": "code",
   "execution_count": 350,
   "id": "89325e39",
   "metadata": {},
   "outputs": [
    {
     "name": "stdout",
     "output_type": "stream",
     "text": [
      "540\n",
      "0\n"
     ]
    }
   ],
   "source": [
    "filter_best_attr = [mi_best_idx, eta_best_idx, f_best_idx, var_best_idx, logit_best_30['n_features'], rfecv_svc_30['n_features']]\n",
    "# join the arrays preserving the order and removing duplicates\n",
    "filter_best_attr = dict.fromkeys(np.concatenate(filter_best_attr))\n",
    "print(len(filter_best_attr))\n",
    "ensamble_features = set(selected)\n",
    "for attr in ensamble_features:\n",
    "    if attr in filter_best_attr:\n",
    "        del filter_best_attr[attr]\n",
    "        \n",
    "max_accuracy = model.best_score #rfecv_dtc.cv_results_['mean_test_score'].max()\n",
    "new_features = []\n",
    "while filter_best_attr:\n",
    "    added_features = set()\n",
    "    n_added = 0\n",
    "    for attr in filter_best_attr:        \n",
    "        temp_features = ensamble_features.copy()\n",
    "        if attr in temp_features: continue\n",
    "        else:\n",
    "            temp_features.add(attr)\n",
    "            cls = DTC(random_state = 5)\n",
    "            scores = cross_val_score(cls, X_train[list(temp_features)], y_train, \n",
    "                                 cv = 5, n_jobs = -1)\n",
    "            mean_score = scores.mean()\n",
    "            if mean_score > max_accuracy:\n",
    "                ensamble_features.add(attr)\n",
    "                added_features.add(attr)\n",
    "                new_features.append(attr)\n",
    "                n_added += 1\n",
    "                max_accuracy = mean_score\n",
    "    print(n_added)\n",
    "    if not added_features:\n",
    "        break\n",
    "    for attr in added_features:\n",
    "        del filter_best_attr[attr]"
   ]
  },
  {
   "cell_type": "code",
   "execution_count": 117,
   "id": "146db0a1",
   "metadata": {},
   "outputs": [
    {
     "data": {
      "text/plain": [
       "0.872149538894955"
      ]
     },
     "execution_count": 117,
     "metadata": {},
     "output_type": "execute_result"
    }
   ],
   "source": [
    "max_accuracy"
   ]
  },
  {
   "cell_type": "code",
   "execution_count": 152,
   "id": "78ecf329",
   "metadata": {},
   "outputs": [
    {
     "name": "stdout",
     "output_type": "stream",
     "text": [
      "[]\n"
     ]
    }
   ],
   "source": [
    "# added features \n",
    "\n",
    "for attr in new_features:\n",
    "    print(features[attr])\n",
    "print(new_features)"
   ]
  },
  {
   "cell_type": "code",
   "execution_count": 153,
   "id": "f1bc9757",
   "metadata": {},
   "outputs": [
    {
     "name": "stdout",
     "output_type": "stream",
     "text": [
      "0.00%\n"
     ]
    }
   ],
   "source": [
    "increment = max_accuracy - rfecv_dtc.cv_results_['mean_test_score'].max()\n",
    "print(f'{increment:.2%}')"
   ]
  }
 ],
 "metadata": {
  "kernelspec": {
   "display_name": "Python 3 (ipykernel)",
   "language": "python",
   "name": "python3"
  },
  "language_info": {
   "codemirror_mode": {
    "name": "ipython",
    "version": 3
   },
   "file_extension": ".py",
   "mimetype": "text/x-python",
   "name": "python",
   "nbconvert_exporter": "python",
   "pygments_lexer": "ipython3",
   "version": "3.8.13"
  }
 },
 "nbformat": 4,
 "nbformat_minor": 5
}
